{
 "cells": [
  {
   "cell_type": "code",
   "execution_count": 1,
   "metadata": {},
   "outputs": [],
   "source": [
    "import pandas as pd\n",
    "import plotly.express as px"
   ]
  },
  {
   "cell_type": "code",
   "execution_count": 21,
   "metadata": {},
   "outputs": [
    {
     "data": {
      "text/html": [
       "<div>\n",
       "<style scoped>\n",
       "    .dataframe tbody tr th:only-of-type {\n",
       "        vertical-align: middle;\n",
       "    }\n",
       "\n",
       "    .dataframe tbody tr th {\n",
       "        vertical-align: top;\n",
       "    }\n",
       "\n",
       "    .dataframe thead th {\n",
       "        text-align: right;\n",
       "    }\n",
       "</style>\n",
       "<table border=\"1\" class=\"dataframe\">\n",
       "  <thead>\n",
       "    <tr style=\"text-align: right;\">\n",
       "      <th></th>\n",
       "      <th>country</th>\n",
       "      <th>continent</th>\n",
       "      <th>year</th>\n",
       "      <th>lifeExp</th>\n",
       "      <th>pop</th>\n",
       "      <th>gdpPercap</th>\n",
       "      <th>iso_alpha</th>\n",
       "      <th>iso_num</th>\n",
       "    </tr>\n",
       "  </thead>\n",
       "  <tbody>\n",
       "    <tr>\n",
       "      <th>0</th>\n",
       "      <td>Afghanistan</td>\n",
       "      <td>Asia</td>\n",
       "      <td>1952</td>\n",
       "      <td>28.801</td>\n",
       "      <td>8425333</td>\n",
       "      <td>779.445314</td>\n",
       "      <td>AFG</td>\n",
       "      <td>4</td>\n",
       "    </tr>\n",
       "    <tr>\n",
       "      <th>1</th>\n",
       "      <td>Afghanistan</td>\n",
       "      <td>Asia</td>\n",
       "      <td>1957</td>\n",
       "      <td>30.332</td>\n",
       "      <td>9240934</td>\n",
       "      <td>820.853030</td>\n",
       "      <td>AFG</td>\n",
       "      <td>4</td>\n",
       "    </tr>\n",
       "    <tr>\n",
       "      <th>2</th>\n",
       "      <td>Afghanistan</td>\n",
       "      <td>Asia</td>\n",
       "      <td>1962</td>\n",
       "      <td>31.997</td>\n",
       "      <td>10267083</td>\n",
       "      <td>853.100710</td>\n",
       "      <td>AFG</td>\n",
       "      <td>4</td>\n",
       "    </tr>\n",
       "    <tr>\n",
       "      <th>3</th>\n",
       "      <td>Afghanistan</td>\n",
       "      <td>Asia</td>\n",
       "      <td>1967</td>\n",
       "      <td>34.020</td>\n",
       "      <td>11537966</td>\n",
       "      <td>836.197138</td>\n",
       "      <td>AFG</td>\n",
       "      <td>4</td>\n",
       "    </tr>\n",
       "    <tr>\n",
       "      <th>4</th>\n",
       "      <td>Afghanistan</td>\n",
       "      <td>Asia</td>\n",
       "      <td>1972</td>\n",
       "      <td>36.088</td>\n",
       "      <td>13079460</td>\n",
       "      <td>739.981106</td>\n",
       "      <td>AFG</td>\n",
       "      <td>4</td>\n",
       "    </tr>\n",
       "    <tr>\n",
       "      <th>5</th>\n",
       "      <td>Afghanistan</td>\n",
       "      <td>Asia</td>\n",
       "      <td>1977</td>\n",
       "      <td>38.438</td>\n",
       "      <td>14880372</td>\n",
       "      <td>786.113360</td>\n",
       "      <td>AFG</td>\n",
       "      <td>4</td>\n",
       "    </tr>\n",
       "    <tr>\n",
       "      <th>6</th>\n",
       "      <td>Afghanistan</td>\n",
       "      <td>Asia</td>\n",
       "      <td>1982</td>\n",
       "      <td>39.854</td>\n",
       "      <td>12881816</td>\n",
       "      <td>978.011439</td>\n",
       "      <td>AFG</td>\n",
       "      <td>4</td>\n",
       "    </tr>\n",
       "    <tr>\n",
       "      <th>7</th>\n",
       "      <td>Afghanistan</td>\n",
       "      <td>Asia</td>\n",
       "      <td>1987</td>\n",
       "      <td>40.822</td>\n",
       "      <td>13867957</td>\n",
       "      <td>852.395945</td>\n",
       "      <td>AFG</td>\n",
       "      <td>4</td>\n",
       "    </tr>\n",
       "    <tr>\n",
       "      <th>8</th>\n",
       "      <td>Afghanistan</td>\n",
       "      <td>Asia</td>\n",
       "      <td>1992</td>\n",
       "      <td>41.674</td>\n",
       "      <td>16317921</td>\n",
       "      <td>649.341395</td>\n",
       "      <td>AFG</td>\n",
       "      <td>4</td>\n",
       "    </tr>\n",
       "    <tr>\n",
       "      <th>9</th>\n",
       "      <td>Afghanistan</td>\n",
       "      <td>Asia</td>\n",
       "      <td>1997</td>\n",
       "      <td>41.763</td>\n",
       "      <td>22227415</td>\n",
       "      <td>635.341351</td>\n",
       "      <td>AFG</td>\n",
       "      <td>4</td>\n",
       "    </tr>\n",
       "  </tbody>\n",
       "</table>\n",
       "</div>"
      ],
      "text/plain": [
       "       country continent  year  lifeExp       pop   gdpPercap iso_alpha  \\\n",
       "0  Afghanistan      Asia  1952   28.801   8425333  779.445314       AFG   \n",
       "1  Afghanistan      Asia  1957   30.332   9240934  820.853030       AFG   \n",
       "2  Afghanistan      Asia  1962   31.997  10267083  853.100710       AFG   \n",
       "3  Afghanistan      Asia  1967   34.020  11537966  836.197138       AFG   \n",
       "4  Afghanistan      Asia  1972   36.088  13079460  739.981106       AFG   \n",
       "5  Afghanistan      Asia  1977   38.438  14880372  786.113360       AFG   \n",
       "6  Afghanistan      Asia  1982   39.854  12881816  978.011439       AFG   \n",
       "7  Afghanistan      Asia  1987   40.822  13867957  852.395945       AFG   \n",
       "8  Afghanistan      Asia  1992   41.674  16317921  649.341395       AFG   \n",
       "9  Afghanistan      Asia  1997   41.763  22227415  635.341351       AFG   \n",
       "\n",
       "   iso_num  \n",
       "0        4  \n",
       "1        4  \n",
       "2        4  \n",
       "3        4  \n",
       "4        4  \n",
       "5        4  \n",
       "6        4  \n",
       "7        4  \n",
       "8        4  \n",
       "9        4  "
      ]
     },
     "execution_count": 21,
     "metadata": {},
     "output_type": "execute_result"
    }
   ],
   "source": [
    "df = px.data.gapminder() \n",
    "df.head(10)"
   ]
  },
  {
   "cell_type": "code",
   "execution_count": 22,
   "metadata": {},
   "outputs": [],
   "source": [
    "asian_df = df[['country', 'continent', 'lifeExp', 'iso_alpha']].query('continent == \"Asia\"')"
   ]
  },
  {
   "cell_type": "code",
   "execution_count": 23,
   "metadata": {},
   "outputs": [
    {
     "data": {
      "text/html": [
       "<div>\n",
       "<style scoped>\n",
       "    .dataframe tbody tr th:only-of-type {\n",
       "        vertical-align: middle;\n",
       "    }\n",
       "\n",
       "    .dataframe tbody tr th {\n",
       "        vertical-align: top;\n",
       "    }\n",
       "\n",
       "    .dataframe thead th {\n",
       "        text-align: right;\n",
       "    }\n",
       "</style>\n",
       "<table border=\"1\" class=\"dataframe\">\n",
       "  <thead>\n",
       "    <tr style=\"text-align: right;\">\n",
       "      <th></th>\n",
       "      <th>country</th>\n",
       "      <th>continent</th>\n",
       "      <th>lifeExp</th>\n",
       "      <th>iso_alpha</th>\n",
       "    </tr>\n",
       "  </thead>\n",
       "  <tbody>\n",
       "    <tr>\n",
       "      <th>0</th>\n",
       "      <td>Afghanistan</td>\n",
       "      <td>Asia</td>\n",
       "      <td>28.801</td>\n",
       "      <td>AFG</td>\n",
       "    </tr>\n",
       "    <tr>\n",
       "      <th>1</th>\n",
       "      <td>Afghanistan</td>\n",
       "      <td>Asia</td>\n",
       "      <td>30.332</td>\n",
       "      <td>AFG</td>\n",
       "    </tr>\n",
       "    <tr>\n",
       "      <th>2</th>\n",
       "      <td>Afghanistan</td>\n",
       "      <td>Asia</td>\n",
       "      <td>31.997</td>\n",
       "      <td>AFG</td>\n",
       "    </tr>\n",
       "    <tr>\n",
       "      <th>3</th>\n",
       "      <td>Afghanistan</td>\n",
       "      <td>Asia</td>\n",
       "      <td>34.020</td>\n",
       "      <td>AFG</td>\n",
       "    </tr>\n",
       "    <tr>\n",
       "      <th>4</th>\n",
       "      <td>Afghanistan</td>\n",
       "      <td>Asia</td>\n",
       "      <td>36.088</td>\n",
       "      <td>AFG</td>\n",
       "    </tr>\n",
       "  </tbody>\n",
       "</table>\n",
       "</div>"
      ],
      "text/plain": [
       "       country continent  lifeExp iso_alpha\n",
       "0  Afghanistan      Asia   28.801       AFG\n",
       "1  Afghanistan      Asia   30.332       AFG\n",
       "2  Afghanistan      Asia   31.997       AFG\n",
       "3  Afghanistan      Asia   34.020       AFG\n",
       "4  Afghanistan      Asia   36.088       AFG"
      ]
     },
     "execution_count": 23,
     "metadata": {},
     "output_type": "execute_result"
    }
   ],
   "source": [
    "asian_df.head()"
   ]
  },
  {
   "cell_type": "code",
   "execution_count": 18,
   "metadata": {},
   "outputs": [
    {
     "data": {
      "text/html": [
       "<div>\n",
       "<style scoped>\n",
       "    .dataframe tbody tr th:only-of-type {\n",
       "        vertical-align: middle;\n",
       "    }\n",
       "\n",
       "    .dataframe tbody tr th {\n",
       "        vertical-align: top;\n",
       "    }\n",
       "\n",
       "    .dataframe thead th {\n",
       "        text-align: right;\n",
       "    }\n",
       "</style>\n",
       "<table border=\"1\" class=\"dataframe\">\n",
       "  <thead>\n",
       "    <tr style=\"text-align: right;\">\n",
       "      <th></th>\n",
       "      <th>continent</th>\n",
       "      <th>lifeExp</th>\n",
       "    </tr>\n",
       "  </thead>\n",
       "  <tbody>\n",
       "    <tr>\n",
       "      <th>0</th>\n",
       "      <td>Asia</td>\n",
       "      <td>60.064903</td>\n",
       "    </tr>\n",
       "  </tbody>\n",
       "</table>\n",
       "</div>"
      ],
      "text/plain": [
       "  continent    lifeExp\n",
       "0      Asia  60.064903"
      ]
     },
     "execution_count": 18,
     "metadata": {},
     "output_type": "execute_result"
    }
   ],
   "source": [
    "asian_df.groupby('continent').mean().reset_index()"
   ]
  },
  {
   "cell_type": "code",
   "execution_count": 34,
   "metadata": {},
   "outputs": [
    {
     "data": {
      "application/vnd.plotly.v1+json": {
       "config": {
        "plotlyServerURL": "https://plot.ly"
       },
       "data": [
        {
         "coloraxis": "coloraxis",
         "geo": "geo",
         "hovertemplate": "<b>%{hovertext}</b><br><br>iso_alpha=%{location}<br>lifeExp=%{z}<extra></extra>",
         "hovertext": [
          "Afghanistan",
          "Afghanistan",
          "Afghanistan",
          "Afghanistan",
          "Afghanistan",
          "Afghanistan",
          "Afghanistan",
          "Afghanistan",
          "Afghanistan",
          "Afghanistan",
          "Afghanistan",
          "Afghanistan",
          "Bahrain",
          "Bahrain",
          "Bahrain",
          "Bahrain",
          "Bahrain",
          "Bahrain",
          "Bahrain",
          "Bahrain",
          "Bahrain",
          "Bahrain",
          "Bahrain",
          "Bahrain",
          "Bangladesh",
          "Bangladesh",
          "Bangladesh",
          "Bangladesh",
          "Bangladesh",
          "Bangladesh",
          "Bangladesh",
          "Bangladesh",
          "Bangladesh",
          "Bangladesh",
          "Bangladesh",
          "Bangladesh",
          "Cambodia",
          "Cambodia",
          "Cambodia",
          "Cambodia",
          "Cambodia",
          "Cambodia",
          "Cambodia",
          "Cambodia",
          "Cambodia",
          "Cambodia",
          "Cambodia",
          "Cambodia",
          "China",
          "China",
          "China",
          "China",
          "China",
          "China",
          "China",
          "China",
          "China",
          "China",
          "China",
          "China",
          "Hong Kong, China",
          "Hong Kong, China",
          "Hong Kong, China",
          "Hong Kong, China",
          "Hong Kong, China",
          "Hong Kong, China",
          "Hong Kong, China",
          "Hong Kong, China",
          "Hong Kong, China",
          "Hong Kong, China",
          "Hong Kong, China",
          "Hong Kong, China",
          "India",
          "India",
          "India",
          "India",
          "India",
          "India",
          "India",
          "India",
          "India",
          "India",
          "India",
          "India",
          "Indonesia",
          "Indonesia",
          "Indonesia",
          "Indonesia",
          "Indonesia",
          "Indonesia",
          "Indonesia",
          "Indonesia",
          "Indonesia",
          "Indonesia",
          "Indonesia",
          "Indonesia",
          "Iran",
          "Iran",
          "Iran",
          "Iran",
          "Iran",
          "Iran",
          "Iran",
          "Iran",
          "Iran",
          "Iran",
          "Iran",
          "Iran",
          "Iraq",
          "Iraq",
          "Iraq",
          "Iraq",
          "Iraq",
          "Iraq",
          "Iraq",
          "Iraq",
          "Iraq",
          "Iraq",
          "Iraq",
          "Iraq",
          "Israel",
          "Israel",
          "Israel",
          "Israel",
          "Israel",
          "Israel",
          "Israel",
          "Israel",
          "Israel",
          "Israel",
          "Israel",
          "Israel",
          "Japan",
          "Japan",
          "Japan",
          "Japan",
          "Japan",
          "Japan",
          "Japan",
          "Japan",
          "Japan",
          "Japan",
          "Japan",
          "Japan",
          "Jordan",
          "Jordan",
          "Jordan",
          "Jordan",
          "Jordan",
          "Jordan",
          "Jordan",
          "Jordan",
          "Jordan",
          "Jordan",
          "Jordan",
          "Jordan",
          "Korea, Dem. Rep.",
          "Korea, Dem. Rep.",
          "Korea, Dem. Rep.",
          "Korea, Dem. Rep.",
          "Korea, Dem. Rep.",
          "Korea, Dem. Rep.",
          "Korea, Dem. Rep.",
          "Korea, Dem. Rep.",
          "Korea, Dem. Rep.",
          "Korea, Dem. Rep.",
          "Korea, Dem. Rep.",
          "Korea, Dem. Rep.",
          "Korea, Rep.",
          "Korea, Rep.",
          "Korea, Rep.",
          "Korea, Rep.",
          "Korea, Rep.",
          "Korea, Rep.",
          "Korea, Rep.",
          "Korea, Rep.",
          "Korea, Rep.",
          "Korea, Rep.",
          "Korea, Rep.",
          "Korea, Rep.",
          "Kuwait",
          "Kuwait",
          "Kuwait",
          "Kuwait",
          "Kuwait",
          "Kuwait",
          "Kuwait",
          "Kuwait",
          "Kuwait",
          "Kuwait",
          "Kuwait",
          "Kuwait",
          "Lebanon",
          "Lebanon",
          "Lebanon",
          "Lebanon",
          "Lebanon",
          "Lebanon",
          "Lebanon",
          "Lebanon",
          "Lebanon",
          "Lebanon",
          "Lebanon",
          "Lebanon",
          "Malaysia",
          "Malaysia",
          "Malaysia",
          "Malaysia",
          "Malaysia",
          "Malaysia",
          "Malaysia",
          "Malaysia",
          "Malaysia",
          "Malaysia",
          "Malaysia",
          "Malaysia",
          "Mongolia",
          "Mongolia",
          "Mongolia",
          "Mongolia",
          "Mongolia",
          "Mongolia",
          "Mongolia",
          "Mongolia",
          "Mongolia",
          "Mongolia",
          "Mongolia",
          "Mongolia",
          "Myanmar",
          "Myanmar",
          "Myanmar",
          "Myanmar",
          "Myanmar",
          "Myanmar",
          "Myanmar",
          "Myanmar",
          "Myanmar",
          "Myanmar",
          "Myanmar",
          "Myanmar",
          "Nepal",
          "Nepal",
          "Nepal",
          "Nepal",
          "Nepal",
          "Nepal",
          "Nepal",
          "Nepal",
          "Nepal",
          "Nepal",
          "Nepal",
          "Nepal",
          "Oman",
          "Oman",
          "Oman",
          "Oman",
          "Oman",
          "Oman",
          "Oman",
          "Oman",
          "Oman",
          "Oman",
          "Oman",
          "Oman",
          "Pakistan",
          "Pakistan",
          "Pakistan",
          "Pakistan",
          "Pakistan",
          "Pakistan",
          "Pakistan",
          "Pakistan",
          "Pakistan",
          "Pakistan",
          "Pakistan",
          "Pakistan",
          "Philippines",
          "Philippines",
          "Philippines",
          "Philippines",
          "Philippines",
          "Philippines",
          "Philippines",
          "Philippines",
          "Philippines",
          "Philippines",
          "Philippines",
          "Philippines",
          "Saudi Arabia",
          "Saudi Arabia",
          "Saudi Arabia",
          "Saudi Arabia",
          "Saudi Arabia",
          "Saudi Arabia",
          "Saudi Arabia",
          "Saudi Arabia",
          "Saudi Arabia",
          "Saudi Arabia",
          "Saudi Arabia",
          "Saudi Arabia",
          "Singapore",
          "Singapore",
          "Singapore",
          "Singapore",
          "Singapore",
          "Singapore",
          "Singapore",
          "Singapore",
          "Singapore",
          "Singapore",
          "Singapore",
          "Singapore",
          "Sri Lanka",
          "Sri Lanka",
          "Sri Lanka",
          "Sri Lanka",
          "Sri Lanka",
          "Sri Lanka",
          "Sri Lanka",
          "Sri Lanka",
          "Sri Lanka",
          "Sri Lanka",
          "Sri Lanka",
          "Sri Lanka",
          "Syria",
          "Syria",
          "Syria",
          "Syria",
          "Syria",
          "Syria",
          "Syria",
          "Syria",
          "Syria",
          "Syria",
          "Syria",
          "Syria",
          "Taiwan",
          "Taiwan",
          "Taiwan",
          "Taiwan",
          "Taiwan",
          "Taiwan",
          "Taiwan",
          "Taiwan",
          "Taiwan",
          "Taiwan",
          "Taiwan",
          "Taiwan",
          "Thailand",
          "Thailand",
          "Thailand",
          "Thailand",
          "Thailand",
          "Thailand",
          "Thailand",
          "Thailand",
          "Thailand",
          "Thailand",
          "Thailand",
          "Thailand",
          "Vietnam",
          "Vietnam",
          "Vietnam",
          "Vietnam",
          "Vietnam",
          "Vietnam",
          "Vietnam",
          "Vietnam",
          "Vietnam",
          "Vietnam",
          "Vietnam",
          "Vietnam",
          "West Bank and Gaza",
          "West Bank and Gaza",
          "West Bank and Gaza",
          "West Bank and Gaza",
          "West Bank and Gaza",
          "West Bank and Gaza",
          "West Bank and Gaza",
          "West Bank and Gaza",
          "West Bank and Gaza",
          "West Bank and Gaza",
          "West Bank and Gaza",
          "West Bank and Gaza",
          "Yemen, Rep.",
          "Yemen, Rep.",
          "Yemen, Rep.",
          "Yemen, Rep.",
          "Yemen, Rep.",
          "Yemen, Rep.",
          "Yemen, Rep.",
          "Yemen, Rep.",
          "Yemen, Rep.",
          "Yemen, Rep.",
          "Yemen, Rep.",
          "Yemen, Rep."
         ],
         "locations": [
          "AFG",
          "AFG",
          "AFG",
          "AFG",
          "AFG",
          "AFG",
          "AFG",
          "AFG",
          "AFG",
          "AFG",
          "AFG",
          "AFG",
          "BHR",
          "BHR",
          "BHR",
          "BHR",
          "BHR",
          "BHR",
          "BHR",
          "BHR",
          "BHR",
          "BHR",
          "BHR",
          "BHR",
          "BGD",
          "BGD",
          "BGD",
          "BGD",
          "BGD",
          "BGD",
          "BGD",
          "BGD",
          "BGD",
          "BGD",
          "BGD",
          "BGD",
          "KHM",
          "KHM",
          "KHM",
          "KHM",
          "KHM",
          "KHM",
          "KHM",
          "KHM",
          "KHM",
          "KHM",
          "KHM",
          "KHM",
          "CHN",
          "CHN",
          "CHN",
          "CHN",
          "CHN",
          "CHN",
          "CHN",
          "CHN",
          "CHN",
          "CHN",
          "CHN",
          "CHN",
          "HKG",
          "HKG",
          "HKG",
          "HKG",
          "HKG",
          "HKG",
          "HKG",
          "HKG",
          "HKG",
          "HKG",
          "HKG",
          "HKG",
          "IND",
          "IND",
          "IND",
          "IND",
          "IND",
          "IND",
          "IND",
          "IND",
          "IND",
          "IND",
          "IND",
          "IND",
          "IDN",
          "IDN",
          "IDN",
          "IDN",
          "IDN",
          "IDN",
          "IDN",
          "IDN",
          "IDN",
          "IDN",
          "IDN",
          "IDN",
          "IRN",
          "IRN",
          "IRN",
          "IRN",
          "IRN",
          "IRN",
          "IRN",
          "IRN",
          "IRN",
          "IRN",
          "IRN",
          "IRN",
          "IRQ",
          "IRQ",
          "IRQ",
          "IRQ",
          "IRQ",
          "IRQ",
          "IRQ",
          "IRQ",
          "IRQ",
          "IRQ",
          "IRQ",
          "IRQ",
          "ISR",
          "ISR",
          "ISR",
          "ISR",
          "ISR",
          "ISR",
          "ISR",
          "ISR",
          "ISR",
          "ISR",
          "ISR",
          "ISR",
          "JPN",
          "JPN",
          "JPN",
          "JPN",
          "JPN",
          "JPN",
          "JPN",
          "JPN",
          "JPN",
          "JPN",
          "JPN",
          "JPN",
          "JOR",
          "JOR",
          "JOR",
          "JOR",
          "JOR",
          "JOR",
          "JOR",
          "JOR",
          "JOR",
          "JOR",
          "JOR",
          "JOR",
          "KOR",
          "KOR",
          "KOR",
          "KOR",
          "KOR",
          "KOR",
          "KOR",
          "KOR",
          "KOR",
          "KOR",
          "KOR",
          "KOR",
          "KOR",
          "KOR",
          "KOR",
          "KOR",
          "KOR",
          "KOR",
          "KOR",
          "KOR",
          "KOR",
          "KOR",
          "KOR",
          "KOR",
          "KWT",
          "KWT",
          "KWT",
          "KWT",
          "KWT",
          "KWT",
          "KWT",
          "KWT",
          "KWT",
          "KWT",
          "KWT",
          "KWT",
          "LBN",
          "LBN",
          "LBN",
          "LBN",
          "LBN",
          "LBN",
          "LBN",
          "LBN",
          "LBN",
          "LBN",
          "LBN",
          "LBN",
          "MYS",
          "MYS",
          "MYS",
          "MYS",
          "MYS",
          "MYS",
          "MYS",
          "MYS",
          "MYS",
          "MYS",
          "MYS",
          "MYS",
          "MNG",
          "MNG",
          "MNG",
          "MNG",
          "MNG",
          "MNG",
          "MNG",
          "MNG",
          "MNG",
          "MNG",
          "MNG",
          "MNG",
          "MMR",
          "MMR",
          "MMR",
          "MMR",
          "MMR",
          "MMR",
          "MMR",
          "MMR",
          "MMR",
          "MMR",
          "MMR",
          "MMR",
          "NPL",
          "NPL",
          "NPL",
          "NPL",
          "NPL",
          "NPL",
          "NPL",
          "NPL",
          "NPL",
          "NPL",
          "NPL",
          "NPL",
          "OMN",
          "OMN",
          "OMN",
          "OMN",
          "OMN",
          "OMN",
          "OMN",
          "OMN",
          "OMN",
          "OMN",
          "OMN",
          "OMN",
          "PAK",
          "PAK",
          "PAK",
          "PAK",
          "PAK",
          "PAK",
          "PAK",
          "PAK",
          "PAK",
          "PAK",
          "PAK",
          "PAK",
          "PHL",
          "PHL",
          "PHL",
          "PHL",
          "PHL",
          "PHL",
          "PHL",
          "PHL",
          "PHL",
          "PHL",
          "PHL",
          "PHL",
          "SAU",
          "SAU",
          "SAU",
          "SAU",
          "SAU",
          "SAU",
          "SAU",
          "SAU",
          "SAU",
          "SAU",
          "SAU",
          "SAU",
          "SGP",
          "SGP",
          "SGP",
          "SGP",
          "SGP",
          "SGP",
          "SGP",
          "SGP",
          "SGP",
          "SGP",
          "SGP",
          "SGP",
          "LKA",
          "LKA",
          "LKA",
          "LKA",
          "LKA",
          "LKA",
          "LKA",
          "LKA",
          "LKA",
          "LKA",
          "LKA",
          "LKA",
          "SYR",
          "SYR",
          "SYR",
          "SYR",
          "SYR",
          "SYR",
          "SYR",
          "SYR",
          "SYR",
          "SYR",
          "SYR",
          "SYR",
          "TWN",
          "TWN",
          "TWN",
          "TWN",
          "TWN",
          "TWN",
          "TWN",
          "TWN",
          "TWN",
          "TWN",
          "TWN",
          "TWN",
          "THA",
          "THA",
          "THA",
          "THA",
          "THA",
          "THA",
          "THA",
          "THA",
          "THA",
          "THA",
          "THA",
          "THA",
          "VNM",
          "VNM",
          "VNM",
          "VNM",
          "VNM",
          "VNM",
          "VNM",
          "VNM",
          "VNM",
          "VNM",
          "VNM",
          "VNM",
          "PSE",
          "PSE",
          "PSE",
          "PSE",
          "PSE",
          "PSE",
          "PSE",
          "PSE",
          "PSE",
          "PSE",
          "PSE",
          "PSE",
          "YEM",
          "YEM",
          "YEM",
          "YEM",
          "YEM",
          "YEM",
          "YEM",
          "YEM",
          "YEM",
          "YEM",
          "YEM",
          "YEM"
         ],
         "name": "",
         "type": "choropleth",
         "z": [
          28.801,
          30.331999999999997,
          31.997,
          34.02,
          36.088,
          38.438,
          39.854,
          40.821999999999996,
          41.674,
          41.763000000000005,
          42.129,
          43.828,
          50.93899999999999,
          53.832,
          56.923,
          59.923,
          63.3,
          65.593,
          69.05199999999999,
          70.75,
          72.601,
          73.925,
          74.795,
          75.635,
          37.484,
          39.348,
          41.216,
          43.453,
          45.251999999999995,
          46.923,
          50.00899999999999,
          52.818999999999996,
          56.018,
          59.412,
          62.013000000000005,
          64.062,
          39.417,
          41.36600000000001,
          43.415,
          45.415,
          40.317,
          31.22,
          50.957,
          53.913999999999994,
          55.803000000000004,
          56.534,
          56.751999999999995,
          59.723,
          44,
          50.54896,
          44.50136,
          58.381119999999996,
          63.118880000000004,
          63.96736,
          65.525,
          67.274,
          68.69,
          70.426,
          72.028,
          72.961,
          60.96,
          64.75,
          67.65,
          70,
          72,
          73.6,
          75.45,
          76.2,
          77.601,
          80,
          81.495,
          82.208,
          37.373000000000005,
          40.249,
          43.605,
          47.193000000000005,
          50.651,
          54.208,
          56.596000000000004,
          58.553000000000004,
          60.223,
          61.765,
          62.879,
          64.69800000000001,
          37.468,
          39.918,
          42.518,
          45.964,
          49.203,
          52.702,
          56.159,
          60.137,
          62.681000000000004,
          66.041,
          68.58800000000001,
          70.65,
          44.869,
          47.181000000000004,
          49.325,
          52.468999999999994,
          55.233999999999995,
          57.702,
          59.62,
          63.04,
          65.742,
          68.042,
          69.45100000000001,
          70.964,
          45.32,
          48.437,
          51.457,
          54.458999999999996,
          56.95,
          60.413000000000004,
          62.038000000000004,
          65.044,
          59.461000000000006,
          58.81100000000001,
          57.04600000000001,
          59.545,
          65.39,
          67.84,
          69.39,
          70.75,
          71.63,
          73.06,
          74.45,
          75.6,
          76.93,
          78.26899999999999,
          79.696,
          80.745,
          63.03,
          65.5,
          68.73,
          71.43,
          73.42,
          75.38,
          77.11,
          78.67,
          79.36,
          80.69,
          82,
          82.603,
          43.158,
          45.669,
          48.126000000000005,
          51.629,
          56.528,
          61.13399999999999,
          63.739,
          65.869,
          68.015,
          69.77199999999999,
          71.263,
          72.535,
          50.056000000000004,
          54.081,
          56.656000000000006,
          59.942,
          63.983000000000004,
          67.15899999999999,
          69.1,
          70.64699999999999,
          69.97800000000001,
          67.727,
          66.66199999999999,
          67.297,
          47.453,
          52.681000000000004,
          55.292,
          57.716,
          62.611999999999995,
          64.766,
          67.123,
          69.81,
          72.244,
          74.64699999999999,
          77.045,
          78.623,
          55.565,
          58.033,
          60.47,
          64.624,
          67.712,
          69.343,
          71.309,
          74.17399999999999,
          75.19,
          76.156,
          76.904,
          77.58800000000001,
          55.928000000000004,
          59.489,
          62.093999999999994,
          63.87,
          65.421,
          66.09899999999999,
          66.983,
          67.926,
          69.292,
          70.265,
          71.028,
          71.993,
          48.463,
          52.102,
          55.736999999999995,
          59.371,
          63.01,
          65.256,
          68,
          69.5,
          70.693,
          71.938,
          73.044,
          74.241,
          42.244,
          45.248000000000005,
          48.251000000000005,
          51.253,
          53.754,
          55.49100000000001,
          57.489,
          60.222,
          61.271,
          63.625,
          65.033,
          66.803,
          36.319,
          41.905,
          45.108000000000004,
          49.379,
          53.07,
          56.059,
          58.056000000000004,
          58.339,
          59.32,
          60.328,
          59.908,
          62.068999999999996,
          36.157,
          37.686,
          39.393,
          41.472,
          43.971000000000004,
          46.748000000000005,
          49.593999999999994,
          52.537,
          55.727,
          59.426,
          61.34,
          63.785,
          37.578,
          40.08,
          43.165,
          46.988,
          52.143,
          57.367,
          62.728,
          67.734,
          71.197,
          72.499,
          74.193,
          75.64,
          43.43600000000001,
          45.556999999999995,
          47.67,
          49.8,
          51.928999999999995,
          54.043,
          56.158,
          58.245,
          60.838,
          61.818000000000005,
          63.61,
          65.483,
          47.751999999999995,
          51.333999999999996,
          54.757,
          56.393,
          58.065,
          60.06,
          62.082,
          64.15100000000001,
          66.458,
          68.564,
          70.303,
          71.688,
          39.875,
          42.868,
          45.913999999999994,
          49.901,
          53.886,
          58.69,
          63.012,
          66.295,
          68.768,
          70.533,
          71.626,
          72.777,
          60.396,
          63.178999999999995,
          65.798,
          67.946,
          69.521,
          70.795,
          71.76,
          73.56,
          75.788,
          77.158,
          78.77,
          79.972,
          57.593,
          61.456,
          62.192,
          64.266,
          65.042,
          65.949,
          68.757,
          69.01100000000001,
          70.37899999999999,
          70.457,
          70.815,
          72.396,
          45.883,
          48.284,
          50.305,
          53.655,
          57.29600000000001,
          61.195,
          64.59,
          66.97399999999999,
          69.249,
          71.527,
          73.053,
          74.143,
          58.5,
          62.4,
          65.2,
          67.5,
          69.39,
          70.59,
          72.16,
          73.4,
          74.26,
          75.25,
          76.99,
          78.4,
          50.848,
          53.63,
          56.06100000000001,
          58.285,
          60.405,
          62.494,
          64.597,
          66.084,
          67.298,
          67.521,
          68.564,
          70.616,
          40.412,
          42.887,
          45.363,
          47.838,
          50.254,
          55.763999999999996,
          58.816,
          62.82,
          67.66199999999999,
          70.672,
          73.017,
          74.249,
          43.16,
          45.67100000000001,
          48.126999999999995,
          51.631,
          56.532,
          60.765,
          64.406,
          67.046,
          69.718,
          71.096,
          72.37,
          73.422,
          32.548,
          33.97,
          35.18,
          36.984,
          39.848,
          44.175,
          49.113,
          52.922,
          55.599,
          58.02,
          60.308,
          62.698
         ]
        }
       ],
       "layout": {
        "coloraxis": {
         "colorbar": {
          "title": {
           "text": "lifeExp"
          }
         },
         "colorscale": [
          [
           0,
           "#0d0887"
          ],
          [
           0.1111111111111111,
           "#46039f"
          ],
          [
           0.2222222222222222,
           "#7201a8"
          ],
          [
           0.3333333333333333,
           "#9c179e"
          ],
          [
           0.4444444444444444,
           "#bd3786"
          ],
          [
           0.5555555555555556,
           "#d8576b"
          ],
          [
           0.6666666666666666,
           "#ed7953"
          ],
          [
           0.7777777777777778,
           "#fb9f3a"
          ],
          [
           0.8888888888888888,
           "#fdca26"
          ],
          [
           1,
           "#f0f921"
          ]
         ]
        },
        "geo": {
         "center": {},
         "domain": {
          "x": [
           0,
           1
          ],
          "y": [
           0,
           1
          ]
         }
        },
        "legend": {
         "tracegroupgap": 0
        },
        "margin": {
         "b": 0,
         "l": 0,
         "r": 0,
         "t": 0
        },
        "template": {
         "data": {
          "bar": [
           {
            "error_x": {
             "color": "#2a3f5f"
            },
            "error_y": {
             "color": "#2a3f5f"
            },
            "marker": {
             "line": {
              "color": "#E5ECF6",
              "width": 0.5
             }
            },
            "type": "bar"
           }
          ],
          "barpolar": [
           {
            "marker": {
             "line": {
              "color": "#E5ECF6",
              "width": 0.5
             }
            },
            "type": "barpolar"
           }
          ],
          "carpet": [
           {
            "aaxis": {
             "endlinecolor": "#2a3f5f",
             "gridcolor": "white",
             "linecolor": "white",
             "minorgridcolor": "white",
             "startlinecolor": "#2a3f5f"
            },
            "baxis": {
             "endlinecolor": "#2a3f5f",
             "gridcolor": "white",
             "linecolor": "white",
             "minorgridcolor": "white",
             "startlinecolor": "#2a3f5f"
            },
            "type": "carpet"
           }
          ],
          "choropleth": [
           {
            "colorbar": {
             "outlinewidth": 0,
             "ticks": ""
            },
            "type": "choropleth"
           }
          ],
          "contour": [
           {
            "colorbar": {
             "outlinewidth": 0,
             "ticks": ""
            },
            "colorscale": [
             [
              0,
              "#0d0887"
             ],
             [
              0.1111111111111111,
              "#46039f"
             ],
             [
              0.2222222222222222,
              "#7201a8"
             ],
             [
              0.3333333333333333,
              "#9c179e"
             ],
             [
              0.4444444444444444,
              "#bd3786"
             ],
             [
              0.5555555555555556,
              "#d8576b"
             ],
             [
              0.6666666666666666,
              "#ed7953"
             ],
             [
              0.7777777777777778,
              "#fb9f3a"
             ],
             [
              0.8888888888888888,
              "#fdca26"
             ],
             [
              1,
              "#f0f921"
             ]
            ],
            "type": "contour"
           }
          ],
          "contourcarpet": [
           {
            "colorbar": {
             "outlinewidth": 0,
             "ticks": ""
            },
            "type": "contourcarpet"
           }
          ],
          "heatmap": [
           {
            "colorbar": {
             "outlinewidth": 0,
             "ticks": ""
            },
            "colorscale": [
             [
              0,
              "#0d0887"
             ],
             [
              0.1111111111111111,
              "#46039f"
             ],
             [
              0.2222222222222222,
              "#7201a8"
             ],
             [
              0.3333333333333333,
              "#9c179e"
             ],
             [
              0.4444444444444444,
              "#bd3786"
             ],
             [
              0.5555555555555556,
              "#d8576b"
             ],
             [
              0.6666666666666666,
              "#ed7953"
             ],
             [
              0.7777777777777778,
              "#fb9f3a"
             ],
             [
              0.8888888888888888,
              "#fdca26"
             ],
             [
              1,
              "#f0f921"
             ]
            ],
            "type": "heatmap"
           }
          ],
          "heatmapgl": [
           {
            "colorbar": {
             "outlinewidth": 0,
             "ticks": ""
            },
            "colorscale": [
             [
              0,
              "#0d0887"
             ],
             [
              0.1111111111111111,
              "#46039f"
             ],
             [
              0.2222222222222222,
              "#7201a8"
             ],
             [
              0.3333333333333333,
              "#9c179e"
             ],
             [
              0.4444444444444444,
              "#bd3786"
             ],
             [
              0.5555555555555556,
              "#d8576b"
             ],
             [
              0.6666666666666666,
              "#ed7953"
             ],
             [
              0.7777777777777778,
              "#fb9f3a"
             ],
             [
              0.8888888888888888,
              "#fdca26"
             ],
             [
              1,
              "#f0f921"
             ]
            ],
            "type": "heatmapgl"
           }
          ],
          "histogram": [
           {
            "marker": {
             "colorbar": {
              "outlinewidth": 0,
              "ticks": ""
             }
            },
            "type": "histogram"
           }
          ],
          "histogram2d": [
           {
            "colorbar": {
             "outlinewidth": 0,
             "ticks": ""
            },
            "colorscale": [
             [
              0,
              "#0d0887"
             ],
             [
              0.1111111111111111,
              "#46039f"
             ],
             [
              0.2222222222222222,
              "#7201a8"
             ],
             [
              0.3333333333333333,
              "#9c179e"
             ],
             [
              0.4444444444444444,
              "#bd3786"
             ],
             [
              0.5555555555555556,
              "#d8576b"
             ],
             [
              0.6666666666666666,
              "#ed7953"
             ],
             [
              0.7777777777777778,
              "#fb9f3a"
             ],
             [
              0.8888888888888888,
              "#fdca26"
             ],
             [
              1,
              "#f0f921"
             ]
            ],
            "type": "histogram2d"
           }
          ],
          "histogram2dcontour": [
           {
            "colorbar": {
             "outlinewidth": 0,
             "ticks": ""
            },
            "colorscale": [
             [
              0,
              "#0d0887"
             ],
             [
              0.1111111111111111,
              "#46039f"
             ],
             [
              0.2222222222222222,
              "#7201a8"
             ],
             [
              0.3333333333333333,
              "#9c179e"
             ],
             [
              0.4444444444444444,
              "#bd3786"
             ],
             [
              0.5555555555555556,
              "#d8576b"
             ],
             [
              0.6666666666666666,
              "#ed7953"
             ],
             [
              0.7777777777777778,
              "#fb9f3a"
             ],
             [
              0.8888888888888888,
              "#fdca26"
             ],
             [
              1,
              "#f0f921"
             ]
            ],
            "type": "histogram2dcontour"
           }
          ],
          "mesh3d": [
           {
            "colorbar": {
             "outlinewidth": 0,
             "ticks": ""
            },
            "type": "mesh3d"
           }
          ],
          "parcoords": [
           {
            "line": {
             "colorbar": {
              "outlinewidth": 0,
              "ticks": ""
             }
            },
            "type": "parcoords"
           }
          ],
          "pie": [
           {
            "automargin": true,
            "type": "pie"
           }
          ],
          "scatter": [
           {
            "marker": {
             "colorbar": {
              "outlinewidth": 0,
              "ticks": ""
             }
            },
            "type": "scatter"
           }
          ],
          "scatter3d": [
           {
            "line": {
             "colorbar": {
              "outlinewidth": 0,
              "ticks": ""
             }
            },
            "marker": {
             "colorbar": {
              "outlinewidth": 0,
              "ticks": ""
             }
            },
            "type": "scatter3d"
           }
          ],
          "scattercarpet": [
           {
            "marker": {
             "colorbar": {
              "outlinewidth": 0,
              "ticks": ""
             }
            },
            "type": "scattercarpet"
           }
          ],
          "scattergeo": [
           {
            "marker": {
             "colorbar": {
              "outlinewidth": 0,
              "ticks": ""
             }
            },
            "type": "scattergeo"
           }
          ],
          "scattergl": [
           {
            "marker": {
             "colorbar": {
              "outlinewidth": 0,
              "ticks": ""
             }
            },
            "type": "scattergl"
           }
          ],
          "scattermapbox": [
           {
            "marker": {
             "colorbar": {
              "outlinewidth": 0,
              "ticks": ""
             }
            },
            "type": "scattermapbox"
           }
          ],
          "scatterpolar": [
           {
            "marker": {
             "colorbar": {
              "outlinewidth": 0,
              "ticks": ""
             }
            },
            "type": "scatterpolar"
           }
          ],
          "scatterpolargl": [
           {
            "marker": {
             "colorbar": {
              "outlinewidth": 0,
              "ticks": ""
             }
            },
            "type": "scatterpolargl"
           }
          ],
          "scatterternary": [
           {
            "marker": {
             "colorbar": {
              "outlinewidth": 0,
              "ticks": ""
             }
            },
            "type": "scatterternary"
           }
          ],
          "surface": [
           {
            "colorbar": {
             "outlinewidth": 0,
             "ticks": ""
            },
            "colorscale": [
             [
              0,
              "#0d0887"
             ],
             [
              0.1111111111111111,
              "#46039f"
             ],
             [
              0.2222222222222222,
              "#7201a8"
             ],
             [
              0.3333333333333333,
              "#9c179e"
             ],
             [
              0.4444444444444444,
              "#bd3786"
             ],
             [
              0.5555555555555556,
              "#d8576b"
             ],
             [
              0.6666666666666666,
              "#ed7953"
             ],
             [
              0.7777777777777778,
              "#fb9f3a"
             ],
             [
              0.8888888888888888,
              "#fdca26"
             ],
             [
              1,
              "#f0f921"
             ]
            ],
            "type": "surface"
           }
          ],
          "table": [
           {
            "cells": {
             "fill": {
              "color": "#EBF0F8"
             },
             "line": {
              "color": "white"
             }
            },
            "header": {
             "fill": {
              "color": "#C8D4E3"
             },
             "line": {
              "color": "white"
             }
            },
            "type": "table"
           }
          ]
         },
         "layout": {
          "annotationdefaults": {
           "arrowcolor": "#2a3f5f",
           "arrowhead": 0,
           "arrowwidth": 1
          },
          "autotypenumbers": "strict",
          "coloraxis": {
           "colorbar": {
            "outlinewidth": 0,
            "ticks": ""
           }
          },
          "colorscale": {
           "diverging": [
            [
             0,
             "#8e0152"
            ],
            [
             0.1,
             "#c51b7d"
            ],
            [
             0.2,
             "#de77ae"
            ],
            [
             0.3,
             "#f1b6da"
            ],
            [
             0.4,
             "#fde0ef"
            ],
            [
             0.5,
             "#f7f7f7"
            ],
            [
             0.6,
             "#e6f5d0"
            ],
            [
             0.7,
             "#b8e186"
            ],
            [
             0.8,
             "#7fbc41"
            ],
            [
             0.9,
             "#4d9221"
            ],
            [
             1,
             "#276419"
            ]
           ],
           "sequential": [
            [
             0,
             "#0d0887"
            ],
            [
             0.1111111111111111,
             "#46039f"
            ],
            [
             0.2222222222222222,
             "#7201a8"
            ],
            [
             0.3333333333333333,
             "#9c179e"
            ],
            [
             0.4444444444444444,
             "#bd3786"
            ],
            [
             0.5555555555555556,
             "#d8576b"
            ],
            [
             0.6666666666666666,
             "#ed7953"
            ],
            [
             0.7777777777777778,
             "#fb9f3a"
            ],
            [
             0.8888888888888888,
             "#fdca26"
            ],
            [
             1,
             "#f0f921"
            ]
           ],
           "sequentialminus": [
            [
             0,
             "#0d0887"
            ],
            [
             0.1111111111111111,
             "#46039f"
            ],
            [
             0.2222222222222222,
             "#7201a8"
            ],
            [
             0.3333333333333333,
             "#9c179e"
            ],
            [
             0.4444444444444444,
             "#bd3786"
            ],
            [
             0.5555555555555556,
             "#d8576b"
            ],
            [
             0.6666666666666666,
             "#ed7953"
            ],
            [
             0.7777777777777778,
             "#fb9f3a"
            ],
            [
             0.8888888888888888,
             "#fdca26"
            ],
            [
             1,
             "#f0f921"
            ]
           ]
          },
          "colorway": [
           "#636efa",
           "#EF553B",
           "#00cc96",
           "#ab63fa",
           "#FFA15A",
           "#19d3f3",
           "#FF6692",
           "#B6E880",
           "#FF97FF",
           "#FECB52"
          ],
          "font": {
           "color": "#2a3f5f"
          },
          "geo": {
           "bgcolor": "white",
           "lakecolor": "white",
           "landcolor": "#E5ECF6",
           "showlakes": true,
           "showland": true,
           "subunitcolor": "white"
          },
          "hoverlabel": {
           "align": "left"
          },
          "hovermode": "closest",
          "mapbox": {
           "style": "light"
          },
          "paper_bgcolor": "white",
          "plot_bgcolor": "#E5ECF6",
          "polar": {
           "angularaxis": {
            "gridcolor": "white",
            "linecolor": "white",
            "ticks": ""
           },
           "bgcolor": "#E5ECF6",
           "radialaxis": {
            "gridcolor": "white",
            "linecolor": "white",
            "ticks": ""
           }
          },
          "scene": {
           "xaxis": {
            "backgroundcolor": "#E5ECF6",
            "gridcolor": "white",
            "gridwidth": 2,
            "linecolor": "white",
            "showbackground": true,
            "ticks": "",
            "zerolinecolor": "white"
           },
           "yaxis": {
            "backgroundcolor": "#E5ECF6",
            "gridcolor": "white",
            "gridwidth": 2,
            "linecolor": "white",
            "showbackground": true,
            "ticks": "",
            "zerolinecolor": "white"
           },
           "zaxis": {
            "backgroundcolor": "#E5ECF6",
            "gridcolor": "white",
            "gridwidth": 2,
            "linecolor": "white",
            "showbackground": true,
            "ticks": "",
            "zerolinecolor": "white"
           }
          },
          "shapedefaults": {
           "line": {
            "color": "#2a3f5f"
           }
          },
          "ternary": {
           "aaxis": {
            "gridcolor": "white",
            "linecolor": "white",
            "ticks": ""
           },
           "baxis": {
            "gridcolor": "white",
            "linecolor": "white",
            "ticks": ""
           },
           "bgcolor": "#E5ECF6",
           "caxis": {
            "gridcolor": "white",
            "linecolor": "white",
            "ticks": ""
           }
          },
          "title": {
           "x": 0.05
          },
          "xaxis": {
           "automargin": true,
           "gridcolor": "white",
           "linecolor": "white",
           "ticks": "",
           "title": {
            "standoff": 15
           },
           "zerolinecolor": "white",
           "zerolinewidth": 2
          },
          "yaxis": {
           "automargin": true,
           "gridcolor": "white",
           "linecolor": "white",
           "ticks": "",
           "title": {
            "standoff": 15
           },
           "zerolinecolor": "white",
           "zerolinewidth": 2
          }
         }
        }
       }
      },
      "text/html": [
       "<div>                            <div id=\"ac1e00ce-f84c-4539-9677-b0e592804371\" class=\"plotly-graph-div\" style=\"height:525px; width:100%;\"></div>            <script type=\"text/javascript\">                require([\"plotly\"], function(Plotly) {                    window.PLOTLYENV=window.PLOTLYENV || {};                                    if (document.getElementById(\"ac1e00ce-f84c-4539-9677-b0e592804371\")) {                    Plotly.newPlot(                        \"ac1e00ce-f84c-4539-9677-b0e592804371\",                        [{\"coloraxis\": \"coloraxis\", \"geo\": \"geo\", \"hovertemplate\": \"<b>%{hovertext}</b><br><br>iso_alpha=%{location}<br>lifeExp=%{z}<extra></extra>\", \"hovertext\": [\"Afghanistan\", \"Afghanistan\", \"Afghanistan\", \"Afghanistan\", \"Afghanistan\", \"Afghanistan\", \"Afghanistan\", \"Afghanistan\", \"Afghanistan\", \"Afghanistan\", \"Afghanistan\", \"Afghanistan\", \"Bahrain\", \"Bahrain\", \"Bahrain\", \"Bahrain\", \"Bahrain\", \"Bahrain\", \"Bahrain\", \"Bahrain\", \"Bahrain\", \"Bahrain\", \"Bahrain\", \"Bahrain\", \"Bangladesh\", \"Bangladesh\", \"Bangladesh\", \"Bangladesh\", \"Bangladesh\", \"Bangladesh\", \"Bangladesh\", \"Bangladesh\", \"Bangladesh\", \"Bangladesh\", \"Bangladesh\", \"Bangladesh\", \"Cambodia\", \"Cambodia\", \"Cambodia\", \"Cambodia\", \"Cambodia\", \"Cambodia\", \"Cambodia\", \"Cambodia\", \"Cambodia\", \"Cambodia\", \"Cambodia\", \"Cambodia\", \"China\", \"China\", \"China\", \"China\", \"China\", \"China\", \"China\", \"China\", \"China\", \"China\", \"China\", \"China\", \"Hong Kong, China\", \"Hong Kong, China\", \"Hong Kong, China\", \"Hong Kong, China\", \"Hong Kong, China\", \"Hong Kong, China\", \"Hong Kong, China\", \"Hong Kong, China\", \"Hong Kong, China\", \"Hong Kong, China\", \"Hong Kong, China\", \"Hong Kong, China\", \"India\", \"India\", \"India\", \"India\", \"India\", \"India\", \"India\", \"India\", \"India\", \"India\", \"India\", \"India\", \"Indonesia\", \"Indonesia\", \"Indonesia\", \"Indonesia\", \"Indonesia\", \"Indonesia\", \"Indonesia\", \"Indonesia\", \"Indonesia\", \"Indonesia\", \"Indonesia\", \"Indonesia\", \"Iran\", \"Iran\", \"Iran\", \"Iran\", \"Iran\", \"Iran\", \"Iran\", \"Iran\", \"Iran\", \"Iran\", \"Iran\", \"Iran\", \"Iraq\", \"Iraq\", \"Iraq\", \"Iraq\", \"Iraq\", \"Iraq\", \"Iraq\", \"Iraq\", \"Iraq\", \"Iraq\", \"Iraq\", \"Iraq\", \"Israel\", \"Israel\", \"Israel\", \"Israel\", \"Israel\", \"Israel\", \"Israel\", \"Israel\", \"Israel\", \"Israel\", \"Israel\", \"Israel\", \"Japan\", \"Japan\", \"Japan\", \"Japan\", \"Japan\", \"Japan\", \"Japan\", \"Japan\", \"Japan\", \"Japan\", \"Japan\", \"Japan\", \"Jordan\", \"Jordan\", \"Jordan\", \"Jordan\", \"Jordan\", \"Jordan\", \"Jordan\", \"Jordan\", \"Jordan\", \"Jordan\", \"Jordan\", \"Jordan\", \"Korea, Dem. Rep.\", \"Korea, Dem. Rep.\", \"Korea, Dem. Rep.\", \"Korea, Dem. Rep.\", \"Korea, Dem. Rep.\", \"Korea, Dem. Rep.\", \"Korea, Dem. Rep.\", \"Korea, Dem. Rep.\", \"Korea, Dem. Rep.\", \"Korea, Dem. Rep.\", \"Korea, Dem. Rep.\", \"Korea, Dem. Rep.\", \"Korea, Rep.\", \"Korea, Rep.\", \"Korea, Rep.\", \"Korea, Rep.\", \"Korea, Rep.\", \"Korea, Rep.\", \"Korea, Rep.\", \"Korea, Rep.\", \"Korea, Rep.\", \"Korea, Rep.\", \"Korea, Rep.\", \"Korea, Rep.\", \"Kuwait\", \"Kuwait\", \"Kuwait\", \"Kuwait\", \"Kuwait\", \"Kuwait\", \"Kuwait\", \"Kuwait\", \"Kuwait\", \"Kuwait\", \"Kuwait\", \"Kuwait\", \"Lebanon\", \"Lebanon\", \"Lebanon\", \"Lebanon\", \"Lebanon\", \"Lebanon\", \"Lebanon\", \"Lebanon\", \"Lebanon\", \"Lebanon\", \"Lebanon\", \"Lebanon\", \"Malaysia\", \"Malaysia\", \"Malaysia\", \"Malaysia\", \"Malaysia\", \"Malaysia\", \"Malaysia\", \"Malaysia\", \"Malaysia\", \"Malaysia\", \"Malaysia\", \"Malaysia\", \"Mongolia\", \"Mongolia\", \"Mongolia\", \"Mongolia\", \"Mongolia\", \"Mongolia\", \"Mongolia\", \"Mongolia\", \"Mongolia\", \"Mongolia\", \"Mongolia\", \"Mongolia\", \"Myanmar\", \"Myanmar\", \"Myanmar\", \"Myanmar\", \"Myanmar\", \"Myanmar\", \"Myanmar\", \"Myanmar\", \"Myanmar\", \"Myanmar\", \"Myanmar\", \"Myanmar\", \"Nepal\", \"Nepal\", \"Nepal\", \"Nepal\", \"Nepal\", \"Nepal\", \"Nepal\", \"Nepal\", \"Nepal\", \"Nepal\", \"Nepal\", \"Nepal\", \"Oman\", \"Oman\", \"Oman\", \"Oman\", \"Oman\", \"Oman\", \"Oman\", \"Oman\", \"Oman\", \"Oman\", \"Oman\", \"Oman\", \"Pakistan\", \"Pakistan\", \"Pakistan\", \"Pakistan\", \"Pakistan\", \"Pakistan\", \"Pakistan\", \"Pakistan\", \"Pakistan\", \"Pakistan\", \"Pakistan\", \"Pakistan\", \"Philippines\", \"Philippines\", \"Philippines\", \"Philippines\", \"Philippines\", \"Philippines\", \"Philippines\", \"Philippines\", \"Philippines\", \"Philippines\", \"Philippines\", \"Philippines\", \"Saudi Arabia\", \"Saudi Arabia\", \"Saudi Arabia\", \"Saudi Arabia\", \"Saudi Arabia\", \"Saudi Arabia\", \"Saudi Arabia\", \"Saudi Arabia\", \"Saudi Arabia\", \"Saudi Arabia\", \"Saudi Arabia\", \"Saudi Arabia\", \"Singapore\", \"Singapore\", \"Singapore\", \"Singapore\", \"Singapore\", \"Singapore\", \"Singapore\", \"Singapore\", \"Singapore\", \"Singapore\", \"Singapore\", \"Singapore\", \"Sri Lanka\", \"Sri Lanka\", \"Sri Lanka\", \"Sri Lanka\", \"Sri Lanka\", \"Sri Lanka\", \"Sri Lanka\", \"Sri Lanka\", \"Sri Lanka\", \"Sri Lanka\", \"Sri Lanka\", \"Sri Lanka\", \"Syria\", \"Syria\", \"Syria\", \"Syria\", \"Syria\", \"Syria\", \"Syria\", \"Syria\", \"Syria\", \"Syria\", \"Syria\", \"Syria\", \"Taiwan\", \"Taiwan\", \"Taiwan\", \"Taiwan\", \"Taiwan\", \"Taiwan\", \"Taiwan\", \"Taiwan\", \"Taiwan\", \"Taiwan\", \"Taiwan\", \"Taiwan\", \"Thailand\", \"Thailand\", \"Thailand\", \"Thailand\", \"Thailand\", \"Thailand\", \"Thailand\", \"Thailand\", \"Thailand\", \"Thailand\", \"Thailand\", \"Thailand\", \"Vietnam\", \"Vietnam\", \"Vietnam\", \"Vietnam\", \"Vietnam\", \"Vietnam\", \"Vietnam\", \"Vietnam\", \"Vietnam\", \"Vietnam\", \"Vietnam\", \"Vietnam\", \"West Bank and Gaza\", \"West Bank and Gaza\", \"West Bank and Gaza\", \"West Bank and Gaza\", \"West Bank and Gaza\", \"West Bank and Gaza\", \"West Bank and Gaza\", \"West Bank and Gaza\", \"West Bank and Gaza\", \"West Bank and Gaza\", \"West Bank and Gaza\", \"West Bank and Gaza\", \"Yemen, Rep.\", \"Yemen, Rep.\", \"Yemen, Rep.\", \"Yemen, Rep.\", \"Yemen, Rep.\", \"Yemen, Rep.\", \"Yemen, Rep.\", \"Yemen, Rep.\", \"Yemen, Rep.\", \"Yemen, Rep.\", \"Yemen, Rep.\", \"Yemen, Rep.\"], \"locations\": [\"AFG\", \"AFG\", \"AFG\", \"AFG\", \"AFG\", \"AFG\", \"AFG\", \"AFG\", \"AFG\", \"AFG\", \"AFG\", \"AFG\", \"BHR\", \"BHR\", \"BHR\", \"BHR\", \"BHR\", \"BHR\", \"BHR\", \"BHR\", \"BHR\", \"BHR\", \"BHR\", \"BHR\", \"BGD\", \"BGD\", \"BGD\", \"BGD\", \"BGD\", \"BGD\", \"BGD\", \"BGD\", \"BGD\", \"BGD\", \"BGD\", \"BGD\", \"KHM\", \"KHM\", \"KHM\", \"KHM\", \"KHM\", \"KHM\", \"KHM\", \"KHM\", \"KHM\", \"KHM\", \"KHM\", \"KHM\", \"CHN\", \"CHN\", \"CHN\", \"CHN\", \"CHN\", \"CHN\", \"CHN\", \"CHN\", \"CHN\", \"CHN\", \"CHN\", \"CHN\", \"HKG\", \"HKG\", \"HKG\", \"HKG\", \"HKG\", \"HKG\", \"HKG\", \"HKG\", \"HKG\", \"HKG\", \"HKG\", \"HKG\", \"IND\", \"IND\", \"IND\", \"IND\", \"IND\", \"IND\", \"IND\", \"IND\", \"IND\", \"IND\", \"IND\", \"IND\", \"IDN\", \"IDN\", \"IDN\", \"IDN\", \"IDN\", \"IDN\", \"IDN\", \"IDN\", \"IDN\", \"IDN\", \"IDN\", \"IDN\", \"IRN\", \"IRN\", \"IRN\", \"IRN\", \"IRN\", \"IRN\", \"IRN\", \"IRN\", \"IRN\", \"IRN\", \"IRN\", \"IRN\", \"IRQ\", \"IRQ\", \"IRQ\", \"IRQ\", \"IRQ\", \"IRQ\", \"IRQ\", \"IRQ\", \"IRQ\", \"IRQ\", \"IRQ\", \"IRQ\", \"ISR\", \"ISR\", \"ISR\", \"ISR\", \"ISR\", \"ISR\", \"ISR\", \"ISR\", \"ISR\", \"ISR\", \"ISR\", \"ISR\", \"JPN\", \"JPN\", \"JPN\", \"JPN\", \"JPN\", \"JPN\", \"JPN\", \"JPN\", \"JPN\", \"JPN\", \"JPN\", \"JPN\", \"JOR\", \"JOR\", \"JOR\", \"JOR\", \"JOR\", \"JOR\", \"JOR\", \"JOR\", \"JOR\", \"JOR\", \"JOR\", \"JOR\", \"KOR\", \"KOR\", \"KOR\", \"KOR\", \"KOR\", \"KOR\", \"KOR\", \"KOR\", \"KOR\", \"KOR\", \"KOR\", \"KOR\", \"KOR\", \"KOR\", \"KOR\", \"KOR\", \"KOR\", \"KOR\", \"KOR\", \"KOR\", \"KOR\", \"KOR\", \"KOR\", \"KOR\", \"KWT\", \"KWT\", \"KWT\", \"KWT\", \"KWT\", \"KWT\", \"KWT\", \"KWT\", \"KWT\", \"KWT\", \"KWT\", \"KWT\", \"LBN\", \"LBN\", \"LBN\", \"LBN\", \"LBN\", \"LBN\", \"LBN\", \"LBN\", \"LBN\", \"LBN\", \"LBN\", \"LBN\", \"MYS\", \"MYS\", \"MYS\", \"MYS\", \"MYS\", \"MYS\", \"MYS\", \"MYS\", \"MYS\", \"MYS\", \"MYS\", \"MYS\", \"MNG\", \"MNG\", \"MNG\", \"MNG\", \"MNG\", \"MNG\", \"MNG\", \"MNG\", \"MNG\", \"MNG\", \"MNG\", \"MNG\", \"MMR\", \"MMR\", \"MMR\", \"MMR\", \"MMR\", \"MMR\", \"MMR\", \"MMR\", \"MMR\", \"MMR\", \"MMR\", \"MMR\", \"NPL\", \"NPL\", \"NPL\", \"NPL\", \"NPL\", \"NPL\", \"NPL\", \"NPL\", \"NPL\", \"NPL\", \"NPL\", \"NPL\", \"OMN\", \"OMN\", \"OMN\", \"OMN\", \"OMN\", \"OMN\", \"OMN\", \"OMN\", \"OMN\", \"OMN\", \"OMN\", \"OMN\", \"PAK\", \"PAK\", \"PAK\", \"PAK\", \"PAK\", \"PAK\", \"PAK\", \"PAK\", \"PAK\", \"PAK\", \"PAK\", \"PAK\", \"PHL\", \"PHL\", \"PHL\", \"PHL\", \"PHL\", \"PHL\", \"PHL\", \"PHL\", \"PHL\", \"PHL\", \"PHL\", \"PHL\", \"SAU\", \"SAU\", \"SAU\", \"SAU\", \"SAU\", \"SAU\", \"SAU\", \"SAU\", \"SAU\", \"SAU\", \"SAU\", \"SAU\", \"SGP\", \"SGP\", \"SGP\", \"SGP\", \"SGP\", \"SGP\", \"SGP\", \"SGP\", \"SGP\", \"SGP\", \"SGP\", \"SGP\", \"LKA\", \"LKA\", \"LKA\", \"LKA\", \"LKA\", \"LKA\", \"LKA\", \"LKA\", \"LKA\", \"LKA\", \"LKA\", \"LKA\", \"SYR\", \"SYR\", \"SYR\", \"SYR\", \"SYR\", \"SYR\", \"SYR\", \"SYR\", \"SYR\", \"SYR\", \"SYR\", \"SYR\", \"TWN\", \"TWN\", \"TWN\", \"TWN\", \"TWN\", \"TWN\", \"TWN\", \"TWN\", \"TWN\", \"TWN\", \"TWN\", \"TWN\", \"THA\", \"THA\", \"THA\", \"THA\", \"THA\", \"THA\", \"THA\", \"THA\", \"THA\", \"THA\", \"THA\", \"THA\", \"VNM\", \"VNM\", \"VNM\", \"VNM\", \"VNM\", \"VNM\", \"VNM\", \"VNM\", \"VNM\", \"VNM\", \"VNM\", \"VNM\", \"PSE\", \"PSE\", \"PSE\", \"PSE\", \"PSE\", \"PSE\", \"PSE\", \"PSE\", \"PSE\", \"PSE\", \"PSE\", \"PSE\", \"YEM\", \"YEM\", \"YEM\", \"YEM\", \"YEM\", \"YEM\", \"YEM\", \"YEM\", \"YEM\", \"YEM\", \"YEM\", \"YEM\"], \"name\": \"\", \"type\": \"choropleth\", \"z\": [28.801, 30.331999999999997, 31.997, 34.02, 36.088, 38.438, 39.854, 40.821999999999996, 41.674, 41.763000000000005, 42.129, 43.828, 50.93899999999999, 53.832, 56.923, 59.923, 63.3, 65.593, 69.05199999999999, 70.75, 72.601, 73.925, 74.795, 75.635, 37.484, 39.348, 41.216, 43.453, 45.251999999999995, 46.923, 50.00899999999999, 52.818999999999996, 56.018, 59.412, 62.013000000000005, 64.062, 39.417, 41.36600000000001, 43.415, 45.415, 40.317, 31.22, 50.957, 53.913999999999994, 55.803000000000004, 56.534, 56.751999999999995, 59.723, 44.0, 50.54896, 44.50136, 58.381119999999996, 63.118880000000004, 63.96736, 65.525, 67.274, 68.69, 70.426, 72.028, 72.961, 60.96, 64.75, 67.65, 70.0, 72.0, 73.6, 75.45, 76.2, 77.601, 80.0, 81.495, 82.208, 37.373000000000005, 40.249, 43.605, 47.193000000000005, 50.651, 54.208, 56.596000000000004, 58.553000000000004, 60.223, 61.765, 62.879, 64.69800000000001, 37.468, 39.918, 42.518, 45.964, 49.203, 52.702, 56.159, 60.137, 62.681000000000004, 66.041, 68.58800000000001, 70.65, 44.869, 47.181000000000004, 49.325, 52.468999999999994, 55.233999999999995, 57.702, 59.62, 63.04, 65.742, 68.042, 69.45100000000001, 70.964, 45.32, 48.437, 51.457, 54.458999999999996, 56.95, 60.413000000000004, 62.038000000000004, 65.044, 59.461000000000006, 58.81100000000001, 57.04600000000001, 59.545, 65.39, 67.84, 69.39, 70.75, 71.63, 73.06, 74.45, 75.6, 76.93, 78.26899999999999, 79.696, 80.745, 63.03, 65.5, 68.73, 71.43, 73.42, 75.38, 77.11, 78.67, 79.36, 80.69, 82.0, 82.603, 43.158, 45.669, 48.126000000000005, 51.629, 56.528, 61.13399999999999, 63.739, 65.869, 68.015, 69.77199999999999, 71.263, 72.535, 50.056000000000004, 54.081, 56.656000000000006, 59.942, 63.983000000000004, 67.15899999999999, 69.1, 70.64699999999999, 69.97800000000001, 67.727, 66.66199999999999, 67.297, 47.453, 52.681000000000004, 55.292, 57.716, 62.611999999999995, 64.766, 67.123, 69.81, 72.244, 74.64699999999999, 77.045, 78.623, 55.565, 58.033, 60.47, 64.624, 67.712, 69.343, 71.309, 74.17399999999999, 75.19, 76.156, 76.904, 77.58800000000001, 55.928000000000004, 59.489, 62.093999999999994, 63.87, 65.421, 66.09899999999999, 66.983, 67.926, 69.292, 70.265, 71.028, 71.993, 48.463, 52.102, 55.736999999999995, 59.371, 63.01, 65.256, 68.0, 69.5, 70.693, 71.938, 73.044, 74.241, 42.244, 45.248000000000005, 48.251000000000005, 51.253, 53.754, 55.49100000000001, 57.489, 60.222, 61.271, 63.625, 65.033, 66.803, 36.319, 41.905, 45.108000000000004, 49.379, 53.07, 56.059, 58.056000000000004, 58.339, 59.32, 60.328, 59.908, 62.068999999999996, 36.157, 37.686, 39.393, 41.472, 43.971000000000004, 46.748000000000005, 49.593999999999994, 52.537, 55.727, 59.426, 61.34, 63.785, 37.578, 40.08, 43.165, 46.988, 52.143, 57.367, 62.728, 67.734, 71.197, 72.499, 74.193, 75.64, 43.43600000000001, 45.556999999999995, 47.67, 49.8, 51.928999999999995, 54.043, 56.158, 58.245, 60.838, 61.818000000000005, 63.61, 65.483, 47.751999999999995, 51.333999999999996, 54.757, 56.393, 58.065, 60.06, 62.082, 64.15100000000001, 66.458, 68.564, 70.303, 71.688, 39.875, 42.868, 45.913999999999994, 49.901, 53.886, 58.69, 63.012, 66.295, 68.768, 70.533, 71.626, 72.777, 60.396, 63.178999999999995, 65.798, 67.946, 69.521, 70.795, 71.76, 73.56, 75.788, 77.158, 78.77, 79.972, 57.593, 61.456, 62.192, 64.266, 65.042, 65.949, 68.757, 69.01100000000001, 70.37899999999999, 70.457, 70.815, 72.396, 45.883, 48.284, 50.305, 53.655, 57.29600000000001, 61.195, 64.59, 66.97399999999999, 69.249, 71.527, 73.053, 74.143, 58.5, 62.4, 65.2, 67.5, 69.39, 70.59, 72.16, 73.4, 74.26, 75.25, 76.99, 78.4, 50.848, 53.63, 56.06100000000001, 58.285, 60.405, 62.494, 64.597, 66.084, 67.298, 67.521, 68.564, 70.616, 40.412, 42.887, 45.363, 47.838, 50.254, 55.763999999999996, 58.816, 62.82, 67.66199999999999, 70.672, 73.017, 74.249, 43.16, 45.67100000000001, 48.126999999999995, 51.631, 56.532, 60.765, 64.406, 67.046, 69.718, 71.096, 72.37, 73.422, 32.548, 33.97, 35.18, 36.984, 39.848, 44.175, 49.113, 52.922, 55.599, 58.02, 60.308, 62.698]}],                        {\"coloraxis\": {\"colorbar\": {\"title\": {\"text\": \"lifeExp\"}}, \"colorscale\": [[0.0, \"#0d0887\"], [0.1111111111111111, \"#46039f\"], [0.2222222222222222, \"#7201a8\"], [0.3333333333333333, \"#9c179e\"], [0.4444444444444444, \"#bd3786\"], [0.5555555555555556, \"#d8576b\"], [0.6666666666666666, \"#ed7953\"], [0.7777777777777778, \"#fb9f3a\"], [0.8888888888888888, \"#fdca26\"], [1.0, \"#f0f921\"]]}, \"geo\": {\"center\": {}, \"domain\": {\"x\": [0.0, 1.0], \"y\": [0.0, 1.0]}}, \"legend\": {\"tracegroupgap\": 0}, \"margin\": {\"b\": 0, \"l\": 0, \"r\": 0, \"t\": 0}, \"template\": {\"data\": {\"bar\": [{\"error_x\": {\"color\": \"#2a3f5f\"}, \"error_y\": {\"color\": \"#2a3f5f\"}, \"marker\": {\"line\": {\"color\": \"#E5ECF6\", \"width\": 0.5}}, \"type\": \"bar\"}], \"barpolar\": [{\"marker\": {\"line\": {\"color\": \"#E5ECF6\", \"width\": 0.5}}, \"type\": \"barpolar\"}], \"carpet\": [{\"aaxis\": {\"endlinecolor\": \"#2a3f5f\", \"gridcolor\": \"white\", \"linecolor\": \"white\", \"minorgridcolor\": \"white\", \"startlinecolor\": \"#2a3f5f\"}, \"baxis\": {\"endlinecolor\": \"#2a3f5f\", \"gridcolor\": \"white\", \"linecolor\": \"white\", \"minorgridcolor\": \"white\", \"startlinecolor\": \"#2a3f5f\"}, \"type\": \"carpet\"}], \"choropleth\": [{\"colorbar\": {\"outlinewidth\": 0, \"ticks\": \"\"}, \"type\": \"choropleth\"}], \"contour\": [{\"colorbar\": {\"outlinewidth\": 0, \"ticks\": \"\"}, \"colorscale\": [[0.0, \"#0d0887\"], [0.1111111111111111, \"#46039f\"], [0.2222222222222222, \"#7201a8\"], [0.3333333333333333, \"#9c179e\"], [0.4444444444444444, \"#bd3786\"], [0.5555555555555556, \"#d8576b\"], [0.6666666666666666, \"#ed7953\"], [0.7777777777777778, \"#fb9f3a\"], [0.8888888888888888, \"#fdca26\"], [1.0, \"#f0f921\"]], \"type\": \"contour\"}], \"contourcarpet\": [{\"colorbar\": {\"outlinewidth\": 0, \"ticks\": \"\"}, \"type\": \"contourcarpet\"}], \"heatmap\": [{\"colorbar\": {\"outlinewidth\": 0, \"ticks\": \"\"}, \"colorscale\": [[0.0, \"#0d0887\"], [0.1111111111111111, \"#46039f\"], [0.2222222222222222, \"#7201a8\"], [0.3333333333333333, \"#9c179e\"], [0.4444444444444444, \"#bd3786\"], [0.5555555555555556, \"#d8576b\"], [0.6666666666666666, \"#ed7953\"], [0.7777777777777778, \"#fb9f3a\"], [0.8888888888888888, \"#fdca26\"], [1.0, \"#f0f921\"]], \"type\": \"heatmap\"}], \"heatmapgl\": [{\"colorbar\": {\"outlinewidth\": 0, \"ticks\": \"\"}, \"colorscale\": [[0.0, \"#0d0887\"], [0.1111111111111111, \"#46039f\"], [0.2222222222222222, \"#7201a8\"], [0.3333333333333333, \"#9c179e\"], [0.4444444444444444, \"#bd3786\"], [0.5555555555555556, \"#d8576b\"], [0.6666666666666666, \"#ed7953\"], [0.7777777777777778, \"#fb9f3a\"], [0.8888888888888888, \"#fdca26\"], [1.0, \"#f0f921\"]], \"type\": \"heatmapgl\"}], \"histogram\": [{\"marker\": {\"colorbar\": {\"outlinewidth\": 0, \"ticks\": \"\"}}, \"type\": \"histogram\"}], \"histogram2d\": [{\"colorbar\": {\"outlinewidth\": 0, \"ticks\": \"\"}, \"colorscale\": [[0.0, \"#0d0887\"], [0.1111111111111111, \"#46039f\"], [0.2222222222222222, \"#7201a8\"], [0.3333333333333333, \"#9c179e\"], [0.4444444444444444, \"#bd3786\"], [0.5555555555555556, \"#d8576b\"], [0.6666666666666666, \"#ed7953\"], [0.7777777777777778, \"#fb9f3a\"], [0.8888888888888888, \"#fdca26\"], [1.0, \"#f0f921\"]], \"type\": \"histogram2d\"}], \"histogram2dcontour\": [{\"colorbar\": {\"outlinewidth\": 0, \"ticks\": \"\"}, \"colorscale\": [[0.0, \"#0d0887\"], [0.1111111111111111, \"#46039f\"], [0.2222222222222222, \"#7201a8\"], [0.3333333333333333, \"#9c179e\"], [0.4444444444444444, \"#bd3786\"], [0.5555555555555556, \"#d8576b\"], [0.6666666666666666, \"#ed7953\"], [0.7777777777777778, \"#fb9f3a\"], [0.8888888888888888, \"#fdca26\"], [1.0, \"#f0f921\"]], \"type\": \"histogram2dcontour\"}], \"mesh3d\": [{\"colorbar\": {\"outlinewidth\": 0, \"ticks\": \"\"}, \"type\": \"mesh3d\"}], \"parcoords\": [{\"line\": {\"colorbar\": {\"outlinewidth\": 0, \"ticks\": \"\"}}, \"type\": \"parcoords\"}], \"pie\": [{\"automargin\": true, \"type\": \"pie\"}], \"scatter\": [{\"marker\": {\"colorbar\": {\"outlinewidth\": 0, \"ticks\": \"\"}}, \"type\": \"scatter\"}], \"scatter3d\": [{\"line\": {\"colorbar\": {\"outlinewidth\": 0, \"ticks\": \"\"}}, \"marker\": {\"colorbar\": {\"outlinewidth\": 0, \"ticks\": \"\"}}, \"type\": \"scatter3d\"}], \"scattercarpet\": [{\"marker\": {\"colorbar\": {\"outlinewidth\": 0, \"ticks\": \"\"}}, \"type\": \"scattercarpet\"}], \"scattergeo\": [{\"marker\": {\"colorbar\": {\"outlinewidth\": 0, \"ticks\": \"\"}}, \"type\": \"scattergeo\"}], \"scattergl\": [{\"marker\": {\"colorbar\": {\"outlinewidth\": 0, \"ticks\": \"\"}}, \"type\": \"scattergl\"}], \"scattermapbox\": [{\"marker\": {\"colorbar\": {\"outlinewidth\": 0, \"ticks\": \"\"}}, \"type\": \"scattermapbox\"}], \"scatterpolar\": [{\"marker\": {\"colorbar\": {\"outlinewidth\": 0, \"ticks\": \"\"}}, \"type\": \"scatterpolar\"}], \"scatterpolargl\": [{\"marker\": {\"colorbar\": {\"outlinewidth\": 0, \"ticks\": \"\"}}, \"type\": \"scatterpolargl\"}], \"scatterternary\": [{\"marker\": {\"colorbar\": {\"outlinewidth\": 0, \"ticks\": \"\"}}, \"type\": \"scatterternary\"}], \"surface\": [{\"colorbar\": {\"outlinewidth\": 0, \"ticks\": \"\"}, \"colorscale\": [[0.0, \"#0d0887\"], [0.1111111111111111, \"#46039f\"], [0.2222222222222222, \"#7201a8\"], [0.3333333333333333, \"#9c179e\"], [0.4444444444444444, \"#bd3786\"], [0.5555555555555556, \"#d8576b\"], [0.6666666666666666, \"#ed7953\"], [0.7777777777777778, \"#fb9f3a\"], [0.8888888888888888, \"#fdca26\"], [1.0, \"#f0f921\"]], \"type\": \"surface\"}], \"table\": [{\"cells\": {\"fill\": {\"color\": \"#EBF0F8\"}, \"line\": {\"color\": \"white\"}}, \"header\": {\"fill\": {\"color\": \"#C8D4E3\"}, \"line\": {\"color\": \"white\"}}, \"type\": \"table\"}]}, \"layout\": {\"annotationdefaults\": {\"arrowcolor\": \"#2a3f5f\", \"arrowhead\": 0, \"arrowwidth\": 1}, \"autotypenumbers\": \"strict\", \"coloraxis\": {\"colorbar\": {\"outlinewidth\": 0, \"ticks\": \"\"}}, \"colorscale\": {\"diverging\": [[0, \"#8e0152\"], [0.1, \"#c51b7d\"], [0.2, \"#de77ae\"], [0.3, \"#f1b6da\"], [0.4, \"#fde0ef\"], [0.5, \"#f7f7f7\"], [0.6, \"#e6f5d0\"], [0.7, \"#b8e186\"], [0.8, \"#7fbc41\"], [0.9, \"#4d9221\"], [1, \"#276419\"]], \"sequential\": [[0.0, \"#0d0887\"], [0.1111111111111111, \"#46039f\"], [0.2222222222222222, \"#7201a8\"], [0.3333333333333333, \"#9c179e\"], [0.4444444444444444, \"#bd3786\"], [0.5555555555555556, \"#d8576b\"], [0.6666666666666666, \"#ed7953\"], [0.7777777777777778, \"#fb9f3a\"], [0.8888888888888888, \"#fdca26\"], [1.0, \"#f0f921\"]], \"sequentialminus\": [[0.0, \"#0d0887\"], [0.1111111111111111, \"#46039f\"], [0.2222222222222222, \"#7201a8\"], [0.3333333333333333, \"#9c179e\"], [0.4444444444444444, \"#bd3786\"], [0.5555555555555556, \"#d8576b\"], [0.6666666666666666, \"#ed7953\"], [0.7777777777777778, \"#fb9f3a\"], [0.8888888888888888, \"#fdca26\"], [1.0, \"#f0f921\"]]}, \"colorway\": [\"#636efa\", \"#EF553B\", \"#00cc96\", \"#ab63fa\", \"#FFA15A\", \"#19d3f3\", \"#FF6692\", \"#B6E880\", \"#FF97FF\", \"#FECB52\"], \"font\": {\"color\": \"#2a3f5f\"}, \"geo\": {\"bgcolor\": \"white\", \"lakecolor\": \"white\", \"landcolor\": \"#E5ECF6\", \"showlakes\": true, \"showland\": true, \"subunitcolor\": \"white\"}, \"hoverlabel\": {\"align\": \"left\"}, \"hovermode\": \"closest\", \"mapbox\": {\"style\": \"light\"}, \"paper_bgcolor\": \"white\", \"plot_bgcolor\": \"#E5ECF6\", \"polar\": {\"angularaxis\": {\"gridcolor\": \"white\", \"linecolor\": \"white\", \"ticks\": \"\"}, \"bgcolor\": \"#E5ECF6\", \"radialaxis\": {\"gridcolor\": \"white\", \"linecolor\": \"white\", \"ticks\": \"\"}}, \"scene\": {\"xaxis\": {\"backgroundcolor\": \"#E5ECF6\", \"gridcolor\": \"white\", \"gridwidth\": 2, \"linecolor\": \"white\", \"showbackground\": true, \"ticks\": \"\", \"zerolinecolor\": \"white\"}, \"yaxis\": {\"backgroundcolor\": \"#E5ECF6\", \"gridcolor\": \"white\", \"gridwidth\": 2, \"linecolor\": \"white\", \"showbackground\": true, \"ticks\": \"\", \"zerolinecolor\": \"white\"}, \"zaxis\": {\"backgroundcolor\": \"#E5ECF6\", \"gridcolor\": \"white\", \"gridwidth\": 2, \"linecolor\": \"white\", \"showbackground\": true, \"ticks\": \"\", \"zerolinecolor\": \"white\"}}, \"shapedefaults\": {\"line\": {\"color\": \"#2a3f5f\"}}, \"ternary\": {\"aaxis\": {\"gridcolor\": \"white\", \"linecolor\": \"white\", \"ticks\": \"\"}, \"baxis\": {\"gridcolor\": \"white\", \"linecolor\": \"white\", \"ticks\": \"\"}, \"bgcolor\": \"#E5ECF6\", \"caxis\": {\"gridcolor\": \"white\", \"linecolor\": \"white\", \"ticks\": \"\"}}, \"title\": {\"x\": 0.05}, \"xaxis\": {\"automargin\": true, \"gridcolor\": \"white\", \"linecolor\": \"white\", \"ticks\": \"\", \"title\": {\"standoff\": 15}, \"zerolinecolor\": \"white\", \"zerolinewidth\": 2}, \"yaxis\": {\"automargin\": true, \"gridcolor\": \"white\", \"linecolor\": \"white\", \"ticks\": \"\", \"title\": {\"standoff\": 15}, \"zerolinecolor\": \"white\", \"zerolinewidth\": 2}}}},                        {\"responsive\": true}                    ).then(function(){\n",
       "                            \n",
       "var gd = document.getElementById('ac1e00ce-f84c-4539-9677-b0e592804371');\n",
       "var x = new MutationObserver(function (mutations, observer) {{\n",
       "        var display = window.getComputedStyle(gd).display;\n",
       "        if (!display || display === 'none') {{\n",
       "            console.log([gd, 'removed!']);\n",
       "            Plotly.purge(gd);\n",
       "            observer.disconnect();\n",
       "        }}\n",
       "}});\n",
       "\n",
       "// Listen for the removal of the full notebook cells\n",
       "var notebookContainer = gd.closest('#notebook-container');\n",
       "if (notebookContainer) {{\n",
       "    x.observe(notebookContainer, {childList: true});\n",
       "}}\n",
       "\n",
       "// Listen for the clearing of the current output cell\n",
       "var outputEl = gd.closest('.output');\n",
       "if (outputEl) {{\n",
       "    x.observe(outputEl, {childList: true});\n",
       "}}\n",
       "\n",
       "                        })                };                });            </script>        </div>"
      ]
     },
     "metadata": {},
     "output_type": "display_data"
    }
   ],
   "source": [
    "fig = px.choropleth(asian_df, locations=\"iso_alpha\",\n",
    "                    color=\"lifeExp\",\n",
    "                    hover_name=\"country\", \n",
    "                    color_continuous_scale=px.colors.sequential.Plasma,\n",
    "                    )\n",
    "\n",
    "fig.update_layout(margin={\"r\":0,\"t\":0,\"l\":0,\"b\":0})\n",
    "fig.show()"
   ]
  },
  {
   "cell_type": "markdown",
   "metadata": {},
   "source": [
    "The above geographical plot displays mean life expectancy of Asian countries. "
   ]
  },
  {
   "cell_type": "code",
   "execution_count": null,
   "metadata": {},
   "outputs": [],
   "source": [
    "#Q2.Deviation in GDP of each country in Europe and South America."
   ]
  },
  {
   "cell_type": "code",
   "execution_count": 25,
   "metadata": {},
   "outputs": [],
   "source": [
    "gdp_countries = df[['country', 'continent', 'gdpPercap', 'iso_alpha']].query('continent in [\"Europe\", \"South America\"]')"
   ]
  },
  {
   "cell_type": "code",
   "execution_count": 26,
   "metadata": {},
   "outputs": [
    {
     "data": {
      "text/html": [
       "<div>\n",
       "<style scoped>\n",
       "    .dataframe tbody tr th:only-of-type {\n",
       "        vertical-align: middle;\n",
       "    }\n",
       "\n",
       "    .dataframe tbody tr th {\n",
       "        vertical-align: top;\n",
       "    }\n",
       "\n",
       "    .dataframe thead th {\n",
       "        text-align: right;\n",
       "    }\n",
       "</style>\n",
       "<table border=\"1\" class=\"dataframe\">\n",
       "  <thead>\n",
       "    <tr style=\"text-align: right;\">\n",
       "      <th></th>\n",
       "      <th>country</th>\n",
       "      <th>continent</th>\n",
       "      <th>gdpPercap</th>\n",
       "      <th>iso_alpha</th>\n",
       "    </tr>\n",
       "  </thead>\n",
       "  <tbody>\n",
       "    <tr>\n",
       "      <th>12</th>\n",
       "      <td>Albania</td>\n",
       "      <td>Europe</td>\n",
       "      <td>1601.056136</td>\n",
       "      <td>ALB</td>\n",
       "    </tr>\n",
       "    <tr>\n",
       "      <th>13</th>\n",
       "      <td>Albania</td>\n",
       "      <td>Europe</td>\n",
       "      <td>1942.284244</td>\n",
       "      <td>ALB</td>\n",
       "    </tr>\n",
       "    <tr>\n",
       "      <th>14</th>\n",
       "      <td>Albania</td>\n",
       "      <td>Europe</td>\n",
       "      <td>2312.888958</td>\n",
       "      <td>ALB</td>\n",
       "    </tr>\n",
       "    <tr>\n",
       "      <th>15</th>\n",
       "      <td>Albania</td>\n",
       "      <td>Europe</td>\n",
       "      <td>2760.196931</td>\n",
       "      <td>ALB</td>\n",
       "    </tr>\n",
       "    <tr>\n",
       "      <th>16</th>\n",
       "      <td>Albania</td>\n",
       "      <td>Europe</td>\n",
       "      <td>3313.422188</td>\n",
       "      <td>ALB</td>\n",
       "    </tr>\n",
       "  </tbody>\n",
       "</table>\n",
       "</div>"
      ],
      "text/plain": [
       "    country continent    gdpPercap iso_alpha\n",
       "12  Albania    Europe  1601.056136       ALB\n",
       "13  Albania    Europe  1942.284244       ALB\n",
       "14  Albania    Europe  2312.888958       ALB\n",
       "15  Albania    Europe  2760.196931       ALB\n",
       "16  Albania    Europe  3313.422188       ALB"
      ]
     },
     "execution_count": 26,
     "metadata": {},
     "output_type": "execute_result"
    }
   ],
   "source": [
    "gdp_countries.head()"
   ]
  },
  {
   "cell_type": "code",
   "execution_count": 28,
   "metadata": {},
   "outputs": [
    {
     "data": {
      "text/html": [
       "<div>\n",
       "<style scoped>\n",
       "    .dataframe tbody tr th:only-of-type {\n",
       "        vertical-align: middle;\n",
       "    }\n",
       "\n",
       "    .dataframe tbody tr th {\n",
       "        vertical-align: top;\n",
       "    }\n",
       "\n",
       "    .dataframe thead th {\n",
       "        text-align: right;\n",
       "    }\n",
       "</style>\n",
       "<table border=\"1\" class=\"dataframe\">\n",
       "  <thead>\n",
       "    <tr style=\"text-align: right;\">\n",
       "      <th></th>\n",
       "      <th>continent</th>\n",
       "      <th>gdpPercap</th>\n",
       "    </tr>\n",
       "  </thead>\n",
       "  <tbody>\n",
       "    <tr>\n",
       "      <th>0</th>\n",
       "      <td>Europe</td>\n",
       "      <td>9355.213498</td>\n",
       "    </tr>\n",
       "  </tbody>\n",
       "</table>\n",
       "</div>"
      ],
      "text/plain": [
       "  continent    gdpPercap\n",
       "0    Europe  9355.213498"
      ]
     },
     "execution_count": 28,
     "metadata": {},
     "output_type": "execute_result"
    }
   ],
   "source": [
    "gdp_countries.groupby('continent').std().reset_index()"
   ]
  },
  {
   "cell_type": "code",
   "execution_count": 29,
   "metadata": {},
   "outputs": [
    {
     "data": {
      "application/vnd.plotly.v1+json": {
       "config": {
        "plotlyServerURL": "https://plot.ly"
       },
       "data": [
        {
         "coloraxis": "coloraxis",
         "geo": "geo",
         "hovertemplate": "<b>%{hovertext}</b><br><br>iso_alpha=%{location}<br>gdpPercap=%{z}<extra></extra>",
         "hovertext": [
          "Albania",
          "Albania",
          "Albania",
          "Albania",
          "Albania",
          "Albania",
          "Albania",
          "Albania",
          "Albania",
          "Albania",
          "Albania",
          "Albania",
          "Austria",
          "Austria",
          "Austria",
          "Austria",
          "Austria",
          "Austria",
          "Austria",
          "Austria",
          "Austria",
          "Austria",
          "Austria",
          "Austria",
          "Belgium",
          "Belgium",
          "Belgium",
          "Belgium",
          "Belgium",
          "Belgium",
          "Belgium",
          "Belgium",
          "Belgium",
          "Belgium",
          "Belgium",
          "Belgium",
          "Bosnia and Herzegovina",
          "Bosnia and Herzegovina",
          "Bosnia and Herzegovina",
          "Bosnia and Herzegovina",
          "Bosnia and Herzegovina",
          "Bosnia and Herzegovina",
          "Bosnia and Herzegovina",
          "Bosnia and Herzegovina",
          "Bosnia and Herzegovina",
          "Bosnia and Herzegovina",
          "Bosnia and Herzegovina",
          "Bosnia and Herzegovina",
          "Bulgaria",
          "Bulgaria",
          "Bulgaria",
          "Bulgaria",
          "Bulgaria",
          "Bulgaria",
          "Bulgaria",
          "Bulgaria",
          "Bulgaria",
          "Bulgaria",
          "Bulgaria",
          "Bulgaria",
          "Croatia",
          "Croatia",
          "Croatia",
          "Croatia",
          "Croatia",
          "Croatia",
          "Croatia",
          "Croatia",
          "Croatia",
          "Croatia",
          "Croatia",
          "Croatia",
          "Czech Republic",
          "Czech Republic",
          "Czech Republic",
          "Czech Republic",
          "Czech Republic",
          "Czech Republic",
          "Czech Republic",
          "Czech Republic",
          "Czech Republic",
          "Czech Republic",
          "Czech Republic",
          "Czech Republic",
          "Denmark",
          "Denmark",
          "Denmark",
          "Denmark",
          "Denmark",
          "Denmark",
          "Denmark",
          "Denmark",
          "Denmark",
          "Denmark",
          "Denmark",
          "Denmark",
          "Finland",
          "Finland",
          "Finland",
          "Finland",
          "Finland",
          "Finland",
          "Finland",
          "Finland",
          "Finland",
          "Finland",
          "Finland",
          "Finland",
          "France",
          "France",
          "France",
          "France",
          "France",
          "France",
          "France",
          "France",
          "France",
          "France",
          "France",
          "France",
          "Germany",
          "Germany",
          "Germany",
          "Germany",
          "Germany",
          "Germany",
          "Germany",
          "Germany",
          "Germany",
          "Germany",
          "Germany",
          "Germany",
          "Greece",
          "Greece",
          "Greece",
          "Greece",
          "Greece",
          "Greece",
          "Greece",
          "Greece",
          "Greece",
          "Greece",
          "Greece",
          "Greece",
          "Hungary",
          "Hungary",
          "Hungary",
          "Hungary",
          "Hungary",
          "Hungary",
          "Hungary",
          "Hungary",
          "Hungary",
          "Hungary",
          "Hungary",
          "Hungary",
          "Iceland",
          "Iceland",
          "Iceland",
          "Iceland",
          "Iceland",
          "Iceland",
          "Iceland",
          "Iceland",
          "Iceland",
          "Iceland",
          "Iceland",
          "Iceland",
          "Ireland",
          "Ireland",
          "Ireland",
          "Ireland",
          "Ireland",
          "Ireland",
          "Ireland",
          "Ireland",
          "Ireland",
          "Ireland",
          "Ireland",
          "Ireland",
          "Italy",
          "Italy",
          "Italy",
          "Italy",
          "Italy",
          "Italy",
          "Italy",
          "Italy",
          "Italy",
          "Italy",
          "Italy",
          "Italy",
          "Montenegro",
          "Montenegro",
          "Montenegro",
          "Montenegro",
          "Montenegro",
          "Montenegro",
          "Montenegro",
          "Montenegro",
          "Montenegro",
          "Montenegro",
          "Montenegro",
          "Montenegro",
          "Netherlands",
          "Netherlands",
          "Netherlands",
          "Netherlands",
          "Netherlands",
          "Netherlands",
          "Netherlands",
          "Netherlands",
          "Netherlands",
          "Netherlands",
          "Netherlands",
          "Netherlands",
          "Norway",
          "Norway",
          "Norway",
          "Norway",
          "Norway",
          "Norway",
          "Norway",
          "Norway",
          "Norway",
          "Norway",
          "Norway",
          "Norway",
          "Poland",
          "Poland",
          "Poland",
          "Poland",
          "Poland",
          "Poland",
          "Poland",
          "Poland",
          "Poland",
          "Poland",
          "Poland",
          "Poland",
          "Portugal",
          "Portugal",
          "Portugal",
          "Portugal",
          "Portugal",
          "Portugal",
          "Portugal",
          "Portugal",
          "Portugal",
          "Portugal",
          "Portugal",
          "Portugal",
          "Romania",
          "Romania",
          "Romania",
          "Romania",
          "Romania",
          "Romania",
          "Romania",
          "Romania",
          "Romania",
          "Romania",
          "Romania",
          "Romania",
          "Serbia",
          "Serbia",
          "Serbia",
          "Serbia",
          "Serbia",
          "Serbia",
          "Serbia",
          "Serbia",
          "Serbia",
          "Serbia",
          "Serbia",
          "Serbia",
          "Slovak Republic",
          "Slovak Republic",
          "Slovak Republic",
          "Slovak Republic",
          "Slovak Republic",
          "Slovak Republic",
          "Slovak Republic",
          "Slovak Republic",
          "Slovak Republic",
          "Slovak Republic",
          "Slovak Republic",
          "Slovak Republic",
          "Slovenia",
          "Slovenia",
          "Slovenia",
          "Slovenia",
          "Slovenia",
          "Slovenia",
          "Slovenia",
          "Slovenia",
          "Slovenia",
          "Slovenia",
          "Slovenia",
          "Slovenia",
          "Spain",
          "Spain",
          "Spain",
          "Spain",
          "Spain",
          "Spain",
          "Spain",
          "Spain",
          "Spain",
          "Spain",
          "Spain",
          "Spain",
          "Sweden",
          "Sweden",
          "Sweden",
          "Sweden",
          "Sweden",
          "Sweden",
          "Sweden",
          "Sweden",
          "Sweden",
          "Sweden",
          "Sweden",
          "Sweden",
          "Switzerland",
          "Switzerland",
          "Switzerland",
          "Switzerland",
          "Switzerland",
          "Switzerland",
          "Switzerland",
          "Switzerland",
          "Switzerland",
          "Switzerland",
          "Switzerland",
          "Switzerland",
          "Turkey",
          "Turkey",
          "Turkey",
          "Turkey",
          "Turkey",
          "Turkey",
          "Turkey",
          "Turkey",
          "Turkey",
          "Turkey",
          "Turkey",
          "Turkey",
          "United Kingdom",
          "United Kingdom",
          "United Kingdom",
          "United Kingdom",
          "United Kingdom",
          "United Kingdom",
          "United Kingdom",
          "United Kingdom",
          "United Kingdom",
          "United Kingdom",
          "United Kingdom",
          "United Kingdom"
         ],
         "locations": [
          "ALB",
          "ALB",
          "ALB",
          "ALB",
          "ALB",
          "ALB",
          "ALB",
          "ALB",
          "ALB",
          "ALB",
          "ALB",
          "ALB",
          "AUT",
          "AUT",
          "AUT",
          "AUT",
          "AUT",
          "AUT",
          "AUT",
          "AUT",
          "AUT",
          "AUT",
          "AUT",
          "AUT",
          "BEL",
          "BEL",
          "BEL",
          "BEL",
          "BEL",
          "BEL",
          "BEL",
          "BEL",
          "BEL",
          "BEL",
          "BEL",
          "BEL",
          "BIH",
          "BIH",
          "BIH",
          "BIH",
          "BIH",
          "BIH",
          "BIH",
          "BIH",
          "BIH",
          "BIH",
          "BIH",
          "BIH",
          "BGR",
          "BGR",
          "BGR",
          "BGR",
          "BGR",
          "BGR",
          "BGR",
          "BGR",
          "BGR",
          "BGR",
          "BGR",
          "BGR",
          "HRV",
          "HRV",
          "HRV",
          "HRV",
          "HRV",
          "HRV",
          "HRV",
          "HRV",
          "HRV",
          "HRV",
          "HRV",
          "HRV",
          "CZE",
          "CZE",
          "CZE",
          "CZE",
          "CZE",
          "CZE",
          "CZE",
          "CZE",
          "CZE",
          "CZE",
          "CZE",
          "CZE",
          "DNK",
          "DNK",
          "DNK",
          "DNK",
          "DNK",
          "DNK",
          "DNK",
          "DNK",
          "DNK",
          "DNK",
          "DNK",
          "DNK",
          "FIN",
          "FIN",
          "FIN",
          "FIN",
          "FIN",
          "FIN",
          "FIN",
          "FIN",
          "FIN",
          "FIN",
          "FIN",
          "FIN",
          "FRA",
          "FRA",
          "FRA",
          "FRA",
          "FRA",
          "FRA",
          "FRA",
          "FRA",
          "FRA",
          "FRA",
          "FRA",
          "FRA",
          "DEU",
          "DEU",
          "DEU",
          "DEU",
          "DEU",
          "DEU",
          "DEU",
          "DEU",
          "DEU",
          "DEU",
          "DEU",
          "DEU",
          "GRC",
          "GRC",
          "GRC",
          "GRC",
          "GRC",
          "GRC",
          "GRC",
          "GRC",
          "GRC",
          "GRC",
          "GRC",
          "GRC",
          "HUN",
          "HUN",
          "HUN",
          "HUN",
          "HUN",
          "HUN",
          "HUN",
          "HUN",
          "HUN",
          "HUN",
          "HUN",
          "HUN",
          "ISL",
          "ISL",
          "ISL",
          "ISL",
          "ISL",
          "ISL",
          "ISL",
          "ISL",
          "ISL",
          "ISL",
          "ISL",
          "ISL",
          "IRL",
          "IRL",
          "IRL",
          "IRL",
          "IRL",
          "IRL",
          "IRL",
          "IRL",
          "IRL",
          "IRL",
          "IRL",
          "IRL",
          "ITA",
          "ITA",
          "ITA",
          "ITA",
          "ITA",
          "ITA",
          "ITA",
          "ITA",
          "ITA",
          "ITA",
          "ITA",
          "ITA",
          "MNE",
          "MNE",
          "MNE",
          "MNE",
          "MNE",
          "MNE",
          "MNE",
          "MNE",
          "MNE",
          "MNE",
          "MNE",
          "MNE",
          "NLD",
          "NLD",
          "NLD",
          "NLD",
          "NLD",
          "NLD",
          "NLD",
          "NLD",
          "NLD",
          "NLD",
          "NLD",
          "NLD",
          "NOR",
          "NOR",
          "NOR",
          "NOR",
          "NOR",
          "NOR",
          "NOR",
          "NOR",
          "NOR",
          "NOR",
          "NOR",
          "NOR",
          "POL",
          "POL",
          "POL",
          "POL",
          "POL",
          "POL",
          "POL",
          "POL",
          "POL",
          "POL",
          "POL",
          "POL",
          "PRT",
          "PRT",
          "PRT",
          "PRT",
          "PRT",
          "PRT",
          "PRT",
          "PRT",
          "PRT",
          "PRT",
          "PRT",
          "PRT",
          "ROU",
          "ROU",
          "ROU",
          "ROU",
          "ROU",
          "ROU",
          "ROU",
          "ROU",
          "ROU",
          "ROU",
          "ROU",
          "ROU",
          "SRB",
          "SRB",
          "SRB",
          "SRB",
          "SRB",
          "SRB",
          "SRB",
          "SRB",
          "SRB",
          "SRB",
          "SRB",
          "SRB",
          "SVK",
          "SVK",
          "SVK",
          "SVK",
          "SVK",
          "SVK",
          "SVK",
          "SVK",
          "SVK",
          "SVK",
          "SVK",
          "SVK",
          "SVN",
          "SVN",
          "SVN",
          "SVN",
          "SVN",
          "SVN",
          "SVN",
          "SVN",
          "SVN",
          "SVN",
          "SVN",
          "SVN",
          "ESP",
          "ESP",
          "ESP",
          "ESP",
          "ESP",
          "ESP",
          "ESP",
          "ESP",
          "ESP",
          "ESP",
          "ESP",
          "ESP",
          "SWE",
          "SWE",
          "SWE",
          "SWE",
          "SWE",
          "SWE",
          "SWE",
          "SWE",
          "SWE",
          "SWE",
          "SWE",
          "SWE",
          "CHE",
          "CHE",
          "CHE",
          "CHE",
          "CHE",
          "CHE",
          "CHE",
          "CHE",
          "CHE",
          "CHE",
          "CHE",
          "CHE",
          "TUR",
          "TUR",
          "TUR",
          "TUR",
          "TUR",
          "TUR",
          "TUR",
          "TUR",
          "TUR",
          "TUR",
          "TUR",
          "TUR",
          "GBR",
          "GBR",
          "GBR",
          "GBR",
          "GBR",
          "GBR",
          "GBR",
          "GBR",
          "GBR",
          "GBR",
          "GBR",
          "GBR"
         ],
         "name": "",
         "type": "choropleth",
         "z": [
          1601.056136,
          1942.2842440000002,
          2312.888958,
          2760.196931,
          3313.422188,
          3533.0039100000004,
          3630.880722,
          3738.9327350000003,
          2497.4379010000002,
          3193.054604,
          4604.211737,
          5937.029525999999,
          6137.076492,
          8842.59803,
          10750.721109999999,
          12834.6024,
          16661.6256,
          19749.4223,
          21597.083619999998,
          23687.82607,
          27042.01868,
          29095.920660000003,
          32417.607689999997,
          36126.4927,
          8343.105126999999,
          9714.960623,
          10991.20676,
          13149.04119,
          16672.14356,
          19117.97448,
          20979.84589,
          22525.56308,
          25575.57069,
          27561.196630000002,
          30485.88375,
          33692.60508,
          973.5331947999999,
          1353.989176,
          1709.683679,
          2172.3524230000003,
          2860.16975,
          3528.481305,
          4126.613157,
          4314.114757,
          2546.781445,
          4766.355904,
          6018.975239,
          7446.298803,
          2444.2866480000002,
          3008.670727,
          4254.337839,
          5577.0028,
          6597.494398,
          7612.240438,
          8224.191647,
          8239.854824,
          6302.6234380000005,
          5970.38876,
          7696.777725,
          10680.79282,
          3119.23652,
          4338.231617,
          5477.890018,
          6960.297861,
          9164.090127,
          11305.38517,
          13221.82184,
          13822.58394,
          8447.794873,
          9875.604515,
          11628.38895,
          14619.222719999998,
          6876.14025,
          8256.343918,
          10136.86713,
          11399.44489,
          13108.4536,
          14800.160619999999,
          15377.22855,
          16310.4434,
          14297.021219999999,
          16048.51424,
          17596.210219999997,
          22833.30851,
          9692.385245,
          11099.65935,
          13583.31351,
          15937.21123,
          18866.20721,
          20422.9015,
          21688.04048,
          25116.17581,
          26406.73985,
          29804.34567,
          32166.500060000002,
          35278.41874,
          6424.519071,
          7545.415386,
          9371.842561,
          10921.63626,
          14358.8759,
          15605.422830000001,
          18533.15761,
          21141.01223,
          20647.16499,
          23723.9502,
          28204.59057,
          33207.0844,
          7029.809327,
          8662.834898000001,
          10560.48553,
          12999.91766,
          16107.19171,
          18292.635140000002,
          20293.89746,
          22066.44214,
          24703.79615,
          25889.78487,
          28926.032339999998,
          30470.0167,
          7144.114393000001,
          10187.82665,
          12902.46291,
          14745.62561,
          18016.180269999997,
          20512.92123,
          22031.532740000002,
          24639.18566,
          26505.30317,
          27788.88416,
          30035.80198,
          32170.37442,
          3530.690067,
          4916.299889,
          6017.190732999999,
          8513.097016,
          12724.82957,
          14195.524280000001,
          15268.420890000001,
          16120.528390000001,
          17541.49634,
          18747.69814,
          22514.2548,
          27538.41188,
          5263.6738159999995,
          6040.180011,
          7550.359877,
          9326.64467,
          10168.65611,
          11674.837370000001,
          12545.99066,
          12986.47998,
          10535.62855,
          11712.7768,
          14843.93556,
          18008.94444,
          7267.688428,
          9244.001412,
          10350.15906,
          13319.89568,
          15798.063619999999,
          19654.96247,
          23269.6075,
          26923.206280000002,
          25144.39201,
          28061.099660000003,
          31163.201960000002,
          36180.789189999996,
          5210.280328,
          5599.077872,
          6631.597314,
          7655.568963,
          9530.772895999999,
          11150.98113,
          12618.321409999999,
          13872.86652,
          17558.81555,
          24521.94713,
          34077.04939,
          40675.99635,
          4931.404154999999,
          6248.656232,
          8243.58234,
          10022.40131,
          12269.27378,
          14255.98475,
          16537.4835,
          19207.234819999998,
          22013.64486,
          24675.02446,
          27968.098169999997,
          28569.7197,
          2647.585601,
          3682.259903,
          4649.593785,
          5907.850937,
          7778.414017,
          9595.929904999999,
          11222.58762,
          11732.51017,
          7003.339037000001,
          6465.613349,
          6557.194282,
          9253.896111,
          8941.571858,
          11276.193440000001,
          12790.849559999999,
          15363.25136,
          18794.74567,
          21209.0592,
          21399.46046,
          23651.32361,
          26790.94961,
          30246.13063,
          33724.75778,
          36797.93332,
          10095.42172,
          11653.97304,
          13450.40151,
          16361.87647,
          18965.05551,
          23311.34939,
          26298.635309999998,
          31540.9748,
          33965.66115,
          41283.16433,
          44683.97525,
          49357.19017,
          4029.3296990000003,
          4734.253019,
          5338.752143,
          6557.152776,
          8006.506993000001,
          9508.141454,
          8451.531004,
          9082.351172,
          7738.881247,
          10159.58368,
          12002.23908,
          15389.924680000002,
          3068.319867,
          3774.571743,
          4727.954889,
          6361.517993,
          9022.247417,
          10172.48572,
          11753.84291,
          13039.30876,
          16207.266630000002,
          17641.03156,
          19970.90787,
          20509.64777,
          3144.613186,
          3943.370225,
          4734.9975859999995,
          6470.866545,
          8011.414401999999,
          9356.39724,
          9605.314053,
          9696.273295,
          6598.409903,
          7346.547556999999,
          7885.360081,
          10808.47561,
          3581.4594479999996,
          4981.090891,
          6289.629157,
          7991.707066,
          10522.067490000001,
          12980.66956,
          15181.0927,
          15870.878509999999,
          9325.068238,
          7914.320304000001,
          7236.075251,
          9786.534714,
          5074.659104,
          6093.2629799999995,
          7481.1075980000005,
          8412.902397,
          9674.167626,
          10922.664040000001,
          11348.54585,
          12037.26758,
          9498.467723,
          12126.23065,
          13638.778369999998,
          18678.31435,
          4215.041741,
          5862.276629,
          7402.303395,
          9405.489397,
          12383.4862,
          15277.030169999998,
          17866.72175,
          18678.53492,
          14214.71681,
          17161.10735,
          20660.01936,
          25768.25759,
          3834.0347420000003,
          4564.80241,
          5693.843879,
          7993.512294,
          10638.75131,
          13236.92117,
          13926.169969999999,
          15764.98313,
          18603.06452,
          20445.29896,
          24835.47166,
          28821.0637,
          8527.844662000001,
          9911.878226,
          12329.441920000001,
          15258.29697,
          17832.02464,
          18855.72521,
          20667.38125,
          23586.92927,
          23880.01683,
          25266.59499,
          29341.630930000003,
          33859.74835,
          14734.23275,
          17909.48973,
          20431.0927,
          22966.14432,
          27195.113039999997,
          26982.29052,
          28397.715119999997,
          30281.704589999998,
          31871.5303,
          32135.323010000004,
          34480.95771,
          37506.419069999996,
          1969.1009800000002,
          2218.754257,
          2322.8699079999997,
          2826.3563870000003,
          3450.69638,
          4269.122326,
          4241.356344,
          5089.043686,
          5678.348271,
          6601.429915,
          6508.085718,
          8458.276384,
          9979.508487000001,
          11283.17795,
          12477.17707,
          14142.85089,
          15895.116409999999,
          17428.74846,
          18232.42452,
          21664.787669999998,
          22705.09254,
          26074.53136,
          29478.99919,
          33203.26128
         ]
        }
       ],
       "layout": {
        "coloraxis": {
         "colorbar": {
          "title": {
           "text": "gdpPercap"
          }
         },
         "colorscale": [
          [
           0,
           "#0d0887"
          ],
          [
           0.1111111111111111,
           "#46039f"
          ],
          [
           0.2222222222222222,
           "#7201a8"
          ],
          [
           0.3333333333333333,
           "#9c179e"
          ],
          [
           0.4444444444444444,
           "#bd3786"
          ],
          [
           0.5555555555555556,
           "#d8576b"
          ],
          [
           0.6666666666666666,
           "#ed7953"
          ],
          [
           0.7777777777777778,
           "#fb9f3a"
          ],
          [
           0.8888888888888888,
           "#fdca26"
          ],
          [
           1,
           "#f0f921"
          ]
         ]
        },
        "geo": {
         "center": {},
         "domain": {
          "x": [
           0,
           1
          ],
          "y": [
           0,
           1
          ]
         }
        },
        "legend": {
         "tracegroupgap": 0
        },
        "margin": {
         "b": 0,
         "l": 0,
         "r": 0,
         "t": 0
        },
        "template": {
         "data": {
          "bar": [
           {
            "error_x": {
             "color": "#2a3f5f"
            },
            "error_y": {
             "color": "#2a3f5f"
            },
            "marker": {
             "line": {
              "color": "#E5ECF6",
              "width": 0.5
             }
            },
            "type": "bar"
           }
          ],
          "barpolar": [
           {
            "marker": {
             "line": {
              "color": "#E5ECF6",
              "width": 0.5
             }
            },
            "type": "barpolar"
           }
          ],
          "carpet": [
           {
            "aaxis": {
             "endlinecolor": "#2a3f5f",
             "gridcolor": "white",
             "linecolor": "white",
             "minorgridcolor": "white",
             "startlinecolor": "#2a3f5f"
            },
            "baxis": {
             "endlinecolor": "#2a3f5f",
             "gridcolor": "white",
             "linecolor": "white",
             "minorgridcolor": "white",
             "startlinecolor": "#2a3f5f"
            },
            "type": "carpet"
           }
          ],
          "choropleth": [
           {
            "colorbar": {
             "outlinewidth": 0,
             "ticks": ""
            },
            "type": "choropleth"
           }
          ],
          "contour": [
           {
            "colorbar": {
             "outlinewidth": 0,
             "ticks": ""
            },
            "colorscale": [
             [
              0,
              "#0d0887"
             ],
             [
              0.1111111111111111,
              "#46039f"
             ],
             [
              0.2222222222222222,
              "#7201a8"
             ],
             [
              0.3333333333333333,
              "#9c179e"
             ],
             [
              0.4444444444444444,
              "#bd3786"
             ],
             [
              0.5555555555555556,
              "#d8576b"
             ],
             [
              0.6666666666666666,
              "#ed7953"
             ],
             [
              0.7777777777777778,
              "#fb9f3a"
             ],
             [
              0.8888888888888888,
              "#fdca26"
             ],
             [
              1,
              "#f0f921"
             ]
            ],
            "type": "contour"
           }
          ],
          "contourcarpet": [
           {
            "colorbar": {
             "outlinewidth": 0,
             "ticks": ""
            },
            "type": "contourcarpet"
           }
          ],
          "heatmap": [
           {
            "colorbar": {
             "outlinewidth": 0,
             "ticks": ""
            },
            "colorscale": [
             [
              0,
              "#0d0887"
             ],
             [
              0.1111111111111111,
              "#46039f"
             ],
             [
              0.2222222222222222,
              "#7201a8"
             ],
             [
              0.3333333333333333,
              "#9c179e"
             ],
             [
              0.4444444444444444,
              "#bd3786"
             ],
             [
              0.5555555555555556,
              "#d8576b"
             ],
             [
              0.6666666666666666,
              "#ed7953"
             ],
             [
              0.7777777777777778,
              "#fb9f3a"
             ],
             [
              0.8888888888888888,
              "#fdca26"
             ],
             [
              1,
              "#f0f921"
             ]
            ],
            "type": "heatmap"
           }
          ],
          "heatmapgl": [
           {
            "colorbar": {
             "outlinewidth": 0,
             "ticks": ""
            },
            "colorscale": [
             [
              0,
              "#0d0887"
             ],
             [
              0.1111111111111111,
              "#46039f"
             ],
             [
              0.2222222222222222,
              "#7201a8"
             ],
             [
              0.3333333333333333,
              "#9c179e"
             ],
             [
              0.4444444444444444,
              "#bd3786"
             ],
             [
              0.5555555555555556,
              "#d8576b"
             ],
             [
              0.6666666666666666,
              "#ed7953"
             ],
             [
              0.7777777777777778,
              "#fb9f3a"
             ],
             [
              0.8888888888888888,
              "#fdca26"
             ],
             [
              1,
              "#f0f921"
             ]
            ],
            "type": "heatmapgl"
           }
          ],
          "histogram": [
           {
            "marker": {
             "colorbar": {
              "outlinewidth": 0,
              "ticks": ""
             }
            },
            "type": "histogram"
           }
          ],
          "histogram2d": [
           {
            "colorbar": {
             "outlinewidth": 0,
             "ticks": ""
            },
            "colorscale": [
             [
              0,
              "#0d0887"
             ],
             [
              0.1111111111111111,
              "#46039f"
             ],
             [
              0.2222222222222222,
              "#7201a8"
             ],
             [
              0.3333333333333333,
              "#9c179e"
             ],
             [
              0.4444444444444444,
              "#bd3786"
             ],
             [
              0.5555555555555556,
              "#d8576b"
             ],
             [
              0.6666666666666666,
              "#ed7953"
             ],
             [
              0.7777777777777778,
              "#fb9f3a"
             ],
             [
              0.8888888888888888,
              "#fdca26"
             ],
             [
              1,
              "#f0f921"
             ]
            ],
            "type": "histogram2d"
           }
          ],
          "histogram2dcontour": [
           {
            "colorbar": {
             "outlinewidth": 0,
             "ticks": ""
            },
            "colorscale": [
             [
              0,
              "#0d0887"
             ],
             [
              0.1111111111111111,
              "#46039f"
             ],
             [
              0.2222222222222222,
              "#7201a8"
             ],
             [
              0.3333333333333333,
              "#9c179e"
             ],
             [
              0.4444444444444444,
              "#bd3786"
             ],
             [
              0.5555555555555556,
              "#d8576b"
             ],
             [
              0.6666666666666666,
              "#ed7953"
             ],
             [
              0.7777777777777778,
              "#fb9f3a"
             ],
             [
              0.8888888888888888,
              "#fdca26"
             ],
             [
              1,
              "#f0f921"
             ]
            ],
            "type": "histogram2dcontour"
           }
          ],
          "mesh3d": [
           {
            "colorbar": {
             "outlinewidth": 0,
             "ticks": ""
            },
            "type": "mesh3d"
           }
          ],
          "parcoords": [
           {
            "line": {
             "colorbar": {
              "outlinewidth": 0,
              "ticks": ""
             }
            },
            "type": "parcoords"
           }
          ],
          "pie": [
           {
            "automargin": true,
            "type": "pie"
           }
          ],
          "scatter": [
           {
            "marker": {
             "colorbar": {
              "outlinewidth": 0,
              "ticks": ""
             }
            },
            "type": "scatter"
           }
          ],
          "scatter3d": [
           {
            "line": {
             "colorbar": {
              "outlinewidth": 0,
              "ticks": ""
             }
            },
            "marker": {
             "colorbar": {
              "outlinewidth": 0,
              "ticks": ""
             }
            },
            "type": "scatter3d"
           }
          ],
          "scattercarpet": [
           {
            "marker": {
             "colorbar": {
              "outlinewidth": 0,
              "ticks": ""
             }
            },
            "type": "scattercarpet"
           }
          ],
          "scattergeo": [
           {
            "marker": {
             "colorbar": {
              "outlinewidth": 0,
              "ticks": ""
             }
            },
            "type": "scattergeo"
           }
          ],
          "scattergl": [
           {
            "marker": {
             "colorbar": {
              "outlinewidth": 0,
              "ticks": ""
             }
            },
            "type": "scattergl"
           }
          ],
          "scattermapbox": [
           {
            "marker": {
             "colorbar": {
              "outlinewidth": 0,
              "ticks": ""
             }
            },
            "type": "scattermapbox"
           }
          ],
          "scatterpolar": [
           {
            "marker": {
             "colorbar": {
              "outlinewidth": 0,
              "ticks": ""
             }
            },
            "type": "scatterpolar"
           }
          ],
          "scatterpolargl": [
           {
            "marker": {
             "colorbar": {
              "outlinewidth": 0,
              "ticks": ""
             }
            },
            "type": "scatterpolargl"
           }
          ],
          "scatterternary": [
           {
            "marker": {
             "colorbar": {
              "outlinewidth": 0,
              "ticks": ""
             }
            },
            "type": "scatterternary"
           }
          ],
          "surface": [
           {
            "colorbar": {
             "outlinewidth": 0,
             "ticks": ""
            },
            "colorscale": [
             [
              0,
              "#0d0887"
             ],
             [
              0.1111111111111111,
              "#46039f"
             ],
             [
              0.2222222222222222,
              "#7201a8"
             ],
             [
              0.3333333333333333,
              "#9c179e"
             ],
             [
              0.4444444444444444,
              "#bd3786"
             ],
             [
              0.5555555555555556,
              "#d8576b"
             ],
             [
              0.6666666666666666,
              "#ed7953"
             ],
             [
              0.7777777777777778,
              "#fb9f3a"
             ],
             [
              0.8888888888888888,
              "#fdca26"
             ],
             [
              1,
              "#f0f921"
             ]
            ],
            "type": "surface"
           }
          ],
          "table": [
           {
            "cells": {
             "fill": {
              "color": "#EBF0F8"
             },
             "line": {
              "color": "white"
             }
            },
            "header": {
             "fill": {
              "color": "#C8D4E3"
             },
             "line": {
              "color": "white"
             }
            },
            "type": "table"
           }
          ]
         },
         "layout": {
          "annotationdefaults": {
           "arrowcolor": "#2a3f5f",
           "arrowhead": 0,
           "arrowwidth": 1
          },
          "autotypenumbers": "strict",
          "coloraxis": {
           "colorbar": {
            "outlinewidth": 0,
            "ticks": ""
           }
          },
          "colorscale": {
           "diverging": [
            [
             0,
             "#8e0152"
            ],
            [
             0.1,
             "#c51b7d"
            ],
            [
             0.2,
             "#de77ae"
            ],
            [
             0.3,
             "#f1b6da"
            ],
            [
             0.4,
             "#fde0ef"
            ],
            [
             0.5,
             "#f7f7f7"
            ],
            [
             0.6,
             "#e6f5d0"
            ],
            [
             0.7,
             "#b8e186"
            ],
            [
             0.8,
             "#7fbc41"
            ],
            [
             0.9,
             "#4d9221"
            ],
            [
             1,
             "#276419"
            ]
           ],
           "sequential": [
            [
             0,
             "#0d0887"
            ],
            [
             0.1111111111111111,
             "#46039f"
            ],
            [
             0.2222222222222222,
             "#7201a8"
            ],
            [
             0.3333333333333333,
             "#9c179e"
            ],
            [
             0.4444444444444444,
             "#bd3786"
            ],
            [
             0.5555555555555556,
             "#d8576b"
            ],
            [
             0.6666666666666666,
             "#ed7953"
            ],
            [
             0.7777777777777778,
             "#fb9f3a"
            ],
            [
             0.8888888888888888,
             "#fdca26"
            ],
            [
             1,
             "#f0f921"
            ]
           ],
           "sequentialminus": [
            [
             0,
             "#0d0887"
            ],
            [
             0.1111111111111111,
             "#46039f"
            ],
            [
             0.2222222222222222,
             "#7201a8"
            ],
            [
             0.3333333333333333,
             "#9c179e"
            ],
            [
             0.4444444444444444,
             "#bd3786"
            ],
            [
             0.5555555555555556,
             "#d8576b"
            ],
            [
             0.6666666666666666,
             "#ed7953"
            ],
            [
             0.7777777777777778,
             "#fb9f3a"
            ],
            [
             0.8888888888888888,
             "#fdca26"
            ],
            [
             1,
             "#f0f921"
            ]
           ]
          },
          "colorway": [
           "#636efa",
           "#EF553B",
           "#00cc96",
           "#ab63fa",
           "#FFA15A",
           "#19d3f3",
           "#FF6692",
           "#B6E880",
           "#FF97FF",
           "#FECB52"
          ],
          "font": {
           "color": "#2a3f5f"
          },
          "geo": {
           "bgcolor": "white",
           "lakecolor": "white",
           "landcolor": "#E5ECF6",
           "showlakes": true,
           "showland": true,
           "subunitcolor": "white"
          },
          "hoverlabel": {
           "align": "left"
          },
          "hovermode": "closest",
          "mapbox": {
           "style": "light"
          },
          "paper_bgcolor": "white",
          "plot_bgcolor": "#E5ECF6",
          "polar": {
           "angularaxis": {
            "gridcolor": "white",
            "linecolor": "white",
            "ticks": ""
           },
           "bgcolor": "#E5ECF6",
           "radialaxis": {
            "gridcolor": "white",
            "linecolor": "white",
            "ticks": ""
           }
          },
          "scene": {
           "xaxis": {
            "backgroundcolor": "#E5ECF6",
            "gridcolor": "white",
            "gridwidth": 2,
            "linecolor": "white",
            "showbackground": true,
            "ticks": "",
            "zerolinecolor": "white"
           },
           "yaxis": {
            "backgroundcolor": "#E5ECF6",
            "gridcolor": "white",
            "gridwidth": 2,
            "linecolor": "white",
            "showbackground": true,
            "ticks": "",
            "zerolinecolor": "white"
           },
           "zaxis": {
            "backgroundcolor": "#E5ECF6",
            "gridcolor": "white",
            "gridwidth": 2,
            "linecolor": "white",
            "showbackground": true,
            "ticks": "",
            "zerolinecolor": "white"
           }
          },
          "shapedefaults": {
           "line": {
            "color": "#2a3f5f"
           }
          },
          "ternary": {
           "aaxis": {
            "gridcolor": "white",
            "linecolor": "white",
            "ticks": ""
           },
           "baxis": {
            "gridcolor": "white",
            "linecolor": "white",
            "ticks": ""
           },
           "bgcolor": "#E5ECF6",
           "caxis": {
            "gridcolor": "white",
            "linecolor": "white",
            "ticks": ""
           }
          },
          "title": {
           "x": 0.05
          },
          "xaxis": {
           "automargin": true,
           "gridcolor": "white",
           "linecolor": "white",
           "ticks": "",
           "title": {
            "standoff": 15
           },
           "zerolinecolor": "white",
           "zerolinewidth": 2
          },
          "yaxis": {
           "automargin": true,
           "gridcolor": "white",
           "linecolor": "white",
           "ticks": "",
           "title": {
            "standoff": 15
           },
           "zerolinecolor": "white",
           "zerolinewidth": 2
          }
         }
        }
       }
      },
      "text/html": [
       "<div>                            <div id=\"2d1325d3-7c61-4b14-b837-8d6b588173fc\" class=\"plotly-graph-div\" style=\"height:525px; width:100%;\"></div>            <script type=\"text/javascript\">                require([\"plotly\"], function(Plotly) {                    window.PLOTLYENV=window.PLOTLYENV || {};                                    if (document.getElementById(\"2d1325d3-7c61-4b14-b837-8d6b588173fc\")) {                    Plotly.newPlot(                        \"2d1325d3-7c61-4b14-b837-8d6b588173fc\",                        [{\"coloraxis\": \"coloraxis\", \"geo\": \"geo\", \"hovertemplate\": \"<b>%{hovertext}</b><br><br>iso_alpha=%{location}<br>gdpPercap=%{z}<extra></extra>\", \"hovertext\": [\"Albania\", \"Albania\", \"Albania\", \"Albania\", \"Albania\", \"Albania\", \"Albania\", \"Albania\", \"Albania\", \"Albania\", \"Albania\", \"Albania\", \"Austria\", \"Austria\", \"Austria\", \"Austria\", \"Austria\", \"Austria\", \"Austria\", \"Austria\", \"Austria\", \"Austria\", \"Austria\", \"Austria\", \"Belgium\", \"Belgium\", \"Belgium\", \"Belgium\", \"Belgium\", \"Belgium\", \"Belgium\", \"Belgium\", \"Belgium\", \"Belgium\", \"Belgium\", \"Belgium\", \"Bosnia and Herzegovina\", \"Bosnia and Herzegovina\", \"Bosnia and Herzegovina\", \"Bosnia and Herzegovina\", \"Bosnia and Herzegovina\", \"Bosnia and Herzegovina\", \"Bosnia and Herzegovina\", \"Bosnia and Herzegovina\", \"Bosnia and Herzegovina\", \"Bosnia and Herzegovina\", \"Bosnia and Herzegovina\", \"Bosnia and Herzegovina\", \"Bulgaria\", \"Bulgaria\", \"Bulgaria\", \"Bulgaria\", \"Bulgaria\", \"Bulgaria\", \"Bulgaria\", \"Bulgaria\", \"Bulgaria\", \"Bulgaria\", \"Bulgaria\", \"Bulgaria\", \"Croatia\", \"Croatia\", \"Croatia\", \"Croatia\", \"Croatia\", \"Croatia\", \"Croatia\", \"Croatia\", \"Croatia\", \"Croatia\", \"Croatia\", \"Croatia\", \"Czech Republic\", \"Czech Republic\", \"Czech Republic\", \"Czech Republic\", \"Czech Republic\", \"Czech Republic\", \"Czech Republic\", \"Czech Republic\", \"Czech Republic\", \"Czech Republic\", \"Czech Republic\", \"Czech Republic\", \"Denmark\", \"Denmark\", \"Denmark\", \"Denmark\", \"Denmark\", \"Denmark\", \"Denmark\", \"Denmark\", \"Denmark\", \"Denmark\", \"Denmark\", \"Denmark\", \"Finland\", \"Finland\", \"Finland\", \"Finland\", \"Finland\", \"Finland\", \"Finland\", \"Finland\", \"Finland\", \"Finland\", \"Finland\", \"Finland\", \"France\", \"France\", \"France\", \"France\", \"France\", \"France\", \"France\", \"France\", \"France\", \"France\", \"France\", \"France\", \"Germany\", \"Germany\", \"Germany\", \"Germany\", \"Germany\", \"Germany\", \"Germany\", \"Germany\", \"Germany\", \"Germany\", \"Germany\", \"Germany\", \"Greece\", \"Greece\", \"Greece\", \"Greece\", \"Greece\", \"Greece\", \"Greece\", \"Greece\", \"Greece\", \"Greece\", \"Greece\", \"Greece\", \"Hungary\", \"Hungary\", \"Hungary\", \"Hungary\", \"Hungary\", \"Hungary\", \"Hungary\", \"Hungary\", \"Hungary\", \"Hungary\", \"Hungary\", \"Hungary\", \"Iceland\", \"Iceland\", \"Iceland\", \"Iceland\", \"Iceland\", \"Iceland\", \"Iceland\", \"Iceland\", \"Iceland\", \"Iceland\", \"Iceland\", \"Iceland\", \"Ireland\", \"Ireland\", \"Ireland\", \"Ireland\", \"Ireland\", \"Ireland\", \"Ireland\", \"Ireland\", \"Ireland\", \"Ireland\", \"Ireland\", \"Ireland\", \"Italy\", \"Italy\", \"Italy\", \"Italy\", \"Italy\", \"Italy\", \"Italy\", \"Italy\", \"Italy\", \"Italy\", \"Italy\", \"Italy\", \"Montenegro\", \"Montenegro\", \"Montenegro\", \"Montenegro\", \"Montenegro\", \"Montenegro\", \"Montenegro\", \"Montenegro\", \"Montenegro\", \"Montenegro\", \"Montenegro\", \"Montenegro\", \"Netherlands\", \"Netherlands\", \"Netherlands\", \"Netherlands\", \"Netherlands\", \"Netherlands\", \"Netherlands\", \"Netherlands\", \"Netherlands\", \"Netherlands\", \"Netherlands\", \"Netherlands\", \"Norway\", \"Norway\", \"Norway\", \"Norway\", \"Norway\", \"Norway\", \"Norway\", \"Norway\", \"Norway\", \"Norway\", \"Norway\", \"Norway\", \"Poland\", \"Poland\", \"Poland\", \"Poland\", \"Poland\", \"Poland\", \"Poland\", \"Poland\", \"Poland\", \"Poland\", \"Poland\", \"Poland\", \"Portugal\", \"Portugal\", \"Portugal\", \"Portugal\", \"Portugal\", \"Portugal\", \"Portugal\", \"Portugal\", \"Portugal\", \"Portugal\", \"Portugal\", \"Portugal\", \"Romania\", \"Romania\", \"Romania\", \"Romania\", \"Romania\", \"Romania\", \"Romania\", \"Romania\", \"Romania\", \"Romania\", \"Romania\", \"Romania\", \"Serbia\", \"Serbia\", \"Serbia\", \"Serbia\", \"Serbia\", \"Serbia\", \"Serbia\", \"Serbia\", \"Serbia\", \"Serbia\", \"Serbia\", \"Serbia\", \"Slovak Republic\", \"Slovak Republic\", \"Slovak Republic\", \"Slovak Republic\", \"Slovak Republic\", \"Slovak Republic\", \"Slovak Republic\", \"Slovak Republic\", \"Slovak Republic\", \"Slovak Republic\", \"Slovak Republic\", \"Slovak Republic\", \"Slovenia\", \"Slovenia\", \"Slovenia\", \"Slovenia\", \"Slovenia\", \"Slovenia\", \"Slovenia\", \"Slovenia\", \"Slovenia\", \"Slovenia\", \"Slovenia\", \"Slovenia\", \"Spain\", \"Spain\", \"Spain\", \"Spain\", \"Spain\", \"Spain\", \"Spain\", \"Spain\", \"Spain\", \"Spain\", \"Spain\", \"Spain\", \"Sweden\", \"Sweden\", \"Sweden\", \"Sweden\", \"Sweden\", \"Sweden\", \"Sweden\", \"Sweden\", \"Sweden\", \"Sweden\", \"Sweden\", \"Sweden\", \"Switzerland\", \"Switzerland\", \"Switzerland\", \"Switzerland\", \"Switzerland\", \"Switzerland\", \"Switzerland\", \"Switzerland\", \"Switzerland\", \"Switzerland\", \"Switzerland\", \"Switzerland\", \"Turkey\", \"Turkey\", \"Turkey\", \"Turkey\", \"Turkey\", \"Turkey\", \"Turkey\", \"Turkey\", \"Turkey\", \"Turkey\", \"Turkey\", \"Turkey\", \"United Kingdom\", \"United Kingdom\", \"United Kingdom\", \"United Kingdom\", \"United Kingdom\", \"United Kingdom\", \"United Kingdom\", \"United Kingdom\", \"United Kingdom\", \"United Kingdom\", \"United Kingdom\", \"United Kingdom\"], \"locations\": [\"ALB\", \"ALB\", \"ALB\", \"ALB\", \"ALB\", \"ALB\", \"ALB\", \"ALB\", \"ALB\", \"ALB\", \"ALB\", \"ALB\", \"AUT\", \"AUT\", \"AUT\", \"AUT\", \"AUT\", \"AUT\", \"AUT\", \"AUT\", \"AUT\", \"AUT\", \"AUT\", \"AUT\", \"BEL\", \"BEL\", \"BEL\", \"BEL\", \"BEL\", \"BEL\", \"BEL\", \"BEL\", \"BEL\", \"BEL\", \"BEL\", \"BEL\", \"BIH\", \"BIH\", \"BIH\", \"BIH\", \"BIH\", \"BIH\", \"BIH\", \"BIH\", \"BIH\", \"BIH\", \"BIH\", \"BIH\", \"BGR\", \"BGR\", \"BGR\", \"BGR\", \"BGR\", \"BGR\", \"BGR\", \"BGR\", \"BGR\", \"BGR\", \"BGR\", \"BGR\", \"HRV\", \"HRV\", \"HRV\", \"HRV\", \"HRV\", \"HRV\", \"HRV\", \"HRV\", \"HRV\", \"HRV\", \"HRV\", \"HRV\", \"CZE\", \"CZE\", \"CZE\", \"CZE\", \"CZE\", \"CZE\", \"CZE\", \"CZE\", \"CZE\", \"CZE\", \"CZE\", \"CZE\", \"DNK\", \"DNK\", \"DNK\", \"DNK\", \"DNK\", \"DNK\", \"DNK\", \"DNK\", \"DNK\", \"DNK\", \"DNK\", \"DNK\", \"FIN\", \"FIN\", \"FIN\", \"FIN\", \"FIN\", \"FIN\", \"FIN\", \"FIN\", \"FIN\", \"FIN\", \"FIN\", \"FIN\", \"FRA\", \"FRA\", \"FRA\", \"FRA\", \"FRA\", \"FRA\", \"FRA\", \"FRA\", \"FRA\", \"FRA\", \"FRA\", \"FRA\", \"DEU\", \"DEU\", \"DEU\", \"DEU\", \"DEU\", \"DEU\", \"DEU\", \"DEU\", \"DEU\", \"DEU\", \"DEU\", \"DEU\", \"GRC\", \"GRC\", \"GRC\", \"GRC\", \"GRC\", \"GRC\", \"GRC\", \"GRC\", \"GRC\", \"GRC\", \"GRC\", \"GRC\", \"HUN\", \"HUN\", \"HUN\", \"HUN\", \"HUN\", \"HUN\", \"HUN\", \"HUN\", \"HUN\", \"HUN\", \"HUN\", \"HUN\", \"ISL\", \"ISL\", \"ISL\", \"ISL\", \"ISL\", \"ISL\", \"ISL\", \"ISL\", \"ISL\", \"ISL\", \"ISL\", \"ISL\", \"IRL\", \"IRL\", \"IRL\", \"IRL\", \"IRL\", \"IRL\", \"IRL\", \"IRL\", \"IRL\", \"IRL\", \"IRL\", \"IRL\", \"ITA\", \"ITA\", \"ITA\", \"ITA\", \"ITA\", \"ITA\", \"ITA\", \"ITA\", \"ITA\", \"ITA\", \"ITA\", \"ITA\", \"MNE\", \"MNE\", \"MNE\", \"MNE\", \"MNE\", \"MNE\", \"MNE\", \"MNE\", \"MNE\", \"MNE\", \"MNE\", \"MNE\", \"NLD\", \"NLD\", \"NLD\", \"NLD\", \"NLD\", \"NLD\", \"NLD\", \"NLD\", \"NLD\", \"NLD\", \"NLD\", \"NLD\", \"NOR\", \"NOR\", \"NOR\", \"NOR\", \"NOR\", \"NOR\", \"NOR\", \"NOR\", \"NOR\", \"NOR\", \"NOR\", \"NOR\", \"POL\", \"POL\", \"POL\", \"POL\", \"POL\", \"POL\", \"POL\", \"POL\", \"POL\", \"POL\", \"POL\", \"POL\", \"PRT\", \"PRT\", \"PRT\", \"PRT\", \"PRT\", \"PRT\", \"PRT\", \"PRT\", \"PRT\", \"PRT\", \"PRT\", \"PRT\", \"ROU\", \"ROU\", \"ROU\", \"ROU\", \"ROU\", \"ROU\", \"ROU\", \"ROU\", \"ROU\", \"ROU\", \"ROU\", \"ROU\", \"SRB\", \"SRB\", \"SRB\", \"SRB\", \"SRB\", \"SRB\", \"SRB\", \"SRB\", \"SRB\", \"SRB\", \"SRB\", \"SRB\", \"SVK\", \"SVK\", \"SVK\", \"SVK\", \"SVK\", \"SVK\", \"SVK\", \"SVK\", \"SVK\", \"SVK\", \"SVK\", \"SVK\", \"SVN\", \"SVN\", \"SVN\", \"SVN\", \"SVN\", \"SVN\", \"SVN\", \"SVN\", \"SVN\", \"SVN\", \"SVN\", \"SVN\", \"ESP\", \"ESP\", \"ESP\", \"ESP\", \"ESP\", \"ESP\", \"ESP\", \"ESP\", \"ESP\", \"ESP\", \"ESP\", \"ESP\", \"SWE\", \"SWE\", \"SWE\", \"SWE\", \"SWE\", \"SWE\", \"SWE\", \"SWE\", \"SWE\", \"SWE\", \"SWE\", \"SWE\", \"CHE\", \"CHE\", \"CHE\", \"CHE\", \"CHE\", \"CHE\", \"CHE\", \"CHE\", \"CHE\", \"CHE\", \"CHE\", \"CHE\", \"TUR\", \"TUR\", \"TUR\", \"TUR\", \"TUR\", \"TUR\", \"TUR\", \"TUR\", \"TUR\", \"TUR\", \"TUR\", \"TUR\", \"GBR\", \"GBR\", \"GBR\", \"GBR\", \"GBR\", \"GBR\", \"GBR\", \"GBR\", \"GBR\", \"GBR\", \"GBR\", \"GBR\"], \"name\": \"\", \"type\": \"choropleth\", \"z\": [1601.056136, 1942.2842440000002, 2312.888958, 2760.196931, 3313.422188, 3533.0039100000004, 3630.880722, 3738.9327350000003, 2497.4379010000002, 3193.054604, 4604.211737, 5937.029525999999, 6137.076492, 8842.59803, 10750.721109999999, 12834.6024, 16661.6256, 19749.4223, 21597.083619999998, 23687.82607, 27042.01868, 29095.920660000003, 32417.607689999997, 36126.4927, 8343.105126999999, 9714.960623, 10991.20676, 13149.04119, 16672.14356, 19117.97448, 20979.84589, 22525.56308, 25575.57069, 27561.196630000002, 30485.88375, 33692.60508, 973.5331947999999, 1353.989176, 1709.683679, 2172.3524230000003, 2860.16975, 3528.481305, 4126.613157, 4314.114757, 2546.781445, 4766.355904, 6018.975239, 7446.298803, 2444.2866480000002, 3008.670727, 4254.337839, 5577.0028, 6597.494398, 7612.240438, 8224.191647, 8239.854824, 6302.6234380000005, 5970.38876, 7696.777725, 10680.79282, 3119.23652, 4338.231617, 5477.890018, 6960.297861, 9164.090127, 11305.38517, 13221.82184, 13822.58394, 8447.794873, 9875.604515, 11628.38895, 14619.222719999998, 6876.14025, 8256.343918, 10136.86713, 11399.44489, 13108.4536, 14800.160619999999, 15377.22855, 16310.4434, 14297.021219999999, 16048.51424, 17596.210219999997, 22833.30851, 9692.385245, 11099.65935, 13583.31351, 15937.21123, 18866.20721, 20422.9015, 21688.04048, 25116.17581, 26406.73985, 29804.34567, 32166.500060000002, 35278.41874, 6424.519071, 7545.415386, 9371.842561, 10921.63626, 14358.8759, 15605.422830000001, 18533.15761, 21141.01223, 20647.16499, 23723.9502, 28204.59057, 33207.0844, 7029.809327, 8662.834898000001, 10560.48553, 12999.91766, 16107.19171, 18292.635140000002, 20293.89746, 22066.44214, 24703.79615, 25889.78487, 28926.032339999998, 30470.0167, 7144.114393000001, 10187.82665, 12902.46291, 14745.62561, 18016.180269999997, 20512.92123, 22031.532740000002, 24639.18566, 26505.30317, 27788.88416, 30035.80198, 32170.37442, 3530.690067, 4916.299889, 6017.190732999999, 8513.097016, 12724.82957, 14195.524280000001, 15268.420890000001, 16120.528390000001, 17541.49634, 18747.69814, 22514.2548, 27538.41188, 5263.6738159999995, 6040.180011, 7550.359877, 9326.64467, 10168.65611, 11674.837370000001, 12545.99066, 12986.47998, 10535.62855, 11712.7768, 14843.93556, 18008.94444, 7267.688428, 9244.001412, 10350.15906, 13319.89568, 15798.063619999999, 19654.96247, 23269.6075, 26923.206280000002, 25144.39201, 28061.099660000003, 31163.201960000002, 36180.789189999996, 5210.280328, 5599.077872, 6631.597314, 7655.568963, 9530.772895999999, 11150.98113, 12618.321409999999, 13872.86652, 17558.81555, 24521.94713, 34077.04939, 40675.99635, 4931.404154999999, 6248.656232, 8243.58234, 10022.40131, 12269.27378, 14255.98475, 16537.4835, 19207.234819999998, 22013.64486, 24675.02446, 27968.098169999997, 28569.7197, 2647.585601, 3682.259903, 4649.593785, 5907.850937, 7778.414017, 9595.929904999999, 11222.58762, 11732.51017, 7003.339037000001, 6465.613349, 6557.194282, 9253.896111, 8941.571858, 11276.193440000001, 12790.849559999999, 15363.25136, 18794.74567, 21209.0592, 21399.46046, 23651.32361, 26790.94961, 30246.13063, 33724.75778, 36797.93332, 10095.42172, 11653.97304, 13450.40151, 16361.87647, 18965.05551, 23311.34939, 26298.635309999998, 31540.9748, 33965.66115, 41283.16433, 44683.97525, 49357.19017, 4029.3296990000003, 4734.253019, 5338.752143, 6557.152776, 8006.506993000001, 9508.141454, 8451.531004, 9082.351172, 7738.881247, 10159.58368, 12002.23908, 15389.924680000002, 3068.319867, 3774.571743, 4727.954889, 6361.517993, 9022.247417, 10172.48572, 11753.84291, 13039.30876, 16207.266630000002, 17641.03156, 19970.90787, 20509.64777, 3144.613186, 3943.370225, 4734.9975859999995, 6470.866545, 8011.414401999999, 9356.39724, 9605.314053, 9696.273295, 6598.409903, 7346.547556999999, 7885.360081, 10808.47561, 3581.4594479999996, 4981.090891, 6289.629157, 7991.707066, 10522.067490000001, 12980.66956, 15181.0927, 15870.878509999999, 9325.068238, 7914.320304000001, 7236.075251, 9786.534714, 5074.659104, 6093.2629799999995, 7481.1075980000005, 8412.902397, 9674.167626, 10922.664040000001, 11348.54585, 12037.26758, 9498.467723, 12126.23065, 13638.778369999998, 18678.31435, 4215.041741, 5862.276629, 7402.303395, 9405.489397, 12383.4862, 15277.030169999998, 17866.72175, 18678.53492, 14214.71681, 17161.10735, 20660.01936, 25768.25759, 3834.0347420000003, 4564.80241, 5693.843879, 7993.512294, 10638.75131, 13236.92117, 13926.169969999999, 15764.98313, 18603.06452, 20445.29896, 24835.47166, 28821.0637, 8527.844662000001, 9911.878226, 12329.441920000001, 15258.29697, 17832.02464, 18855.72521, 20667.38125, 23586.92927, 23880.01683, 25266.59499, 29341.630930000003, 33859.74835, 14734.23275, 17909.48973, 20431.0927, 22966.14432, 27195.113039999997, 26982.29052, 28397.715119999997, 30281.704589999998, 31871.5303, 32135.323010000004, 34480.95771, 37506.419069999996, 1969.1009800000002, 2218.754257, 2322.8699079999997, 2826.3563870000003, 3450.69638, 4269.122326, 4241.356344, 5089.043686, 5678.348271, 6601.429915, 6508.085718, 8458.276384, 9979.508487000001, 11283.17795, 12477.17707, 14142.85089, 15895.116409999999, 17428.74846, 18232.42452, 21664.787669999998, 22705.09254, 26074.53136, 29478.99919, 33203.26128]}],                        {\"coloraxis\": {\"colorbar\": {\"title\": {\"text\": \"gdpPercap\"}}, \"colorscale\": [[0.0, \"#0d0887\"], [0.1111111111111111, \"#46039f\"], [0.2222222222222222, \"#7201a8\"], [0.3333333333333333, \"#9c179e\"], [0.4444444444444444, \"#bd3786\"], [0.5555555555555556, \"#d8576b\"], [0.6666666666666666, \"#ed7953\"], [0.7777777777777778, \"#fb9f3a\"], [0.8888888888888888, \"#fdca26\"], [1.0, \"#f0f921\"]]}, \"geo\": {\"center\": {}, \"domain\": {\"x\": [0.0, 1.0], \"y\": [0.0, 1.0]}}, \"legend\": {\"tracegroupgap\": 0}, \"margin\": {\"b\": 0, \"l\": 0, \"r\": 0, \"t\": 0}, \"template\": {\"data\": {\"bar\": [{\"error_x\": {\"color\": \"#2a3f5f\"}, \"error_y\": {\"color\": \"#2a3f5f\"}, \"marker\": {\"line\": {\"color\": \"#E5ECF6\", \"width\": 0.5}}, \"type\": \"bar\"}], \"barpolar\": [{\"marker\": {\"line\": {\"color\": \"#E5ECF6\", \"width\": 0.5}}, \"type\": \"barpolar\"}], \"carpet\": [{\"aaxis\": {\"endlinecolor\": \"#2a3f5f\", \"gridcolor\": \"white\", \"linecolor\": \"white\", \"minorgridcolor\": \"white\", \"startlinecolor\": \"#2a3f5f\"}, \"baxis\": {\"endlinecolor\": \"#2a3f5f\", \"gridcolor\": \"white\", \"linecolor\": \"white\", \"minorgridcolor\": \"white\", \"startlinecolor\": \"#2a3f5f\"}, \"type\": \"carpet\"}], \"choropleth\": [{\"colorbar\": {\"outlinewidth\": 0, \"ticks\": \"\"}, \"type\": \"choropleth\"}], \"contour\": [{\"colorbar\": {\"outlinewidth\": 0, \"ticks\": \"\"}, \"colorscale\": [[0.0, \"#0d0887\"], [0.1111111111111111, \"#46039f\"], [0.2222222222222222, \"#7201a8\"], [0.3333333333333333, \"#9c179e\"], [0.4444444444444444, \"#bd3786\"], [0.5555555555555556, \"#d8576b\"], [0.6666666666666666, \"#ed7953\"], [0.7777777777777778, \"#fb9f3a\"], [0.8888888888888888, \"#fdca26\"], [1.0, \"#f0f921\"]], \"type\": \"contour\"}], \"contourcarpet\": [{\"colorbar\": {\"outlinewidth\": 0, \"ticks\": \"\"}, \"type\": \"contourcarpet\"}], \"heatmap\": [{\"colorbar\": {\"outlinewidth\": 0, \"ticks\": \"\"}, \"colorscale\": [[0.0, \"#0d0887\"], [0.1111111111111111, \"#46039f\"], [0.2222222222222222, \"#7201a8\"], [0.3333333333333333, \"#9c179e\"], [0.4444444444444444, \"#bd3786\"], [0.5555555555555556, \"#d8576b\"], [0.6666666666666666, \"#ed7953\"], [0.7777777777777778, \"#fb9f3a\"], [0.8888888888888888, \"#fdca26\"], [1.0, \"#f0f921\"]], \"type\": \"heatmap\"}], \"heatmapgl\": [{\"colorbar\": {\"outlinewidth\": 0, \"ticks\": \"\"}, \"colorscale\": [[0.0, \"#0d0887\"], [0.1111111111111111, \"#46039f\"], [0.2222222222222222, \"#7201a8\"], [0.3333333333333333, \"#9c179e\"], [0.4444444444444444, \"#bd3786\"], [0.5555555555555556, \"#d8576b\"], [0.6666666666666666, \"#ed7953\"], [0.7777777777777778, \"#fb9f3a\"], [0.8888888888888888, \"#fdca26\"], [1.0, \"#f0f921\"]], \"type\": \"heatmapgl\"}], \"histogram\": [{\"marker\": {\"colorbar\": {\"outlinewidth\": 0, \"ticks\": \"\"}}, \"type\": \"histogram\"}], \"histogram2d\": [{\"colorbar\": {\"outlinewidth\": 0, \"ticks\": \"\"}, \"colorscale\": [[0.0, \"#0d0887\"], [0.1111111111111111, \"#46039f\"], [0.2222222222222222, \"#7201a8\"], [0.3333333333333333, \"#9c179e\"], [0.4444444444444444, \"#bd3786\"], [0.5555555555555556, \"#d8576b\"], [0.6666666666666666, \"#ed7953\"], [0.7777777777777778, \"#fb9f3a\"], [0.8888888888888888, \"#fdca26\"], [1.0, \"#f0f921\"]], \"type\": \"histogram2d\"}], \"histogram2dcontour\": [{\"colorbar\": {\"outlinewidth\": 0, \"ticks\": \"\"}, \"colorscale\": [[0.0, \"#0d0887\"], [0.1111111111111111, \"#46039f\"], [0.2222222222222222, \"#7201a8\"], [0.3333333333333333, \"#9c179e\"], [0.4444444444444444, \"#bd3786\"], [0.5555555555555556, \"#d8576b\"], [0.6666666666666666, \"#ed7953\"], [0.7777777777777778, \"#fb9f3a\"], [0.8888888888888888, \"#fdca26\"], [1.0, \"#f0f921\"]], \"type\": \"histogram2dcontour\"}], \"mesh3d\": [{\"colorbar\": {\"outlinewidth\": 0, \"ticks\": \"\"}, \"type\": \"mesh3d\"}], \"parcoords\": [{\"line\": {\"colorbar\": {\"outlinewidth\": 0, \"ticks\": \"\"}}, \"type\": \"parcoords\"}], \"pie\": [{\"automargin\": true, \"type\": \"pie\"}], \"scatter\": [{\"marker\": {\"colorbar\": {\"outlinewidth\": 0, \"ticks\": \"\"}}, \"type\": \"scatter\"}], \"scatter3d\": [{\"line\": {\"colorbar\": {\"outlinewidth\": 0, \"ticks\": \"\"}}, \"marker\": {\"colorbar\": {\"outlinewidth\": 0, \"ticks\": \"\"}}, \"type\": \"scatter3d\"}], \"scattercarpet\": [{\"marker\": {\"colorbar\": {\"outlinewidth\": 0, \"ticks\": \"\"}}, \"type\": \"scattercarpet\"}], \"scattergeo\": [{\"marker\": {\"colorbar\": {\"outlinewidth\": 0, \"ticks\": \"\"}}, \"type\": \"scattergeo\"}], \"scattergl\": [{\"marker\": {\"colorbar\": {\"outlinewidth\": 0, \"ticks\": \"\"}}, \"type\": \"scattergl\"}], \"scattermapbox\": [{\"marker\": {\"colorbar\": {\"outlinewidth\": 0, \"ticks\": \"\"}}, \"type\": \"scattermapbox\"}], \"scatterpolar\": [{\"marker\": {\"colorbar\": {\"outlinewidth\": 0, \"ticks\": \"\"}}, \"type\": \"scatterpolar\"}], \"scatterpolargl\": [{\"marker\": {\"colorbar\": {\"outlinewidth\": 0, \"ticks\": \"\"}}, \"type\": \"scatterpolargl\"}], \"scatterternary\": [{\"marker\": {\"colorbar\": {\"outlinewidth\": 0, \"ticks\": \"\"}}, \"type\": \"scatterternary\"}], \"surface\": [{\"colorbar\": {\"outlinewidth\": 0, \"ticks\": \"\"}, \"colorscale\": [[0.0, \"#0d0887\"], [0.1111111111111111, \"#46039f\"], [0.2222222222222222, \"#7201a8\"], [0.3333333333333333, \"#9c179e\"], [0.4444444444444444, \"#bd3786\"], [0.5555555555555556, \"#d8576b\"], [0.6666666666666666, \"#ed7953\"], [0.7777777777777778, \"#fb9f3a\"], [0.8888888888888888, \"#fdca26\"], [1.0, \"#f0f921\"]], \"type\": \"surface\"}], \"table\": [{\"cells\": {\"fill\": {\"color\": \"#EBF0F8\"}, \"line\": {\"color\": \"white\"}}, \"header\": {\"fill\": {\"color\": \"#C8D4E3\"}, \"line\": {\"color\": \"white\"}}, \"type\": \"table\"}]}, \"layout\": {\"annotationdefaults\": {\"arrowcolor\": \"#2a3f5f\", \"arrowhead\": 0, \"arrowwidth\": 1}, \"autotypenumbers\": \"strict\", \"coloraxis\": {\"colorbar\": {\"outlinewidth\": 0, \"ticks\": \"\"}}, \"colorscale\": {\"diverging\": [[0, \"#8e0152\"], [0.1, \"#c51b7d\"], [0.2, \"#de77ae\"], [0.3, \"#f1b6da\"], [0.4, \"#fde0ef\"], [0.5, \"#f7f7f7\"], [0.6, \"#e6f5d0\"], [0.7, \"#b8e186\"], [0.8, \"#7fbc41\"], [0.9, \"#4d9221\"], [1, \"#276419\"]], \"sequential\": [[0.0, \"#0d0887\"], [0.1111111111111111, \"#46039f\"], [0.2222222222222222, \"#7201a8\"], [0.3333333333333333, \"#9c179e\"], [0.4444444444444444, \"#bd3786\"], [0.5555555555555556, \"#d8576b\"], [0.6666666666666666, \"#ed7953\"], [0.7777777777777778, \"#fb9f3a\"], [0.8888888888888888, \"#fdca26\"], [1.0, \"#f0f921\"]], \"sequentialminus\": [[0.0, \"#0d0887\"], [0.1111111111111111, \"#46039f\"], [0.2222222222222222, \"#7201a8\"], [0.3333333333333333, \"#9c179e\"], [0.4444444444444444, \"#bd3786\"], [0.5555555555555556, \"#d8576b\"], [0.6666666666666666, \"#ed7953\"], [0.7777777777777778, \"#fb9f3a\"], [0.8888888888888888, \"#fdca26\"], [1.0, \"#f0f921\"]]}, \"colorway\": [\"#636efa\", \"#EF553B\", \"#00cc96\", \"#ab63fa\", \"#FFA15A\", \"#19d3f3\", \"#FF6692\", \"#B6E880\", \"#FF97FF\", \"#FECB52\"], \"font\": {\"color\": \"#2a3f5f\"}, \"geo\": {\"bgcolor\": \"white\", \"lakecolor\": \"white\", \"landcolor\": \"#E5ECF6\", \"showlakes\": true, \"showland\": true, \"subunitcolor\": \"white\"}, \"hoverlabel\": {\"align\": \"left\"}, \"hovermode\": \"closest\", \"mapbox\": {\"style\": \"light\"}, \"paper_bgcolor\": \"white\", \"plot_bgcolor\": \"#E5ECF6\", \"polar\": {\"angularaxis\": {\"gridcolor\": \"white\", \"linecolor\": \"white\", \"ticks\": \"\"}, \"bgcolor\": \"#E5ECF6\", \"radialaxis\": {\"gridcolor\": \"white\", \"linecolor\": \"white\", \"ticks\": \"\"}}, \"scene\": {\"xaxis\": {\"backgroundcolor\": \"#E5ECF6\", \"gridcolor\": \"white\", \"gridwidth\": 2, \"linecolor\": \"white\", \"showbackground\": true, \"ticks\": \"\", \"zerolinecolor\": \"white\"}, \"yaxis\": {\"backgroundcolor\": \"#E5ECF6\", \"gridcolor\": \"white\", \"gridwidth\": 2, \"linecolor\": \"white\", \"showbackground\": true, \"ticks\": \"\", \"zerolinecolor\": \"white\"}, \"zaxis\": {\"backgroundcolor\": \"#E5ECF6\", \"gridcolor\": \"white\", \"gridwidth\": 2, \"linecolor\": \"white\", \"showbackground\": true, \"ticks\": \"\", \"zerolinecolor\": \"white\"}}, \"shapedefaults\": {\"line\": {\"color\": \"#2a3f5f\"}}, \"ternary\": {\"aaxis\": {\"gridcolor\": \"white\", \"linecolor\": \"white\", \"ticks\": \"\"}, \"baxis\": {\"gridcolor\": \"white\", \"linecolor\": \"white\", \"ticks\": \"\"}, \"bgcolor\": \"#E5ECF6\", \"caxis\": {\"gridcolor\": \"white\", \"linecolor\": \"white\", \"ticks\": \"\"}}, \"title\": {\"x\": 0.05}, \"xaxis\": {\"automargin\": true, \"gridcolor\": \"white\", \"linecolor\": \"white\", \"ticks\": \"\", \"title\": {\"standoff\": 15}, \"zerolinecolor\": \"white\", \"zerolinewidth\": 2}, \"yaxis\": {\"automargin\": true, \"gridcolor\": \"white\", \"linecolor\": \"white\", \"ticks\": \"\", \"title\": {\"standoff\": 15}, \"zerolinecolor\": \"white\", \"zerolinewidth\": 2}}}},                        {\"responsive\": true}                    ).then(function(){\n",
       "                            \n",
       "var gd = document.getElementById('2d1325d3-7c61-4b14-b837-8d6b588173fc');\n",
       "var x = new MutationObserver(function (mutations, observer) {{\n",
       "        var display = window.getComputedStyle(gd).display;\n",
       "        if (!display || display === 'none') {{\n",
       "            console.log([gd, 'removed!']);\n",
       "            Plotly.purge(gd);\n",
       "            observer.disconnect();\n",
       "        }}\n",
       "}});\n",
       "\n",
       "// Listen for the removal of the full notebook cells\n",
       "var notebookContainer = gd.closest('#notebook-container');\n",
       "if (notebookContainer) {{\n",
       "    x.observe(notebookContainer, {childList: true});\n",
       "}}\n",
       "\n",
       "// Listen for the clearing of the current output cell\n",
       "var outputEl = gd.closest('.output');\n",
       "if (outputEl) {{\n",
       "    x.observe(outputEl, {childList: true});\n",
       "}}\n",
       "\n",
       "                        })                };                });            </script>        </div>"
      ]
     },
     "metadata": {},
     "output_type": "display_data"
    }
   ],
   "source": [
    "fig = px.choropleth(gdp_countries, locations=\"iso_alpha\",\n",
    "                    color=\"gdpPercap\",\n",
    "                    hover_name=\"country\", \n",
    "                    color_continuous_scale=px.colors.sequential.Plasma,\n",
    "                    )\n",
    "\n",
    "fig.update_layout(margin={\"r\":0,\"t\":0,\"l\":0,\"b\":0})\n",
    "fig.show()"
   ]
  },
  {
   "cell_type": "markdown",
   "metadata": {},
   "source": [
    "The above shows standard deviation of Europe and South America countries. "
   ]
  },
  {
   "cell_type": "code",
   "execution_count": null,
   "metadata": {},
   "outputs": [],
   "source": [
    "#Q3 change in population of each African country in the last 3 decades"
   ]
  },
  {
   "cell_type": "code",
   "execution_count": 30,
   "metadata": {},
   "outputs": [
    {
     "data": {
      "text/plain": [
       "2007"
      ]
     },
     "execution_count": 30,
     "metadata": {},
     "output_type": "execute_result"
    }
   ],
   "source": [
    "max_year = df['year'].max()\n",
    "max_year"
   ]
  },
  {
   "cell_type": "code",
   "execution_count": 31,
   "metadata": {},
   "outputs": [
    {
     "data": {
      "text/plain": [
       "1952"
      ]
     },
     "execution_count": 31,
     "metadata": {},
     "output_type": "execute_result"
    }
   ],
   "source": [
    "min_year = df['year'].min()\n",
    "min_year"
   ]
  },
  {
   "cell_type": "code",
   "execution_count": 32,
   "metadata": {},
   "outputs": [
    {
     "data": {
      "text/html": [
       "<div>\n",
       "<style scoped>\n",
       "    .dataframe tbody tr th:only-of-type {\n",
       "        vertical-align: middle;\n",
       "    }\n",
       "\n",
       "    .dataframe tbody tr th {\n",
       "        vertical-align: top;\n",
       "    }\n",
       "\n",
       "    .dataframe thead th {\n",
       "        text-align: right;\n",
       "    }\n",
       "</style>\n",
       "<table border=\"1\" class=\"dataframe\">\n",
       "  <thead>\n",
       "    <tr style=\"text-align: right;\">\n",
       "      <th></th>\n",
       "      <th>country</th>\n",
       "      <th>continent</th>\n",
       "      <th>pop</th>\n",
       "      <th>iso_alpha</th>\n",
       "      <th>year</th>\n",
       "    </tr>\n",
       "  </thead>\n",
       "  <tbody>\n",
       "    <tr>\n",
       "      <th>29</th>\n",
       "      <td>Algeria</td>\n",
       "      <td>Africa</td>\n",
       "      <td>17152804</td>\n",
       "      <td>DZA</td>\n",
       "      <td>1977</td>\n",
       "    </tr>\n",
       "    <tr>\n",
       "      <th>30</th>\n",
       "      <td>Algeria</td>\n",
       "      <td>Africa</td>\n",
       "      <td>20033753</td>\n",
       "      <td>DZA</td>\n",
       "      <td>1982</td>\n",
       "    </tr>\n",
       "    <tr>\n",
       "      <th>31</th>\n",
       "      <td>Algeria</td>\n",
       "      <td>Africa</td>\n",
       "      <td>23254956</td>\n",
       "      <td>DZA</td>\n",
       "      <td>1987</td>\n",
       "    </tr>\n",
       "    <tr>\n",
       "      <th>32</th>\n",
       "      <td>Algeria</td>\n",
       "      <td>Africa</td>\n",
       "      <td>26298373</td>\n",
       "      <td>DZA</td>\n",
       "      <td>1992</td>\n",
       "    </tr>\n",
       "    <tr>\n",
       "      <th>33</th>\n",
       "      <td>Algeria</td>\n",
       "      <td>Africa</td>\n",
       "      <td>29072015</td>\n",
       "      <td>DZA</td>\n",
       "      <td>1997</td>\n",
       "    </tr>\n",
       "  </tbody>\n",
       "</table>\n",
       "</div>"
      ],
      "text/plain": [
       "    country continent       pop iso_alpha  year\n",
       "29  Algeria    Africa  17152804       DZA  1977\n",
       "30  Algeria    Africa  20033753       DZA  1982\n",
       "31  Algeria    Africa  23254956       DZA  1987\n",
       "32  Algeria    Africa  26298373       DZA  1992\n",
       "33  Algeria    Africa  29072015       DZA  1997"
      ]
     },
     "execution_count": 32,
     "metadata": {},
     "output_type": "execute_result"
    }
   ],
   "source": [
    "africa_pop = df[['country', 'continent', 'pop', 'iso_alpha', 'year']].query('continent == \"Africa\" & year >= 1977 <= 2007')\n",
    "africa_pop.head()"
   ]
  },
  {
   "cell_type": "code",
   "execution_count": 33,
   "metadata": {},
   "outputs": [
    {
     "data": {
      "application/vnd.plotly.v1+json": {
       "config": {
        "plotlyServerURL": "https://plot.ly"
       },
       "data": [
        {
         "coloraxis": "coloraxis",
         "geo": "geo",
         "hovertemplate": "<b>%{hovertext}</b><br><br>year=1977<br>iso_alpha=%{location}<br>pop=%{z}<extra></extra>",
         "hovertext": [
          "Algeria",
          "Angola",
          "Benin",
          "Botswana",
          "Burkina Faso",
          "Burundi",
          "Cameroon",
          "Central African Republic",
          "Chad",
          "Comoros",
          "Congo, Dem. Rep.",
          "Congo, Rep.",
          "Cote d'Ivoire",
          "Djibouti",
          "Egypt",
          "Equatorial Guinea",
          "Eritrea",
          "Ethiopia",
          "Gabon",
          "Gambia",
          "Ghana",
          "Guinea",
          "Guinea-Bissau",
          "Kenya",
          "Lesotho",
          "Liberia",
          "Libya",
          "Madagascar",
          "Malawi",
          "Mali",
          "Mauritania",
          "Mauritius",
          "Morocco",
          "Mozambique",
          "Namibia",
          "Niger",
          "Nigeria",
          "Reunion",
          "Rwanda",
          "Sao Tome and Principe",
          "Senegal",
          "Sierra Leone",
          "Somalia",
          "South Africa",
          "Sudan",
          "Swaziland",
          "Tanzania",
          "Togo",
          "Tunisia",
          "Uganda",
          "Zambia",
          "Zimbabwe"
         ],
         "locations": [
          "DZA",
          "AGO",
          "BEN",
          "BWA",
          "BFA",
          "BDI",
          "CMR",
          "CAF",
          "TCD",
          "COM",
          "COD",
          "COG",
          "CIV",
          "DJI",
          "EGY",
          "GNQ",
          "ERI",
          "ETH",
          "GAB",
          "GMB",
          "GHA",
          "GIN",
          "GNB",
          "KEN",
          "LSO",
          "LBR",
          "LBY",
          "MDG",
          "MWI",
          "MLI",
          "MRT",
          "MUS",
          "MAR",
          "MOZ",
          "NAM",
          "NER",
          "NGA",
          "REU",
          "RWA",
          "STP",
          "SEN",
          "SLE",
          "SOM",
          "ZAF",
          "SDN",
          "SWZ",
          "TZA",
          "TGO",
          "TUN",
          "UGA",
          "ZMB",
          "ZWE"
         ],
         "name": "",
         "type": "choropleth",
         "z": [
          17152804,
          6162675,
          3168267,
          781472,
          5889574,
          3834415,
          7959865,
          2167533,
          4388260,
          304739,
          26480870,
          1536769,
          7459574,
          228694,
          38783863,
          192675,
          2512642,
          34617799,
          706367,
          608274,
          10538093,
          4227026,
          745228,
          14500404,
          1251524,
          1703617,
          2721783,
          8007166,
          5637246,
          6491649,
          1456688,
          913025,
          18396941,
          11127868,
          977026,
          5682086,
          62209173,
          492095,
          4657072,
          86796,
          5260855,
          3140897,
          4353666,
          27129932,
          17104986,
          551425,
          17129565,
          2308582,
          6005061,
          11457758,
          5216550,
          6642107
         ]
        }
       ],
       "frames": [
        {
         "data": [
          {
           "coloraxis": "coloraxis",
           "geo": "geo",
           "hovertemplate": "<b>%{hovertext}</b><br><br>year=1977<br>iso_alpha=%{location}<br>pop=%{z}<extra></extra>",
           "hovertext": [
            "Algeria",
            "Angola",
            "Benin",
            "Botswana",
            "Burkina Faso",
            "Burundi",
            "Cameroon",
            "Central African Republic",
            "Chad",
            "Comoros",
            "Congo, Dem. Rep.",
            "Congo, Rep.",
            "Cote d'Ivoire",
            "Djibouti",
            "Egypt",
            "Equatorial Guinea",
            "Eritrea",
            "Ethiopia",
            "Gabon",
            "Gambia",
            "Ghana",
            "Guinea",
            "Guinea-Bissau",
            "Kenya",
            "Lesotho",
            "Liberia",
            "Libya",
            "Madagascar",
            "Malawi",
            "Mali",
            "Mauritania",
            "Mauritius",
            "Morocco",
            "Mozambique",
            "Namibia",
            "Niger",
            "Nigeria",
            "Reunion",
            "Rwanda",
            "Sao Tome and Principe",
            "Senegal",
            "Sierra Leone",
            "Somalia",
            "South Africa",
            "Sudan",
            "Swaziland",
            "Tanzania",
            "Togo",
            "Tunisia",
            "Uganda",
            "Zambia",
            "Zimbabwe"
           ],
           "locations": [
            "DZA",
            "AGO",
            "BEN",
            "BWA",
            "BFA",
            "BDI",
            "CMR",
            "CAF",
            "TCD",
            "COM",
            "COD",
            "COG",
            "CIV",
            "DJI",
            "EGY",
            "GNQ",
            "ERI",
            "ETH",
            "GAB",
            "GMB",
            "GHA",
            "GIN",
            "GNB",
            "KEN",
            "LSO",
            "LBR",
            "LBY",
            "MDG",
            "MWI",
            "MLI",
            "MRT",
            "MUS",
            "MAR",
            "MOZ",
            "NAM",
            "NER",
            "NGA",
            "REU",
            "RWA",
            "STP",
            "SEN",
            "SLE",
            "SOM",
            "ZAF",
            "SDN",
            "SWZ",
            "TZA",
            "TGO",
            "TUN",
            "UGA",
            "ZMB",
            "ZWE"
           ],
           "name": "",
           "type": "choropleth",
           "z": [
            17152804,
            6162675,
            3168267,
            781472,
            5889574,
            3834415,
            7959865,
            2167533,
            4388260,
            304739,
            26480870,
            1536769,
            7459574,
            228694,
            38783863,
            192675,
            2512642,
            34617799,
            706367,
            608274,
            10538093,
            4227026,
            745228,
            14500404,
            1251524,
            1703617,
            2721783,
            8007166,
            5637246,
            6491649,
            1456688,
            913025,
            18396941,
            11127868,
            977026,
            5682086,
            62209173,
            492095,
            4657072,
            86796,
            5260855,
            3140897,
            4353666,
            27129932,
            17104986,
            551425,
            17129565,
            2308582,
            6005061,
            11457758,
            5216550,
            6642107
           ]
          }
         ],
         "name": "1977"
        },
        {
         "data": [
          {
           "coloraxis": "coloraxis",
           "geo": "geo",
           "hovertemplate": "<b>%{hovertext}</b><br><br>year=1982<br>iso_alpha=%{location}<br>pop=%{z}<extra></extra>",
           "hovertext": [
            "Algeria",
            "Angola",
            "Benin",
            "Botswana",
            "Burkina Faso",
            "Burundi",
            "Cameroon",
            "Central African Republic",
            "Chad",
            "Comoros",
            "Congo, Dem. Rep.",
            "Congo, Rep.",
            "Cote d'Ivoire",
            "Djibouti",
            "Egypt",
            "Equatorial Guinea",
            "Eritrea",
            "Ethiopia",
            "Gabon",
            "Gambia",
            "Ghana",
            "Guinea",
            "Guinea-Bissau",
            "Kenya",
            "Lesotho",
            "Liberia",
            "Libya",
            "Madagascar",
            "Malawi",
            "Mali",
            "Mauritania",
            "Mauritius",
            "Morocco",
            "Mozambique",
            "Namibia",
            "Niger",
            "Nigeria",
            "Reunion",
            "Rwanda",
            "Sao Tome and Principe",
            "Senegal",
            "Sierra Leone",
            "Somalia",
            "South Africa",
            "Sudan",
            "Swaziland",
            "Tanzania",
            "Togo",
            "Tunisia",
            "Uganda",
            "Zambia",
            "Zimbabwe"
           ],
           "locations": [
            "DZA",
            "AGO",
            "BEN",
            "BWA",
            "BFA",
            "BDI",
            "CMR",
            "CAF",
            "TCD",
            "COM",
            "COD",
            "COG",
            "CIV",
            "DJI",
            "EGY",
            "GNQ",
            "ERI",
            "ETH",
            "GAB",
            "GMB",
            "GHA",
            "GIN",
            "GNB",
            "KEN",
            "LSO",
            "LBR",
            "LBY",
            "MDG",
            "MWI",
            "MLI",
            "MRT",
            "MUS",
            "MAR",
            "MOZ",
            "NAM",
            "NER",
            "NGA",
            "REU",
            "RWA",
            "STP",
            "SEN",
            "SLE",
            "SOM",
            "ZAF",
            "SDN",
            "SWZ",
            "TZA",
            "TGO",
            "TUN",
            "UGA",
            "ZMB",
            "ZWE"
           ],
           "name": "",
           "type": "choropleth",
           "z": [
            20033753,
            7016384,
            3641603,
            970347,
            6634596,
            4580410,
            9250831,
            2476971,
            4875118,
            348643,
            30646495,
            1774735,
            9025951,
            305991,
            45681811,
            285483,
            2637297,
            38111756,
            753874,
            715523,
            11400338,
            4710497,
            825987,
            17661452,
            1411807,
            1956875,
            3344074,
            9171477,
            6502825,
            6998256,
            1622136,
            992040,
            20198730,
            12587223,
            1099010,
            6437188,
            73039376,
            517810,
            5507565,
            98593,
            6147783,
            3464522,
            5828892,
            31140029,
            20367053,
            649901,
            19844382,
            2644765,
            6734098,
            12939400,
            6100407,
            7636524
           ]
          }
         ],
         "name": "1982"
        },
        {
         "data": [
          {
           "coloraxis": "coloraxis",
           "geo": "geo",
           "hovertemplate": "<b>%{hovertext}</b><br><br>year=1987<br>iso_alpha=%{location}<br>pop=%{z}<extra></extra>",
           "hovertext": [
            "Algeria",
            "Angola",
            "Benin",
            "Botswana",
            "Burkina Faso",
            "Burundi",
            "Cameroon",
            "Central African Republic",
            "Chad",
            "Comoros",
            "Congo, Dem. Rep.",
            "Congo, Rep.",
            "Cote d'Ivoire",
            "Djibouti",
            "Egypt",
            "Equatorial Guinea",
            "Eritrea",
            "Ethiopia",
            "Gabon",
            "Gambia",
            "Ghana",
            "Guinea",
            "Guinea-Bissau",
            "Kenya",
            "Lesotho",
            "Liberia",
            "Libya",
            "Madagascar",
            "Malawi",
            "Mali",
            "Mauritania",
            "Mauritius",
            "Morocco",
            "Mozambique",
            "Namibia",
            "Niger",
            "Nigeria",
            "Reunion",
            "Rwanda",
            "Sao Tome and Principe",
            "Senegal",
            "Sierra Leone",
            "Somalia",
            "South Africa",
            "Sudan",
            "Swaziland",
            "Tanzania",
            "Togo",
            "Tunisia",
            "Uganda",
            "Zambia",
            "Zimbabwe"
           ],
           "locations": [
            "DZA",
            "AGO",
            "BEN",
            "BWA",
            "BFA",
            "BDI",
            "CMR",
            "CAF",
            "TCD",
            "COM",
            "COD",
            "COG",
            "CIV",
            "DJI",
            "EGY",
            "GNQ",
            "ERI",
            "ETH",
            "GAB",
            "GMB",
            "GHA",
            "GIN",
            "GNB",
            "KEN",
            "LSO",
            "LBR",
            "LBY",
            "MDG",
            "MWI",
            "MLI",
            "MRT",
            "MUS",
            "MAR",
            "MOZ",
            "NAM",
            "NER",
            "NGA",
            "REU",
            "RWA",
            "STP",
            "SEN",
            "SLE",
            "SOM",
            "ZAF",
            "SDN",
            "SWZ",
            "TZA",
            "TGO",
            "TUN",
            "UGA",
            "ZMB",
            "ZWE"
           ],
           "name": "",
           "type": "choropleth",
           "z": [
            23254956,
            7874230,
            4243788,
            1151184,
            7586551,
            5126023,
            10780667,
            2840009,
            5498955,
            395114,
            35481645,
            2064095,
            10761098,
            311025,
            52799062,
            341244,
            2915959,
            42999530,
            880397,
            848406,
            14168101,
            5650262,
            927524,
            21198082,
            1599200,
            2269414,
            3799845,
            10568642,
            7824747,
            7634008,
            1841240,
            1042663,
            22987397,
            12891952,
            1278184,
            7332638,
            81551520,
            562035,
            6349365,
            110812,
            7171347,
            3868905,
            6921858,
            35933379,
            24725960,
            779348,
            23040630,
            3154264,
            7724976,
            15283050,
            7272406,
            9216418
           ]
          }
         ],
         "name": "1987"
        },
        {
         "data": [
          {
           "coloraxis": "coloraxis",
           "geo": "geo",
           "hovertemplate": "<b>%{hovertext}</b><br><br>year=1992<br>iso_alpha=%{location}<br>pop=%{z}<extra></extra>",
           "hovertext": [
            "Algeria",
            "Angola",
            "Benin",
            "Botswana",
            "Burkina Faso",
            "Burundi",
            "Cameroon",
            "Central African Republic",
            "Chad",
            "Comoros",
            "Congo, Dem. Rep.",
            "Congo, Rep.",
            "Cote d'Ivoire",
            "Djibouti",
            "Egypt",
            "Equatorial Guinea",
            "Eritrea",
            "Ethiopia",
            "Gabon",
            "Gambia",
            "Ghana",
            "Guinea",
            "Guinea-Bissau",
            "Kenya",
            "Lesotho",
            "Liberia",
            "Libya",
            "Madagascar",
            "Malawi",
            "Mali",
            "Mauritania",
            "Mauritius",
            "Morocco",
            "Mozambique",
            "Namibia",
            "Niger",
            "Nigeria",
            "Reunion",
            "Rwanda",
            "Sao Tome and Principe",
            "Senegal",
            "Sierra Leone",
            "Somalia",
            "South Africa",
            "Sudan",
            "Swaziland",
            "Tanzania",
            "Togo",
            "Tunisia",
            "Uganda",
            "Zambia",
            "Zimbabwe"
           ],
           "locations": [
            "DZA",
            "AGO",
            "BEN",
            "BWA",
            "BFA",
            "BDI",
            "CMR",
            "CAF",
            "TCD",
            "COM",
            "COD",
            "COG",
            "CIV",
            "DJI",
            "EGY",
            "GNQ",
            "ERI",
            "ETH",
            "GAB",
            "GMB",
            "GHA",
            "GIN",
            "GNB",
            "KEN",
            "LSO",
            "LBR",
            "LBY",
            "MDG",
            "MWI",
            "MLI",
            "MRT",
            "MUS",
            "MAR",
            "MOZ",
            "NAM",
            "NER",
            "NGA",
            "REU",
            "RWA",
            "STP",
            "SEN",
            "SLE",
            "SOM",
            "ZAF",
            "SDN",
            "SWZ",
            "TZA",
            "TGO",
            "TUN",
            "UGA",
            "ZMB",
            "ZWE"
           ],
           "name": "",
           "type": "choropleth",
           "z": [
            26298373,
            8735988,
            4981671,
            1342614,
            8878303,
            5809236,
            12467171,
            3265124,
            6429417,
            454429,
            41672143,
            2409073,
            12772596,
            384156,
            59402198,
            387838,
            3668440,
            52088559,
            985739,
            1025384,
            16278738,
            6990574,
            1050938,
            25020539,
            1803195,
            1912974,
            4364501,
            12210395,
            10014249,
            8416215,
            2119465,
            1096202,
            25798239,
            13160731,
            1554253,
            8392818,
            93364244,
            622191,
            7290203,
            125911,
            8307920,
            4260884,
            6099799,
            39964159,
            28227588,
            962344,
            26605473,
            3747553,
            8523077,
            18252190,
            8381163,
            10704340
           ]
          }
         ],
         "name": "1992"
        },
        {
         "data": [
          {
           "coloraxis": "coloraxis",
           "geo": "geo",
           "hovertemplate": "<b>%{hovertext}</b><br><br>year=1997<br>iso_alpha=%{location}<br>pop=%{z}<extra></extra>",
           "hovertext": [
            "Algeria",
            "Angola",
            "Benin",
            "Botswana",
            "Burkina Faso",
            "Burundi",
            "Cameroon",
            "Central African Republic",
            "Chad",
            "Comoros",
            "Congo, Dem. Rep.",
            "Congo, Rep.",
            "Cote d'Ivoire",
            "Djibouti",
            "Egypt",
            "Equatorial Guinea",
            "Eritrea",
            "Ethiopia",
            "Gabon",
            "Gambia",
            "Ghana",
            "Guinea",
            "Guinea-Bissau",
            "Kenya",
            "Lesotho",
            "Liberia",
            "Libya",
            "Madagascar",
            "Malawi",
            "Mali",
            "Mauritania",
            "Mauritius",
            "Morocco",
            "Mozambique",
            "Namibia",
            "Niger",
            "Nigeria",
            "Reunion",
            "Rwanda",
            "Sao Tome and Principe",
            "Senegal",
            "Sierra Leone",
            "Somalia",
            "South Africa",
            "Sudan",
            "Swaziland",
            "Tanzania",
            "Togo",
            "Tunisia",
            "Uganda",
            "Zambia",
            "Zimbabwe"
           ],
           "locations": [
            "DZA",
            "AGO",
            "BEN",
            "BWA",
            "BFA",
            "BDI",
            "CMR",
            "CAF",
            "TCD",
            "COM",
            "COD",
            "COG",
            "CIV",
            "DJI",
            "EGY",
            "GNQ",
            "ERI",
            "ETH",
            "GAB",
            "GMB",
            "GHA",
            "GIN",
            "GNB",
            "KEN",
            "LSO",
            "LBR",
            "LBY",
            "MDG",
            "MWI",
            "MLI",
            "MRT",
            "MUS",
            "MAR",
            "MOZ",
            "NAM",
            "NER",
            "NGA",
            "REU",
            "RWA",
            "STP",
            "SEN",
            "SLE",
            "SOM",
            "ZAF",
            "SDN",
            "SWZ",
            "TZA",
            "TGO",
            "TUN",
            "UGA",
            "ZMB",
            "ZWE"
           ],
           "name": "",
           "type": "choropleth",
           "z": [
            29072015,
            9875024,
            6066080,
            1536536,
            10352843,
            6121610,
            14195809,
            3696513,
            7562011,
            527982,
            47798986,
            2800947,
            14625967,
            417908,
            66134291,
            439971,
            4058319,
            59861301,
            1126189,
            1235767,
            18418288,
            8048834,
            1193708,
            28263827,
            1982823,
            2200725,
            4759670,
            14165114,
            10419991,
            9384984,
            2444741,
            1149818,
            28529501,
            16603334,
            1774766,
            9666252,
            106207839,
            684810,
            7212583,
            145608,
            9535314,
            4578212,
            6633514,
            42835005,
            32160729,
            1054486,
            30686889,
            4320890,
            9231669,
            21210254,
            9417789,
            11404948
           ]
          }
         ],
         "name": "1997"
        },
        {
         "data": [
          {
           "coloraxis": "coloraxis",
           "geo": "geo",
           "hovertemplate": "<b>%{hovertext}</b><br><br>year=2002<br>iso_alpha=%{location}<br>pop=%{z}<extra></extra>",
           "hovertext": [
            "Algeria",
            "Angola",
            "Benin",
            "Botswana",
            "Burkina Faso",
            "Burundi",
            "Cameroon",
            "Central African Republic",
            "Chad",
            "Comoros",
            "Congo, Dem. Rep.",
            "Congo, Rep.",
            "Cote d'Ivoire",
            "Djibouti",
            "Egypt",
            "Equatorial Guinea",
            "Eritrea",
            "Ethiopia",
            "Gabon",
            "Gambia",
            "Ghana",
            "Guinea",
            "Guinea-Bissau",
            "Kenya",
            "Lesotho",
            "Liberia",
            "Libya",
            "Madagascar",
            "Malawi",
            "Mali",
            "Mauritania",
            "Mauritius",
            "Morocco",
            "Mozambique",
            "Namibia",
            "Niger",
            "Nigeria",
            "Reunion",
            "Rwanda",
            "Sao Tome and Principe",
            "Senegal",
            "Sierra Leone",
            "Somalia",
            "South Africa",
            "Sudan",
            "Swaziland",
            "Tanzania",
            "Togo",
            "Tunisia",
            "Uganda",
            "Zambia",
            "Zimbabwe"
           ],
           "locations": [
            "DZA",
            "AGO",
            "BEN",
            "BWA",
            "BFA",
            "BDI",
            "CMR",
            "CAF",
            "TCD",
            "COM",
            "COD",
            "COG",
            "CIV",
            "DJI",
            "EGY",
            "GNQ",
            "ERI",
            "ETH",
            "GAB",
            "GMB",
            "GHA",
            "GIN",
            "GNB",
            "KEN",
            "LSO",
            "LBR",
            "LBY",
            "MDG",
            "MWI",
            "MLI",
            "MRT",
            "MUS",
            "MAR",
            "MOZ",
            "NAM",
            "NER",
            "NGA",
            "REU",
            "RWA",
            "STP",
            "SEN",
            "SLE",
            "SOM",
            "ZAF",
            "SDN",
            "SWZ",
            "TZA",
            "TGO",
            "TUN",
            "UGA",
            "ZMB",
            "ZWE"
           ],
           "name": "",
           "type": "choropleth",
           "z": [
            31287142,
            10866106,
            7026113,
            1630347,
            12251209,
            7021078,
            15929988,
            4048013,
            8835739,
            614382,
            55379852,
            3328795,
            16252726,
            447416,
            73312559,
            495627,
            4414865,
            67946797,
            1299304,
            1457766,
            20550751,
            8807818,
            1332459,
            31386842,
            2046772,
            2814651,
            5368585,
            16473477,
            11824495,
            10580176,
            2828858,
            1200206,
            31167783,
            18473780,
            1972153,
            11140655,
            119901274,
            743981,
            7852401,
            170372,
            10870037,
            5359092,
            7753310,
            44433622,
            37090298,
            1130269,
            34593779,
            4977378,
            9770575,
            24739869,
            10595811,
            11926563
           ]
          }
         ],
         "name": "2002"
        },
        {
         "data": [
          {
           "coloraxis": "coloraxis",
           "geo": "geo",
           "hovertemplate": "<b>%{hovertext}</b><br><br>year=2007<br>iso_alpha=%{location}<br>pop=%{z}<extra></extra>",
           "hovertext": [
            "Algeria",
            "Angola",
            "Benin",
            "Botswana",
            "Burkina Faso",
            "Burundi",
            "Cameroon",
            "Central African Republic",
            "Chad",
            "Comoros",
            "Congo, Dem. Rep.",
            "Congo, Rep.",
            "Cote d'Ivoire",
            "Djibouti",
            "Egypt",
            "Equatorial Guinea",
            "Eritrea",
            "Ethiopia",
            "Gabon",
            "Gambia",
            "Ghana",
            "Guinea",
            "Guinea-Bissau",
            "Kenya",
            "Lesotho",
            "Liberia",
            "Libya",
            "Madagascar",
            "Malawi",
            "Mali",
            "Mauritania",
            "Mauritius",
            "Morocco",
            "Mozambique",
            "Namibia",
            "Niger",
            "Nigeria",
            "Reunion",
            "Rwanda",
            "Sao Tome and Principe",
            "Senegal",
            "Sierra Leone",
            "Somalia",
            "South Africa",
            "Sudan",
            "Swaziland",
            "Tanzania",
            "Togo",
            "Tunisia",
            "Uganda",
            "Zambia",
            "Zimbabwe"
           ],
           "locations": [
            "DZA",
            "AGO",
            "BEN",
            "BWA",
            "BFA",
            "BDI",
            "CMR",
            "CAF",
            "TCD",
            "COM",
            "COD",
            "COG",
            "CIV",
            "DJI",
            "EGY",
            "GNQ",
            "ERI",
            "ETH",
            "GAB",
            "GMB",
            "GHA",
            "GIN",
            "GNB",
            "KEN",
            "LSO",
            "LBR",
            "LBY",
            "MDG",
            "MWI",
            "MLI",
            "MRT",
            "MUS",
            "MAR",
            "MOZ",
            "NAM",
            "NER",
            "NGA",
            "REU",
            "RWA",
            "STP",
            "SEN",
            "SLE",
            "SOM",
            "ZAF",
            "SDN",
            "SWZ",
            "TZA",
            "TGO",
            "TUN",
            "UGA",
            "ZMB",
            "ZWE"
           ],
           "name": "",
           "type": "choropleth",
           "z": [
            33333216,
            12420476,
            8078314,
            1639131,
            14326203,
            8390505,
            17696293,
            4369038,
            10238807,
            710960,
            64606759,
            3800610,
            18013409,
            496374,
            80264543,
            551201,
            4906585,
            76511887,
            1454867,
            1688359,
            22873338,
            9947814,
            1472041,
            35610177,
            2012649,
            3193942,
            6036914,
            19167654,
            13327079,
            12031795,
            3270065,
            1250882,
            33757175,
            19951656,
            2055080,
            12894865,
            135031164,
            798094,
            8860588,
            199579,
            12267493,
            6144562,
            9118773,
            43997828,
            42292929,
            1133066,
            38139640,
            5701579,
            10276158,
            29170398,
            11746035,
            12311143
           ]
          }
         ],
         "name": "2007"
        }
       ],
       "layout": {
        "coloraxis": {
         "colorbar": {
          "title": {
           "text": "pop"
          }
         },
         "colorscale": [
          [
           0,
           "#0d0887"
          ],
          [
           0.1111111111111111,
           "#46039f"
          ],
          [
           0.2222222222222222,
           "#7201a8"
          ],
          [
           0.3333333333333333,
           "#9c179e"
          ],
          [
           0.4444444444444444,
           "#bd3786"
          ],
          [
           0.5555555555555556,
           "#d8576b"
          ],
          [
           0.6666666666666666,
           "#ed7953"
          ],
          [
           0.7777777777777778,
           "#fb9f3a"
          ],
          [
           0.8888888888888888,
           "#fdca26"
          ],
          [
           1,
           "#f0f921"
          ]
         ]
        },
        "geo": {
         "center": {},
         "domain": {
          "x": [
           0,
           1
          ],
          "y": [
           0,
           1
          ]
         }
        },
        "legend": {
         "tracegroupgap": 0
        },
        "margin": {
         "b": 0,
         "l": 0,
         "r": 0,
         "t": 0
        },
        "sliders": [
         {
          "active": 0,
          "currentvalue": {
           "prefix": "year="
          },
          "len": 0.9,
          "pad": {
           "b": 10,
           "t": 60
          },
          "steps": [
           {
            "args": [
             [
              "1977"
             ],
             {
              "frame": {
               "duration": 0,
               "redraw": true
              },
              "fromcurrent": true,
              "mode": "immediate",
              "transition": {
               "duration": 0,
               "easing": "linear"
              }
             }
            ],
            "label": "1977",
            "method": "animate"
           },
           {
            "args": [
             [
              "1982"
             ],
             {
              "frame": {
               "duration": 0,
               "redraw": true
              },
              "fromcurrent": true,
              "mode": "immediate",
              "transition": {
               "duration": 0,
               "easing": "linear"
              }
             }
            ],
            "label": "1982",
            "method": "animate"
           },
           {
            "args": [
             [
              "1987"
             ],
             {
              "frame": {
               "duration": 0,
               "redraw": true
              },
              "fromcurrent": true,
              "mode": "immediate",
              "transition": {
               "duration": 0,
               "easing": "linear"
              }
             }
            ],
            "label": "1987",
            "method": "animate"
           },
           {
            "args": [
             [
              "1992"
             ],
             {
              "frame": {
               "duration": 0,
               "redraw": true
              },
              "fromcurrent": true,
              "mode": "immediate",
              "transition": {
               "duration": 0,
               "easing": "linear"
              }
             }
            ],
            "label": "1992",
            "method": "animate"
           },
           {
            "args": [
             [
              "1997"
             ],
             {
              "frame": {
               "duration": 0,
               "redraw": true
              },
              "fromcurrent": true,
              "mode": "immediate",
              "transition": {
               "duration": 0,
               "easing": "linear"
              }
             }
            ],
            "label": "1997",
            "method": "animate"
           },
           {
            "args": [
             [
              "2002"
             ],
             {
              "frame": {
               "duration": 0,
               "redraw": true
              },
              "fromcurrent": true,
              "mode": "immediate",
              "transition": {
               "duration": 0,
               "easing": "linear"
              }
             }
            ],
            "label": "2002",
            "method": "animate"
           },
           {
            "args": [
             [
              "2007"
             ],
             {
              "frame": {
               "duration": 0,
               "redraw": true
              },
              "fromcurrent": true,
              "mode": "immediate",
              "transition": {
               "duration": 0,
               "easing": "linear"
              }
             }
            ],
            "label": "2007",
            "method": "animate"
           }
          ],
          "x": 0.1,
          "xanchor": "left",
          "y": 0,
          "yanchor": "top"
         }
        ],
        "template": {
         "data": {
          "bar": [
           {
            "error_x": {
             "color": "#2a3f5f"
            },
            "error_y": {
             "color": "#2a3f5f"
            },
            "marker": {
             "line": {
              "color": "#E5ECF6",
              "width": 0.5
             }
            },
            "type": "bar"
           }
          ],
          "barpolar": [
           {
            "marker": {
             "line": {
              "color": "#E5ECF6",
              "width": 0.5
             }
            },
            "type": "barpolar"
           }
          ],
          "carpet": [
           {
            "aaxis": {
             "endlinecolor": "#2a3f5f",
             "gridcolor": "white",
             "linecolor": "white",
             "minorgridcolor": "white",
             "startlinecolor": "#2a3f5f"
            },
            "baxis": {
             "endlinecolor": "#2a3f5f",
             "gridcolor": "white",
             "linecolor": "white",
             "minorgridcolor": "white",
             "startlinecolor": "#2a3f5f"
            },
            "type": "carpet"
           }
          ],
          "choropleth": [
           {
            "colorbar": {
             "outlinewidth": 0,
             "ticks": ""
            },
            "type": "choropleth"
           }
          ],
          "contour": [
           {
            "colorbar": {
             "outlinewidth": 0,
             "ticks": ""
            },
            "colorscale": [
             [
              0,
              "#0d0887"
             ],
             [
              0.1111111111111111,
              "#46039f"
             ],
             [
              0.2222222222222222,
              "#7201a8"
             ],
             [
              0.3333333333333333,
              "#9c179e"
             ],
             [
              0.4444444444444444,
              "#bd3786"
             ],
             [
              0.5555555555555556,
              "#d8576b"
             ],
             [
              0.6666666666666666,
              "#ed7953"
             ],
             [
              0.7777777777777778,
              "#fb9f3a"
             ],
             [
              0.8888888888888888,
              "#fdca26"
             ],
             [
              1,
              "#f0f921"
             ]
            ],
            "type": "contour"
           }
          ],
          "contourcarpet": [
           {
            "colorbar": {
             "outlinewidth": 0,
             "ticks": ""
            },
            "type": "contourcarpet"
           }
          ],
          "heatmap": [
           {
            "colorbar": {
             "outlinewidth": 0,
             "ticks": ""
            },
            "colorscale": [
             [
              0,
              "#0d0887"
             ],
             [
              0.1111111111111111,
              "#46039f"
             ],
             [
              0.2222222222222222,
              "#7201a8"
             ],
             [
              0.3333333333333333,
              "#9c179e"
             ],
             [
              0.4444444444444444,
              "#bd3786"
             ],
             [
              0.5555555555555556,
              "#d8576b"
             ],
             [
              0.6666666666666666,
              "#ed7953"
             ],
             [
              0.7777777777777778,
              "#fb9f3a"
             ],
             [
              0.8888888888888888,
              "#fdca26"
             ],
             [
              1,
              "#f0f921"
             ]
            ],
            "type": "heatmap"
           }
          ],
          "heatmapgl": [
           {
            "colorbar": {
             "outlinewidth": 0,
             "ticks": ""
            },
            "colorscale": [
             [
              0,
              "#0d0887"
             ],
             [
              0.1111111111111111,
              "#46039f"
             ],
             [
              0.2222222222222222,
              "#7201a8"
             ],
             [
              0.3333333333333333,
              "#9c179e"
             ],
             [
              0.4444444444444444,
              "#bd3786"
             ],
             [
              0.5555555555555556,
              "#d8576b"
             ],
             [
              0.6666666666666666,
              "#ed7953"
             ],
             [
              0.7777777777777778,
              "#fb9f3a"
             ],
             [
              0.8888888888888888,
              "#fdca26"
             ],
             [
              1,
              "#f0f921"
             ]
            ],
            "type": "heatmapgl"
           }
          ],
          "histogram": [
           {
            "marker": {
             "colorbar": {
              "outlinewidth": 0,
              "ticks": ""
             }
            },
            "type": "histogram"
           }
          ],
          "histogram2d": [
           {
            "colorbar": {
             "outlinewidth": 0,
             "ticks": ""
            },
            "colorscale": [
             [
              0,
              "#0d0887"
             ],
             [
              0.1111111111111111,
              "#46039f"
             ],
             [
              0.2222222222222222,
              "#7201a8"
             ],
             [
              0.3333333333333333,
              "#9c179e"
             ],
             [
              0.4444444444444444,
              "#bd3786"
             ],
             [
              0.5555555555555556,
              "#d8576b"
             ],
             [
              0.6666666666666666,
              "#ed7953"
             ],
             [
              0.7777777777777778,
              "#fb9f3a"
             ],
             [
              0.8888888888888888,
              "#fdca26"
             ],
             [
              1,
              "#f0f921"
             ]
            ],
            "type": "histogram2d"
           }
          ],
          "histogram2dcontour": [
           {
            "colorbar": {
             "outlinewidth": 0,
             "ticks": ""
            },
            "colorscale": [
             [
              0,
              "#0d0887"
             ],
             [
              0.1111111111111111,
              "#46039f"
             ],
             [
              0.2222222222222222,
              "#7201a8"
             ],
             [
              0.3333333333333333,
              "#9c179e"
             ],
             [
              0.4444444444444444,
              "#bd3786"
             ],
             [
              0.5555555555555556,
              "#d8576b"
             ],
             [
              0.6666666666666666,
              "#ed7953"
             ],
             [
              0.7777777777777778,
              "#fb9f3a"
             ],
             [
              0.8888888888888888,
              "#fdca26"
             ],
             [
              1,
              "#f0f921"
             ]
            ],
            "type": "histogram2dcontour"
           }
          ],
          "mesh3d": [
           {
            "colorbar": {
             "outlinewidth": 0,
             "ticks": ""
            },
            "type": "mesh3d"
           }
          ],
          "parcoords": [
           {
            "line": {
             "colorbar": {
              "outlinewidth": 0,
              "ticks": ""
             }
            },
            "type": "parcoords"
           }
          ],
          "pie": [
           {
            "automargin": true,
            "type": "pie"
           }
          ],
          "scatter": [
           {
            "marker": {
             "colorbar": {
              "outlinewidth": 0,
              "ticks": ""
             }
            },
            "type": "scatter"
           }
          ],
          "scatter3d": [
           {
            "line": {
             "colorbar": {
              "outlinewidth": 0,
              "ticks": ""
             }
            },
            "marker": {
             "colorbar": {
              "outlinewidth": 0,
              "ticks": ""
             }
            },
            "type": "scatter3d"
           }
          ],
          "scattercarpet": [
           {
            "marker": {
             "colorbar": {
              "outlinewidth": 0,
              "ticks": ""
             }
            },
            "type": "scattercarpet"
           }
          ],
          "scattergeo": [
           {
            "marker": {
             "colorbar": {
              "outlinewidth": 0,
              "ticks": ""
             }
            },
            "type": "scattergeo"
           }
          ],
          "scattergl": [
           {
            "marker": {
             "colorbar": {
              "outlinewidth": 0,
              "ticks": ""
             }
            },
            "type": "scattergl"
           }
          ],
          "scattermapbox": [
           {
            "marker": {
             "colorbar": {
              "outlinewidth": 0,
              "ticks": ""
             }
            },
            "type": "scattermapbox"
           }
          ],
          "scatterpolar": [
           {
            "marker": {
             "colorbar": {
              "outlinewidth": 0,
              "ticks": ""
             }
            },
            "type": "scatterpolar"
           }
          ],
          "scatterpolargl": [
           {
            "marker": {
             "colorbar": {
              "outlinewidth": 0,
              "ticks": ""
             }
            },
            "type": "scatterpolargl"
           }
          ],
          "scatterternary": [
           {
            "marker": {
             "colorbar": {
              "outlinewidth": 0,
              "ticks": ""
             }
            },
            "type": "scatterternary"
           }
          ],
          "surface": [
           {
            "colorbar": {
             "outlinewidth": 0,
             "ticks": ""
            },
            "colorscale": [
             [
              0,
              "#0d0887"
             ],
             [
              0.1111111111111111,
              "#46039f"
             ],
             [
              0.2222222222222222,
              "#7201a8"
             ],
             [
              0.3333333333333333,
              "#9c179e"
             ],
             [
              0.4444444444444444,
              "#bd3786"
             ],
             [
              0.5555555555555556,
              "#d8576b"
             ],
             [
              0.6666666666666666,
              "#ed7953"
             ],
             [
              0.7777777777777778,
              "#fb9f3a"
             ],
             [
              0.8888888888888888,
              "#fdca26"
             ],
             [
              1,
              "#f0f921"
             ]
            ],
            "type": "surface"
           }
          ],
          "table": [
           {
            "cells": {
             "fill": {
              "color": "#EBF0F8"
             },
             "line": {
              "color": "white"
             }
            },
            "header": {
             "fill": {
              "color": "#C8D4E3"
             },
             "line": {
              "color": "white"
             }
            },
            "type": "table"
           }
          ]
         },
         "layout": {
          "annotationdefaults": {
           "arrowcolor": "#2a3f5f",
           "arrowhead": 0,
           "arrowwidth": 1
          },
          "autotypenumbers": "strict",
          "coloraxis": {
           "colorbar": {
            "outlinewidth": 0,
            "ticks": ""
           }
          },
          "colorscale": {
           "diverging": [
            [
             0,
             "#8e0152"
            ],
            [
             0.1,
             "#c51b7d"
            ],
            [
             0.2,
             "#de77ae"
            ],
            [
             0.3,
             "#f1b6da"
            ],
            [
             0.4,
             "#fde0ef"
            ],
            [
             0.5,
             "#f7f7f7"
            ],
            [
             0.6,
             "#e6f5d0"
            ],
            [
             0.7,
             "#b8e186"
            ],
            [
             0.8,
             "#7fbc41"
            ],
            [
             0.9,
             "#4d9221"
            ],
            [
             1,
             "#276419"
            ]
           ],
           "sequential": [
            [
             0,
             "#0d0887"
            ],
            [
             0.1111111111111111,
             "#46039f"
            ],
            [
             0.2222222222222222,
             "#7201a8"
            ],
            [
             0.3333333333333333,
             "#9c179e"
            ],
            [
             0.4444444444444444,
             "#bd3786"
            ],
            [
             0.5555555555555556,
             "#d8576b"
            ],
            [
             0.6666666666666666,
             "#ed7953"
            ],
            [
             0.7777777777777778,
             "#fb9f3a"
            ],
            [
             0.8888888888888888,
             "#fdca26"
            ],
            [
             1,
             "#f0f921"
            ]
           ],
           "sequentialminus": [
            [
             0,
             "#0d0887"
            ],
            [
             0.1111111111111111,
             "#46039f"
            ],
            [
             0.2222222222222222,
             "#7201a8"
            ],
            [
             0.3333333333333333,
             "#9c179e"
            ],
            [
             0.4444444444444444,
             "#bd3786"
            ],
            [
             0.5555555555555556,
             "#d8576b"
            ],
            [
             0.6666666666666666,
             "#ed7953"
            ],
            [
             0.7777777777777778,
             "#fb9f3a"
            ],
            [
             0.8888888888888888,
             "#fdca26"
            ],
            [
             1,
             "#f0f921"
            ]
           ]
          },
          "colorway": [
           "#636efa",
           "#EF553B",
           "#00cc96",
           "#ab63fa",
           "#FFA15A",
           "#19d3f3",
           "#FF6692",
           "#B6E880",
           "#FF97FF",
           "#FECB52"
          ],
          "font": {
           "color": "#2a3f5f"
          },
          "geo": {
           "bgcolor": "white",
           "lakecolor": "white",
           "landcolor": "#E5ECF6",
           "showlakes": true,
           "showland": true,
           "subunitcolor": "white"
          },
          "hoverlabel": {
           "align": "left"
          },
          "hovermode": "closest",
          "mapbox": {
           "style": "light"
          },
          "paper_bgcolor": "white",
          "plot_bgcolor": "#E5ECF6",
          "polar": {
           "angularaxis": {
            "gridcolor": "white",
            "linecolor": "white",
            "ticks": ""
           },
           "bgcolor": "#E5ECF6",
           "radialaxis": {
            "gridcolor": "white",
            "linecolor": "white",
            "ticks": ""
           }
          },
          "scene": {
           "xaxis": {
            "backgroundcolor": "#E5ECF6",
            "gridcolor": "white",
            "gridwidth": 2,
            "linecolor": "white",
            "showbackground": true,
            "ticks": "",
            "zerolinecolor": "white"
           },
           "yaxis": {
            "backgroundcolor": "#E5ECF6",
            "gridcolor": "white",
            "gridwidth": 2,
            "linecolor": "white",
            "showbackground": true,
            "ticks": "",
            "zerolinecolor": "white"
           },
           "zaxis": {
            "backgroundcolor": "#E5ECF6",
            "gridcolor": "white",
            "gridwidth": 2,
            "linecolor": "white",
            "showbackground": true,
            "ticks": "",
            "zerolinecolor": "white"
           }
          },
          "shapedefaults": {
           "line": {
            "color": "#2a3f5f"
           }
          },
          "ternary": {
           "aaxis": {
            "gridcolor": "white",
            "linecolor": "white",
            "ticks": ""
           },
           "baxis": {
            "gridcolor": "white",
            "linecolor": "white",
            "ticks": ""
           },
           "bgcolor": "#E5ECF6",
           "caxis": {
            "gridcolor": "white",
            "linecolor": "white",
            "ticks": ""
           }
          },
          "title": {
           "x": 0.05
          },
          "xaxis": {
           "automargin": true,
           "gridcolor": "white",
           "linecolor": "white",
           "ticks": "",
           "title": {
            "standoff": 15
           },
           "zerolinecolor": "white",
           "zerolinewidth": 2
          },
          "yaxis": {
           "automargin": true,
           "gridcolor": "white",
           "linecolor": "white",
           "ticks": "",
           "title": {
            "standoff": 15
           },
           "zerolinecolor": "white",
           "zerolinewidth": 2
          }
         }
        },
        "updatemenus": [
         {
          "buttons": [
           {
            "args": [
             null,
             {
              "frame": {
               "duration": 500,
               "redraw": true
              },
              "fromcurrent": true,
              "mode": "immediate",
              "transition": {
               "duration": 500,
               "easing": "linear"
              }
             }
            ],
            "label": "&#9654;",
            "method": "animate"
           },
           {
            "args": [
             [
              null
             ],
             {
              "frame": {
               "duration": 0,
               "redraw": true
              },
              "fromcurrent": true,
              "mode": "immediate",
              "transition": {
               "duration": 0,
               "easing": "linear"
              }
             }
            ],
            "label": "&#9724;",
            "method": "animate"
           }
          ],
          "direction": "left",
          "pad": {
           "r": 10,
           "t": 70
          },
          "showactive": false,
          "type": "buttons",
          "x": 0.1,
          "xanchor": "right",
          "y": 0,
          "yanchor": "top"
         }
        ]
       }
      },
      "text/html": [
       "<div>                            <div id=\"46925cc1-786d-42e2-a040-357d645fe2c8\" class=\"plotly-graph-div\" style=\"height:525px; width:100%;\"></div>            <script type=\"text/javascript\">                require([\"plotly\"], function(Plotly) {                    window.PLOTLYENV=window.PLOTLYENV || {};                                    if (document.getElementById(\"46925cc1-786d-42e2-a040-357d645fe2c8\")) {                    Plotly.newPlot(                        \"46925cc1-786d-42e2-a040-357d645fe2c8\",                        [{\"coloraxis\": \"coloraxis\", \"geo\": \"geo\", \"hovertemplate\": \"<b>%{hovertext}</b><br><br>year=1977<br>iso_alpha=%{location}<br>pop=%{z}<extra></extra>\", \"hovertext\": [\"Algeria\", \"Angola\", \"Benin\", \"Botswana\", \"Burkina Faso\", \"Burundi\", \"Cameroon\", \"Central African Republic\", \"Chad\", \"Comoros\", \"Congo, Dem. Rep.\", \"Congo, Rep.\", \"Cote d'Ivoire\", \"Djibouti\", \"Egypt\", \"Equatorial Guinea\", \"Eritrea\", \"Ethiopia\", \"Gabon\", \"Gambia\", \"Ghana\", \"Guinea\", \"Guinea-Bissau\", \"Kenya\", \"Lesotho\", \"Liberia\", \"Libya\", \"Madagascar\", \"Malawi\", \"Mali\", \"Mauritania\", \"Mauritius\", \"Morocco\", \"Mozambique\", \"Namibia\", \"Niger\", \"Nigeria\", \"Reunion\", \"Rwanda\", \"Sao Tome and Principe\", \"Senegal\", \"Sierra Leone\", \"Somalia\", \"South Africa\", \"Sudan\", \"Swaziland\", \"Tanzania\", \"Togo\", \"Tunisia\", \"Uganda\", \"Zambia\", \"Zimbabwe\"], \"locations\": [\"DZA\", \"AGO\", \"BEN\", \"BWA\", \"BFA\", \"BDI\", \"CMR\", \"CAF\", \"TCD\", \"COM\", \"COD\", \"COG\", \"CIV\", \"DJI\", \"EGY\", \"GNQ\", \"ERI\", \"ETH\", \"GAB\", \"GMB\", \"GHA\", \"GIN\", \"GNB\", \"KEN\", \"LSO\", \"LBR\", \"LBY\", \"MDG\", \"MWI\", \"MLI\", \"MRT\", \"MUS\", \"MAR\", \"MOZ\", \"NAM\", \"NER\", \"NGA\", \"REU\", \"RWA\", \"STP\", \"SEN\", \"SLE\", \"SOM\", \"ZAF\", \"SDN\", \"SWZ\", \"TZA\", \"TGO\", \"TUN\", \"UGA\", \"ZMB\", \"ZWE\"], \"name\": \"\", \"type\": \"choropleth\", \"z\": [17152804, 6162675, 3168267, 781472, 5889574, 3834415, 7959865, 2167533, 4388260, 304739, 26480870, 1536769, 7459574, 228694, 38783863, 192675, 2512642, 34617799, 706367, 608274, 10538093, 4227026, 745228, 14500404, 1251524, 1703617, 2721783, 8007166, 5637246, 6491649, 1456688, 913025, 18396941, 11127868, 977026, 5682086, 62209173, 492095, 4657072, 86796, 5260855, 3140897, 4353666, 27129932, 17104986, 551425, 17129565, 2308582, 6005061, 11457758, 5216550, 6642107]}],                        {\"coloraxis\": {\"colorbar\": {\"title\": {\"text\": \"pop\"}}, \"colorscale\": [[0.0, \"#0d0887\"], [0.1111111111111111, \"#46039f\"], [0.2222222222222222, \"#7201a8\"], [0.3333333333333333, \"#9c179e\"], [0.4444444444444444, \"#bd3786\"], [0.5555555555555556, \"#d8576b\"], [0.6666666666666666, \"#ed7953\"], [0.7777777777777778, \"#fb9f3a\"], [0.8888888888888888, \"#fdca26\"], [1.0, \"#f0f921\"]]}, \"geo\": {\"center\": {}, \"domain\": {\"x\": [0.0, 1.0], \"y\": [0.0, 1.0]}}, \"legend\": {\"tracegroupgap\": 0}, \"margin\": {\"b\": 0, \"l\": 0, \"r\": 0, \"t\": 0}, \"sliders\": [{\"active\": 0, \"currentvalue\": {\"prefix\": \"year=\"}, \"len\": 0.9, \"pad\": {\"b\": 10, \"t\": 60}, \"steps\": [{\"args\": [[\"1977\"], {\"frame\": {\"duration\": 0, \"redraw\": true}, \"fromcurrent\": true, \"mode\": \"immediate\", \"transition\": {\"duration\": 0, \"easing\": \"linear\"}}], \"label\": \"1977\", \"method\": \"animate\"}, {\"args\": [[\"1982\"], {\"frame\": {\"duration\": 0, \"redraw\": true}, \"fromcurrent\": true, \"mode\": \"immediate\", \"transition\": {\"duration\": 0, \"easing\": \"linear\"}}], \"label\": \"1982\", \"method\": \"animate\"}, {\"args\": [[\"1987\"], {\"frame\": {\"duration\": 0, \"redraw\": true}, \"fromcurrent\": true, \"mode\": \"immediate\", \"transition\": {\"duration\": 0, \"easing\": \"linear\"}}], \"label\": \"1987\", \"method\": \"animate\"}, {\"args\": [[\"1992\"], {\"frame\": {\"duration\": 0, \"redraw\": true}, \"fromcurrent\": true, \"mode\": \"immediate\", \"transition\": {\"duration\": 0, \"easing\": \"linear\"}}], \"label\": \"1992\", \"method\": \"animate\"}, {\"args\": [[\"1997\"], {\"frame\": {\"duration\": 0, \"redraw\": true}, \"fromcurrent\": true, \"mode\": \"immediate\", \"transition\": {\"duration\": 0, \"easing\": \"linear\"}}], \"label\": \"1997\", \"method\": \"animate\"}, {\"args\": [[\"2002\"], {\"frame\": {\"duration\": 0, \"redraw\": true}, \"fromcurrent\": true, \"mode\": \"immediate\", \"transition\": {\"duration\": 0, \"easing\": \"linear\"}}], \"label\": \"2002\", \"method\": \"animate\"}, {\"args\": [[\"2007\"], {\"frame\": {\"duration\": 0, \"redraw\": true}, \"fromcurrent\": true, \"mode\": \"immediate\", \"transition\": {\"duration\": 0, \"easing\": \"linear\"}}], \"label\": \"2007\", \"method\": \"animate\"}], \"x\": 0.1, \"xanchor\": \"left\", \"y\": 0, \"yanchor\": \"top\"}], \"template\": {\"data\": {\"bar\": [{\"error_x\": {\"color\": \"#2a3f5f\"}, \"error_y\": {\"color\": \"#2a3f5f\"}, \"marker\": {\"line\": {\"color\": \"#E5ECF6\", \"width\": 0.5}}, \"type\": \"bar\"}], \"barpolar\": [{\"marker\": {\"line\": {\"color\": \"#E5ECF6\", \"width\": 0.5}}, \"type\": \"barpolar\"}], \"carpet\": [{\"aaxis\": {\"endlinecolor\": \"#2a3f5f\", \"gridcolor\": \"white\", \"linecolor\": \"white\", \"minorgridcolor\": \"white\", \"startlinecolor\": \"#2a3f5f\"}, \"baxis\": {\"endlinecolor\": \"#2a3f5f\", \"gridcolor\": \"white\", \"linecolor\": \"white\", \"minorgridcolor\": \"white\", \"startlinecolor\": \"#2a3f5f\"}, \"type\": \"carpet\"}], \"choropleth\": [{\"colorbar\": {\"outlinewidth\": 0, \"ticks\": \"\"}, \"type\": \"choropleth\"}], \"contour\": [{\"colorbar\": {\"outlinewidth\": 0, \"ticks\": \"\"}, \"colorscale\": [[0.0, \"#0d0887\"], [0.1111111111111111, \"#46039f\"], [0.2222222222222222, \"#7201a8\"], [0.3333333333333333, \"#9c179e\"], [0.4444444444444444, \"#bd3786\"], [0.5555555555555556, \"#d8576b\"], [0.6666666666666666, \"#ed7953\"], [0.7777777777777778, \"#fb9f3a\"], [0.8888888888888888, \"#fdca26\"], [1.0, \"#f0f921\"]], \"type\": \"contour\"}], \"contourcarpet\": [{\"colorbar\": {\"outlinewidth\": 0, \"ticks\": \"\"}, \"type\": \"contourcarpet\"}], \"heatmap\": [{\"colorbar\": {\"outlinewidth\": 0, \"ticks\": \"\"}, \"colorscale\": [[0.0, \"#0d0887\"], [0.1111111111111111, \"#46039f\"], [0.2222222222222222, \"#7201a8\"], [0.3333333333333333, \"#9c179e\"], [0.4444444444444444, \"#bd3786\"], [0.5555555555555556, \"#d8576b\"], [0.6666666666666666, \"#ed7953\"], [0.7777777777777778, \"#fb9f3a\"], [0.8888888888888888, \"#fdca26\"], [1.0, \"#f0f921\"]], \"type\": \"heatmap\"}], \"heatmapgl\": [{\"colorbar\": {\"outlinewidth\": 0, \"ticks\": \"\"}, \"colorscale\": [[0.0, \"#0d0887\"], [0.1111111111111111, \"#46039f\"], [0.2222222222222222, \"#7201a8\"], [0.3333333333333333, \"#9c179e\"], [0.4444444444444444, \"#bd3786\"], [0.5555555555555556, \"#d8576b\"], [0.6666666666666666, \"#ed7953\"], [0.7777777777777778, \"#fb9f3a\"], [0.8888888888888888, \"#fdca26\"], [1.0, \"#f0f921\"]], \"type\": \"heatmapgl\"}], \"histogram\": [{\"marker\": {\"colorbar\": {\"outlinewidth\": 0, \"ticks\": \"\"}}, \"type\": \"histogram\"}], \"histogram2d\": [{\"colorbar\": {\"outlinewidth\": 0, \"ticks\": \"\"}, \"colorscale\": [[0.0, \"#0d0887\"], [0.1111111111111111, \"#46039f\"], [0.2222222222222222, \"#7201a8\"], [0.3333333333333333, \"#9c179e\"], [0.4444444444444444, \"#bd3786\"], [0.5555555555555556, \"#d8576b\"], [0.6666666666666666, \"#ed7953\"], [0.7777777777777778, \"#fb9f3a\"], [0.8888888888888888, \"#fdca26\"], [1.0, \"#f0f921\"]], \"type\": \"histogram2d\"}], \"histogram2dcontour\": [{\"colorbar\": {\"outlinewidth\": 0, \"ticks\": \"\"}, \"colorscale\": [[0.0, \"#0d0887\"], [0.1111111111111111, \"#46039f\"], [0.2222222222222222, \"#7201a8\"], [0.3333333333333333, \"#9c179e\"], [0.4444444444444444, \"#bd3786\"], [0.5555555555555556, \"#d8576b\"], [0.6666666666666666, \"#ed7953\"], [0.7777777777777778, \"#fb9f3a\"], [0.8888888888888888, \"#fdca26\"], [1.0, \"#f0f921\"]], \"type\": \"histogram2dcontour\"}], \"mesh3d\": [{\"colorbar\": {\"outlinewidth\": 0, \"ticks\": \"\"}, \"type\": \"mesh3d\"}], \"parcoords\": [{\"line\": {\"colorbar\": {\"outlinewidth\": 0, \"ticks\": \"\"}}, \"type\": \"parcoords\"}], \"pie\": [{\"automargin\": true, \"type\": \"pie\"}], \"scatter\": [{\"marker\": {\"colorbar\": {\"outlinewidth\": 0, \"ticks\": \"\"}}, \"type\": \"scatter\"}], \"scatter3d\": [{\"line\": {\"colorbar\": {\"outlinewidth\": 0, \"ticks\": \"\"}}, \"marker\": {\"colorbar\": {\"outlinewidth\": 0, \"ticks\": \"\"}}, \"type\": \"scatter3d\"}], \"scattercarpet\": [{\"marker\": {\"colorbar\": {\"outlinewidth\": 0, \"ticks\": \"\"}}, \"type\": \"scattercarpet\"}], \"scattergeo\": [{\"marker\": {\"colorbar\": {\"outlinewidth\": 0, \"ticks\": \"\"}}, \"type\": \"scattergeo\"}], \"scattergl\": [{\"marker\": {\"colorbar\": {\"outlinewidth\": 0, \"ticks\": \"\"}}, \"type\": \"scattergl\"}], \"scattermapbox\": [{\"marker\": {\"colorbar\": {\"outlinewidth\": 0, \"ticks\": \"\"}}, \"type\": \"scattermapbox\"}], \"scatterpolar\": [{\"marker\": {\"colorbar\": {\"outlinewidth\": 0, \"ticks\": \"\"}}, \"type\": \"scatterpolar\"}], \"scatterpolargl\": [{\"marker\": {\"colorbar\": {\"outlinewidth\": 0, \"ticks\": \"\"}}, \"type\": \"scatterpolargl\"}], \"scatterternary\": [{\"marker\": {\"colorbar\": {\"outlinewidth\": 0, \"ticks\": \"\"}}, \"type\": \"scatterternary\"}], \"surface\": [{\"colorbar\": {\"outlinewidth\": 0, \"ticks\": \"\"}, \"colorscale\": [[0.0, \"#0d0887\"], [0.1111111111111111, \"#46039f\"], [0.2222222222222222, \"#7201a8\"], [0.3333333333333333, \"#9c179e\"], [0.4444444444444444, \"#bd3786\"], [0.5555555555555556, \"#d8576b\"], [0.6666666666666666, \"#ed7953\"], [0.7777777777777778, \"#fb9f3a\"], [0.8888888888888888, \"#fdca26\"], [1.0, \"#f0f921\"]], \"type\": \"surface\"}], \"table\": [{\"cells\": {\"fill\": {\"color\": \"#EBF0F8\"}, \"line\": {\"color\": \"white\"}}, \"header\": {\"fill\": {\"color\": \"#C8D4E3\"}, \"line\": {\"color\": \"white\"}}, \"type\": \"table\"}]}, \"layout\": {\"annotationdefaults\": {\"arrowcolor\": \"#2a3f5f\", \"arrowhead\": 0, \"arrowwidth\": 1}, \"autotypenumbers\": \"strict\", \"coloraxis\": {\"colorbar\": {\"outlinewidth\": 0, \"ticks\": \"\"}}, \"colorscale\": {\"diverging\": [[0, \"#8e0152\"], [0.1, \"#c51b7d\"], [0.2, \"#de77ae\"], [0.3, \"#f1b6da\"], [0.4, \"#fde0ef\"], [0.5, \"#f7f7f7\"], [0.6, \"#e6f5d0\"], [0.7, \"#b8e186\"], [0.8, \"#7fbc41\"], [0.9, \"#4d9221\"], [1, \"#276419\"]], \"sequential\": [[0.0, \"#0d0887\"], [0.1111111111111111, \"#46039f\"], [0.2222222222222222, \"#7201a8\"], [0.3333333333333333, \"#9c179e\"], [0.4444444444444444, \"#bd3786\"], [0.5555555555555556, \"#d8576b\"], [0.6666666666666666, \"#ed7953\"], [0.7777777777777778, \"#fb9f3a\"], [0.8888888888888888, \"#fdca26\"], [1.0, \"#f0f921\"]], \"sequentialminus\": [[0.0, \"#0d0887\"], [0.1111111111111111, \"#46039f\"], [0.2222222222222222, \"#7201a8\"], [0.3333333333333333, \"#9c179e\"], [0.4444444444444444, \"#bd3786\"], [0.5555555555555556, \"#d8576b\"], [0.6666666666666666, \"#ed7953\"], [0.7777777777777778, \"#fb9f3a\"], [0.8888888888888888, \"#fdca26\"], [1.0, \"#f0f921\"]]}, \"colorway\": [\"#636efa\", \"#EF553B\", \"#00cc96\", \"#ab63fa\", \"#FFA15A\", \"#19d3f3\", \"#FF6692\", \"#B6E880\", \"#FF97FF\", \"#FECB52\"], \"font\": {\"color\": \"#2a3f5f\"}, \"geo\": {\"bgcolor\": \"white\", \"lakecolor\": \"white\", \"landcolor\": \"#E5ECF6\", \"showlakes\": true, \"showland\": true, \"subunitcolor\": \"white\"}, \"hoverlabel\": {\"align\": \"left\"}, \"hovermode\": \"closest\", \"mapbox\": {\"style\": \"light\"}, \"paper_bgcolor\": \"white\", \"plot_bgcolor\": \"#E5ECF6\", \"polar\": {\"angularaxis\": {\"gridcolor\": \"white\", \"linecolor\": \"white\", \"ticks\": \"\"}, \"bgcolor\": \"#E5ECF6\", \"radialaxis\": {\"gridcolor\": \"white\", \"linecolor\": \"white\", \"ticks\": \"\"}}, \"scene\": {\"xaxis\": {\"backgroundcolor\": \"#E5ECF6\", \"gridcolor\": \"white\", \"gridwidth\": 2, \"linecolor\": \"white\", \"showbackground\": true, \"ticks\": \"\", \"zerolinecolor\": \"white\"}, \"yaxis\": {\"backgroundcolor\": \"#E5ECF6\", \"gridcolor\": \"white\", \"gridwidth\": 2, \"linecolor\": \"white\", \"showbackground\": true, \"ticks\": \"\", \"zerolinecolor\": \"white\"}, \"zaxis\": {\"backgroundcolor\": \"#E5ECF6\", \"gridcolor\": \"white\", \"gridwidth\": 2, \"linecolor\": \"white\", \"showbackground\": true, \"ticks\": \"\", \"zerolinecolor\": \"white\"}}, \"shapedefaults\": {\"line\": {\"color\": \"#2a3f5f\"}}, \"ternary\": {\"aaxis\": {\"gridcolor\": \"white\", \"linecolor\": \"white\", \"ticks\": \"\"}, \"baxis\": {\"gridcolor\": \"white\", \"linecolor\": \"white\", \"ticks\": \"\"}, \"bgcolor\": \"#E5ECF6\", \"caxis\": {\"gridcolor\": \"white\", \"linecolor\": \"white\", \"ticks\": \"\"}}, \"title\": {\"x\": 0.05}, \"xaxis\": {\"automargin\": true, \"gridcolor\": \"white\", \"linecolor\": \"white\", \"ticks\": \"\", \"title\": {\"standoff\": 15}, \"zerolinecolor\": \"white\", \"zerolinewidth\": 2}, \"yaxis\": {\"automargin\": true, \"gridcolor\": \"white\", \"linecolor\": \"white\", \"ticks\": \"\", \"title\": {\"standoff\": 15}, \"zerolinecolor\": \"white\", \"zerolinewidth\": 2}}}, \"updatemenus\": [{\"buttons\": [{\"args\": [null, {\"frame\": {\"duration\": 500, \"redraw\": true}, \"fromcurrent\": true, \"mode\": \"immediate\", \"transition\": {\"duration\": 500, \"easing\": \"linear\"}}], \"label\": \"&#9654;\", \"method\": \"animate\"}, {\"args\": [[null], {\"frame\": {\"duration\": 0, \"redraw\": true}, \"fromcurrent\": true, \"mode\": \"immediate\", \"transition\": {\"duration\": 0, \"easing\": \"linear\"}}], \"label\": \"&#9724;\", \"method\": \"animate\"}], \"direction\": \"left\", \"pad\": {\"r\": 10, \"t\": 70}, \"showactive\": false, \"type\": \"buttons\", \"x\": 0.1, \"xanchor\": \"right\", \"y\": 0, \"yanchor\": \"top\"}]},                        {\"responsive\": true}                    ).then(function(){\n",
       "                            Plotly.addFrames('46925cc1-786d-42e2-a040-357d645fe2c8', [{\"data\": [{\"coloraxis\": \"coloraxis\", \"geo\": \"geo\", \"hovertemplate\": \"<b>%{hovertext}</b><br><br>year=1977<br>iso_alpha=%{location}<br>pop=%{z}<extra></extra>\", \"hovertext\": [\"Algeria\", \"Angola\", \"Benin\", \"Botswana\", \"Burkina Faso\", \"Burundi\", \"Cameroon\", \"Central African Republic\", \"Chad\", \"Comoros\", \"Congo, Dem. Rep.\", \"Congo, Rep.\", \"Cote d'Ivoire\", \"Djibouti\", \"Egypt\", \"Equatorial Guinea\", \"Eritrea\", \"Ethiopia\", \"Gabon\", \"Gambia\", \"Ghana\", \"Guinea\", \"Guinea-Bissau\", \"Kenya\", \"Lesotho\", \"Liberia\", \"Libya\", \"Madagascar\", \"Malawi\", \"Mali\", \"Mauritania\", \"Mauritius\", \"Morocco\", \"Mozambique\", \"Namibia\", \"Niger\", \"Nigeria\", \"Reunion\", \"Rwanda\", \"Sao Tome and Principe\", \"Senegal\", \"Sierra Leone\", \"Somalia\", \"South Africa\", \"Sudan\", \"Swaziland\", \"Tanzania\", \"Togo\", \"Tunisia\", \"Uganda\", \"Zambia\", \"Zimbabwe\"], \"locations\": [\"DZA\", \"AGO\", \"BEN\", \"BWA\", \"BFA\", \"BDI\", \"CMR\", \"CAF\", \"TCD\", \"COM\", \"COD\", \"COG\", \"CIV\", \"DJI\", \"EGY\", \"GNQ\", \"ERI\", \"ETH\", \"GAB\", \"GMB\", \"GHA\", \"GIN\", \"GNB\", \"KEN\", \"LSO\", \"LBR\", \"LBY\", \"MDG\", \"MWI\", \"MLI\", \"MRT\", \"MUS\", \"MAR\", \"MOZ\", \"NAM\", \"NER\", \"NGA\", \"REU\", \"RWA\", \"STP\", \"SEN\", \"SLE\", \"SOM\", \"ZAF\", \"SDN\", \"SWZ\", \"TZA\", \"TGO\", \"TUN\", \"UGA\", \"ZMB\", \"ZWE\"], \"name\": \"\", \"z\": [17152804, 6162675, 3168267, 781472, 5889574, 3834415, 7959865, 2167533, 4388260, 304739, 26480870, 1536769, 7459574, 228694, 38783863, 192675, 2512642, 34617799, 706367, 608274, 10538093, 4227026, 745228, 14500404, 1251524, 1703617, 2721783, 8007166, 5637246, 6491649, 1456688, 913025, 18396941, 11127868, 977026, 5682086, 62209173, 492095, 4657072, 86796, 5260855, 3140897, 4353666, 27129932, 17104986, 551425, 17129565, 2308582, 6005061, 11457758, 5216550, 6642107], \"type\": \"choropleth\"}], \"name\": \"1977\"}, {\"data\": [{\"coloraxis\": \"coloraxis\", \"geo\": \"geo\", \"hovertemplate\": \"<b>%{hovertext}</b><br><br>year=1982<br>iso_alpha=%{location}<br>pop=%{z}<extra></extra>\", \"hovertext\": [\"Algeria\", \"Angola\", \"Benin\", \"Botswana\", \"Burkina Faso\", \"Burundi\", \"Cameroon\", \"Central African Republic\", \"Chad\", \"Comoros\", \"Congo, Dem. Rep.\", \"Congo, Rep.\", \"Cote d'Ivoire\", \"Djibouti\", \"Egypt\", \"Equatorial Guinea\", \"Eritrea\", \"Ethiopia\", \"Gabon\", \"Gambia\", \"Ghana\", \"Guinea\", \"Guinea-Bissau\", \"Kenya\", \"Lesotho\", \"Liberia\", \"Libya\", \"Madagascar\", \"Malawi\", \"Mali\", \"Mauritania\", \"Mauritius\", \"Morocco\", \"Mozambique\", \"Namibia\", \"Niger\", \"Nigeria\", \"Reunion\", \"Rwanda\", \"Sao Tome and Principe\", \"Senegal\", \"Sierra Leone\", \"Somalia\", \"South Africa\", \"Sudan\", \"Swaziland\", \"Tanzania\", \"Togo\", \"Tunisia\", \"Uganda\", \"Zambia\", \"Zimbabwe\"], \"locations\": [\"DZA\", \"AGO\", \"BEN\", \"BWA\", \"BFA\", \"BDI\", \"CMR\", \"CAF\", \"TCD\", \"COM\", \"COD\", \"COG\", \"CIV\", \"DJI\", \"EGY\", \"GNQ\", \"ERI\", \"ETH\", \"GAB\", \"GMB\", \"GHA\", \"GIN\", \"GNB\", \"KEN\", \"LSO\", \"LBR\", \"LBY\", \"MDG\", \"MWI\", \"MLI\", \"MRT\", \"MUS\", \"MAR\", \"MOZ\", \"NAM\", \"NER\", \"NGA\", \"REU\", \"RWA\", \"STP\", \"SEN\", \"SLE\", \"SOM\", \"ZAF\", \"SDN\", \"SWZ\", \"TZA\", \"TGO\", \"TUN\", \"UGA\", \"ZMB\", \"ZWE\"], \"name\": \"\", \"z\": [20033753, 7016384, 3641603, 970347, 6634596, 4580410, 9250831, 2476971, 4875118, 348643, 30646495, 1774735, 9025951, 305991, 45681811, 285483, 2637297, 38111756, 753874, 715523, 11400338, 4710497, 825987, 17661452, 1411807, 1956875, 3344074, 9171477, 6502825, 6998256, 1622136, 992040, 20198730, 12587223, 1099010, 6437188, 73039376, 517810, 5507565, 98593, 6147783, 3464522, 5828892, 31140029, 20367053, 649901, 19844382, 2644765, 6734098, 12939400, 6100407, 7636524], \"type\": \"choropleth\"}], \"name\": \"1982\"}, {\"data\": [{\"coloraxis\": \"coloraxis\", \"geo\": \"geo\", \"hovertemplate\": \"<b>%{hovertext}</b><br><br>year=1987<br>iso_alpha=%{location}<br>pop=%{z}<extra></extra>\", \"hovertext\": [\"Algeria\", \"Angola\", \"Benin\", \"Botswana\", \"Burkina Faso\", \"Burundi\", \"Cameroon\", \"Central African Republic\", \"Chad\", \"Comoros\", \"Congo, Dem. Rep.\", \"Congo, Rep.\", \"Cote d'Ivoire\", \"Djibouti\", \"Egypt\", \"Equatorial Guinea\", \"Eritrea\", \"Ethiopia\", \"Gabon\", \"Gambia\", \"Ghana\", \"Guinea\", \"Guinea-Bissau\", \"Kenya\", \"Lesotho\", \"Liberia\", \"Libya\", \"Madagascar\", \"Malawi\", \"Mali\", \"Mauritania\", \"Mauritius\", \"Morocco\", \"Mozambique\", \"Namibia\", \"Niger\", \"Nigeria\", \"Reunion\", \"Rwanda\", \"Sao Tome and Principe\", \"Senegal\", \"Sierra Leone\", \"Somalia\", \"South Africa\", \"Sudan\", \"Swaziland\", \"Tanzania\", \"Togo\", \"Tunisia\", \"Uganda\", \"Zambia\", \"Zimbabwe\"], \"locations\": [\"DZA\", \"AGO\", \"BEN\", \"BWA\", \"BFA\", \"BDI\", \"CMR\", \"CAF\", \"TCD\", \"COM\", \"COD\", \"COG\", \"CIV\", \"DJI\", \"EGY\", \"GNQ\", \"ERI\", \"ETH\", \"GAB\", \"GMB\", \"GHA\", \"GIN\", \"GNB\", \"KEN\", \"LSO\", \"LBR\", \"LBY\", \"MDG\", \"MWI\", \"MLI\", \"MRT\", \"MUS\", \"MAR\", \"MOZ\", \"NAM\", \"NER\", \"NGA\", \"REU\", \"RWA\", \"STP\", \"SEN\", \"SLE\", \"SOM\", \"ZAF\", \"SDN\", \"SWZ\", \"TZA\", \"TGO\", \"TUN\", \"UGA\", \"ZMB\", \"ZWE\"], \"name\": \"\", \"z\": [23254956, 7874230, 4243788, 1151184, 7586551, 5126023, 10780667, 2840009, 5498955, 395114, 35481645, 2064095, 10761098, 311025, 52799062, 341244, 2915959, 42999530, 880397, 848406, 14168101, 5650262, 927524, 21198082, 1599200, 2269414, 3799845, 10568642, 7824747, 7634008, 1841240, 1042663, 22987397, 12891952, 1278184, 7332638, 81551520, 562035, 6349365, 110812, 7171347, 3868905, 6921858, 35933379, 24725960, 779348, 23040630, 3154264, 7724976, 15283050, 7272406, 9216418], \"type\": \"choropleth\"}], \"name\": \"1987\"}, {\"data\": [{\"coloraxis\": \"coloraxis\", \"geo\": \"geo\", \"hovertemplate\": \"<b>%{hovertext}</b><br><br>year=1992<br>iso_alpha=%{location}<br>pop=%{z}<extra></extra>\", \"hovertext\": [\"Algeria\", \"Angola\", \"Benin\", \"Botswana\", \"Burkina Faso\", \"Burundi\", \"Cameroon\", \"Central African Republic\", \"Chad\", \"Comoros\", \"Congo, Dem. Rep.\", \"Congo, Rep.\", \"Cote d'Ivoire\", \"Djibouti\", \"Egypt\", \"Equatorial Guinea\", \"Eritrea\", \"Ethiopia\", \"Gabon\", \"Gambia\", \"Ghana\", \"Guinea\", \"Guinea-Bissau\", \"Kenya\", \"Lesotho\", \"Liberia\", \"Libya\", \"Madagascar\", \"Malawi\", \"Mali\", \"Mauritania\", \"Mauritius\", \"Morocco\", \"Mozambique\", \"Namibia\", \"Niger\", \"Nigeria\", \"Reunion\", \"Rwanda\", \"Sao Tome and Principe\", \"Senegal\", \"Sierra Leone\", \"Somalia\", \"South Africa\", \"Sudan\", \"Swaziland\", \"Tanzania\", \"Togo\", \"Tunisia\", \"Uganda\", \"Zambia\", \"Zimbabwe\"], \"locations\": [\"DZA\", \"AGO\", \"BEN\", \"BWA\", \"BFA\", \"BDI\", \"CMR\", \"CAF\", \"TCD\", \"COM\", \"COD\", \"COG\", \"CIV\", \"DJI\", \"EGY\", \"GNQ\", \"ERI\", \"ETH\", \"GAB\", \"GMB\", \"GHA\", \"GIN\", \"GNB\", \"KEN\", \"LSO\", \"LBR\", \"LBY\", \"MDG\", \"MWI\", \"MLI\", \"MRT\", \"MUS\", \"MAR\", \"MOZ\", \"NAM\", \"NER\", \"NGA\", \"REU\", \"RWA\", \"STP\", \"SEN\", \"SLE\", \"SOM\", \"ZAF\", \"SDN\", \"SWZ\", \"TZA\", \"TGO\", \"TUN\", \"UGA\", \"ZMB\", \"ZWE\"], \"name\": \"\", \"z\": [26298373, 8735988, 4981671, 1342614, 8878303, 5809236, 12467171, 3265124, 6429417, 454429, 41672143, 2409073, 12772596, 384156, 59402198, 387838, 3668440, 52088559, 985739, 1025384, 16278738, 6990574, 1050938, 25020539, 1803195, 1912974, 4364501, 12210395, 10014249, 8416215, 2119465, 1096202, 25798239, 13160731, 1554253, 8392818, 93364244, 622191, 7290203, 125911, 8307920, 4260884, 6099799, 39964159, 28227588, 962344, 26605473, 3747553, 8523077, 18252190, 8381163, 10704340], \"type\": \"choropleth\"}], \"name\": \"1992\"}, {\"data\": [{\"coloraxis\": \"coloraxis\", \"geo\": \"geo\", \"hovertemplate\": \"<b>%{hovertext}</b><br><br>year=1997<br>iso_alpha=%{location}<br>pop=%{z}<extra></extra>\", \"hovertext\": [\"Algeria\", \"Angola\", \"Benin\", \"Botswana\", \"Burkina Faso\", \"Burundi\", \"Cameroon\", \"Central African Republic\", \"Chad\", \"Comoros\", \"Congo, Dem. Rep.\", \"Congo, Rep.\", \"Cote d'Ivoire\", \"Djibouti\", \"Egypt\", \"Equatorial Guinea\", \"Eritrea\", \"Ethiopia\", \"Gabon\", \"Gambia\", \"Ghana\", \"Guinea\", \"Guinea-Bissau\", \"Kenya\", \"Lesotho\", \"Liberia\", \"Libya\", \"Madagascar\", \"Malawi\", \"Mali\", \"Mauritania\", \"Mauritius\", \"Morocco\", \"Mozambique\", \"Namibia\", \"Niger\", \"Nigeria\", \"Reunion\", \"Rwanda\", \"Sao Tome and Principe\", \"Senegal\", \"Sierra Leone\", \"Somalia\", \"South Africa\", \"Sudan\", \"Swaziland\", \"Tanzania\", \"Togo\", \"Tunisia\", \"Uganda\", \"Zambia\", \"Zimbabwe\"], \"locations\": [\"DZA\", \"AGO\", \"BEN\", \"BWA\", \"BFA\", \"BDI\", \"CMR\", \"CAF\", \"TCD\", \"COM\", \"COD\", \"COG\", \"CIV\", \"DJI\", \"EGY\", \"GNQ\", \"ERI\", \"ETH\", \"GAB\", \"GMB\", \"GHA\", \"GIN\", \"GNB\", \"KEN\", \"LSO\", \"LBR\", \"LBY\", \"MDG\", \"MWI\", \"MLI\", \"MRT\", \"MUS\", \"MAR\", \"MOZ\", \"NAM\", \"NER\", \"NGA\", \"REU\", \"RWA\", \"STP\", \"SEN\", \"SLE\", \"SOM\", \"ZAF\", \"SDN\", \"SWZ\", \"TZA\", \"TGO\", \"TUN\", \"UGA\", \"ZMB\", \"ZWE\"], \"name\": \"\", \"z\": [29072015, 9875024, 6066080, 1536536, 10352843, 6121610, 14195809, 3696513, 7562011, 527982, 47798986, 2800947, 14625967, 417908, 66134291, 439971, 4058319, 59861301, 1126189, 1235767, 18418288, 8048834, 1193708, 28263827, 1982823, 2200725, 4759670, 14165114, 10419991, 9384984, 2444741, 1149818, 28529501, 16603334, 1774766, 9666252, 106207839, 684810, 7212583, 145608, 9535314, 4578212, 6633514, 42835005, 32160729, 1054486, 30686889, 4320890, 9231669, 21210254, 9417789, 11404948], \"type\": \"choropleth\"}], \"name\": \"1997\"}, {\"data\": [{\"coloraxis\": \"coloraxis\", \"geo\": \"geo\", \"hovertemplate\": \"<b>%{hovertext}</b><br><br>year=2002<br>iso_alpha=%{location}<br>pop=%{z}<extra></extra>\", \"hovertext\": [\"Algeria\", \"Angola\", \"Benin\", \"Botswana\", \"Burkina Faso\", \"Burundi\", \"Cameroon\", \"Central African Republic\", \"Chad\", \"Comoros\", \"Congo, Dem. Rep.\", \"Congo, Rep.\", \"Cote d'Ivoire\", \"Djibouti\", \"Egypt\", \"Equatorial Guinea\", \"Eritrea\", \"Ethiopia\", \"Gabon\", \"Gambia\", \"Ghana\", \"Guinea\", \"Guinea-Bissau\", \"Kenya\", \"Lesotho\", \"Liberia\", \"Libya\", \"Madagascar\", \"Malawi\", \"Mali\", \"Mauritania\", \"Mauritius\", \"Morocco\", \"Mozambique\", \"Namibia\", \"Niger\", \"Nigeria\", \"Reunion\", \"Rwanda\", \"Sao Tome and Principe\", \"Senegal\", \"Sierra Leone\", \"Somalia\", \"South Africa\", \"Sudan\", \"Swaziland\", \"Tanzania\", \"Togo\", \"Tunisia\", \"Uganda\", \"Zambia\", \"Zimbabwe\"], \"locations\": [\"DZA\", \"AGO\", \"BEN\", \"BWA\", \"BFA\", \"BDI\", \"CMR\", \"CAF\", \"TCD\", \"COM\", \"COD\", \"COG\", \"CIV\", \"DJI\", \"EGY\", \"GNQ\", \"ERI\", \"ETH\", \"GAB\", \"GMB\", \"GHA\", \"GIN\", \"GNB\", \"KEN\", \"LSO\", \"LBR\", \"LBY\", \"MDG\", \"MWI\", \"MLI\", \"MRT\", \"MUS\", \"MAR\", \"MOZ\", \"NAM\", \"NER\", \"NGA\", \"REU\", \"RWA\", \"STP\", \"SEN\", \"SLE\", \"SOM\", \"ZAF\", \"SDN\", \"SWZ\", \"TZA\", \"TGO\", \"TUN\", \"UGA\", \"ZMB\", \"ZWE\"], \"name\": \"\", \"z\": [31287142, 10866106, 7026113, 1630347, 12251209, 7021078, 15929988, 4048013, 8835739, 614382, 55379852, 3328795, 16252726, 447416, 73312559, 495627, 4414865, 67946797, 1299304, 1457766, 20550751, 8807818, 1332459, 31386842, 2046772, 2814651, 5368585, 16473477, 11824495, 10580176, 2828858, 1200206, 31167783, 18473780, 1972153, 11140655, 119901274, 743981, 7852401, 170372, 10870037, 5359092, 7753310, 44433622, 37090298, 1130269, 34593779, 4977378, 9770575, 24739869, 10595811, 11926563], \"type\": \"choropleth\"}], \"name\": \"2002\"}, {\"data\": [{\"coloraxis\": \"coloraxis\", \"geo\": \"geo\", \"hovertemplate\": \"<b>%{hovertext}</b><br><br>year=2007<br>iso_alpha=%{location}<br>pop=%{z}<extra></extra>\", \"hovertext\": [\"Algeria\", \"Angola\", \"Benin\", \"Botswana\", \"Burkina Faso\", \"Burundi\", \"Cameroon\", \"Central African Republic\", \"Chad\", \"Comoros\", \"Congo, Dem. Rep.\", \"Congo, Rep.\", \"Cote d'Ivoire\", \"Djibouti\", \"Egypt\", \"Equatorial Guinea\", \"Eritrea\", \"Ethiopia\", \"Gabon\", \"Gambia\", \"Ghana\", \"Guinea\", \"Guinea-Bissau\", \"Kenya\", \"Lesotho\", \"Liberia\", \"Libya\", \"Madagascar\", \"Malawi\", \"Mali\", \"Mauritania\", \"Mauritius\", \"Morocco\", \"Mozambique\", \"Namibia\", \"Niger\", \"Nigeria\", \"Reunion\", \"Rwanda\", \"Sao Tome and Principe\", \"Senegal\", \"Sierra Leone\", \"Somalia\", \"South Africa\", \"Sudan\", \"Swaziland\", \"Tanzania\", \"Togo\", \"Tunisia\", \"Uganda\", \"Zambia\", \"Zimbabwe\"], \"locations\": [\"DZA\", \"AGO\", \"BEN\", \"BWA\", \"BFA\", \"BDI\", \"CMR\", \"CAF\", \"TCD\", \"COM\", \"COD\", \"COG\", \"CIV\", \"DJI\", \"EGY\", \"GNQ\", \"ERI\", \"ETH\", \"GAB\", \"GMB\", \"GHA\", \"GIN\", \"GNB\", \"KEN\", \"LSO\", \"LBR\", \"LBY\", \"MDG\", \"MWI\", \"MLI\", \"MRT\", \"MUS\", \"MAR\", \"MOZ\", \"NAM\", \"NER\", \"NGA\", \"REU\", \"RWA\", \"STP\", \"SEN\", \"SLE\", \"SOM\", \"ZAF\", \"SDN\", \"SWZ\", \"TZA\", \"TGO\", \"TUN\", \"UGA\", \"ZMB\", \"ZWE\"], \"name\": \"\", \"z\": [33333216, 12420476, 8078314, 1639131, 14326203, 8390505, 17696293, 4369038, 10238807, 710960, 64606759, 3800610, 18013409, 496374, 80264543, 551201, 4906585, 76511887, 1454867, 1688359, 22873338, 9947814, 1472041, 35610177, 2012649, 3193942, 6036914, 19167654, 13327079, 12031795, 3270065, 1250882, 33757175, 19951656, 2055080, 12894865, 135031164, 798094, 8860588, 199579, 12267493, 6144562, 9118773, 43997828, 42292929, 1133066, 38139640, 5701579, 10276158, 29170398, 11746035, 12311143], \"type\": \"choropleth\"}], \"name\": \"2007\"}]);\n",
       "                        }).then(function(){\n",
       "                            \n",
       "var gd = document.getElementById('46925cc1-786d-42e2-a040-357d645fe2c8');\n",
       "var x = new MutationObserver(function (mutations, observer) {{\n",
       "        var display = window.getComputedStyle(gd).display;\n",
       "        if (!display || display === 'none') {{\n",
       "            console.log([gd, 'removed!']);\n",
       "            Plotly.purge(gd);\n",
       "            observer.disconnect();\n",
       "        }}\n",
       "}});\n",
       "\n",
       "// Listen for the removal of the full notebook cells\n",
       "var notebookContainer = gd.closest('#notebook-container');\n",
       "if (notebookContainer) {{\n",
       "    x.observe(notebookContainer, {childList: true});\n",
       "}}\n",
       "\n",
       "// Listen for the clearing of the current output cell\n",
       "var outputEl = gd.closest('.output');\n",
       "if (outputEl) {{\n",
       "    x.observe(outputEl, {childList: true});\n",
       "}}\n",
       "\n",
       "                        })                };                });            </script>        </div>"
      ]
     },
     "metadata": {},
     "output_type": "display_data"
    }
   ],
   "source": [
    "fig = px.choropleth(africa_pop, locations=\"iso_alpha\",\n",
    "                    color=\"pop\",\n",
    "                    hover_name=\"country\", \n",
    "                    color_continuous_scale=px.colors.sequential.Plasma,\n",
    "                    animation_frame =\"year\")\n",
    "\n",
    "fig.update_layout(margin={\"r\":0,\"t\":0,\"l\":0,\"b\":0})\n",
    "fig.show()"
   ]
  },
  {
   "cell_type": "code",
   "execution_count": null,
   "metadata": {},
   "outputs": [],
   "source": [
    "The above graph shows population of Africa countries between 1977 and 2007"
   ]
  }
 ],
 "metadata": {
  "kernelspec": {
   "display_name": "Python 3",
   "language": "python",
   "name": "python3"
  },
  "language_info": {
   "codemirror_mode": {
    "name": "ipython",
    "version": 3
   },
   "file_extension": ".py",
   "mimetype": "text/x-python",
   "name": "python",
   "nbconvert_exporter": "python",
   "pygments_lexer": "ipython3",
   "version": "3.8.5"
  }
 },
 "nbformat": 4,
 "nbformat_minor": 4
}
